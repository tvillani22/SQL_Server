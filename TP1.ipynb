{
    "metadata": {
        "kernelspec": {
            "name": "SQL",
            "display_name": "SQL",
            "language": "sql"
        },
        "language_info": {
            "name": "sql",
            "version": ""
        }
    },
    "nbformat_minor": 2,
    "nbformat": 4,
    "cells": [
        {
            "cell_type": "markdown",
            "source": [
                "# TP1 - SQL"
            ],
            "metadata": {
                "azdata_cell_guid": "1d741d45-f443-4a2a-aef3-7ba80df67d26"
            }
        },
        {
            "cell_type": "code",
            "source": [
                "/*\n",
                "-- Para comparar performance en los que hay más de una alternativa\n",
                "SET STATISTICS IO ON\n",
                "SET STATISTICS TIME ON;\n",
                "*/"
            ],
            "metadata": {
                "azdata_cell_guid": "22f288b0-bba2-4608-afa0-ef2af90a369c",
                "language": "sql"
            },
            "outputs": [
                {
                    "output_type": "display_data",
                    "data": {
                        "text/html": "Commands completed successfully."
                    },
                    "metadata": {}
                },
                {
                    "output_type": "display_data",
                    "data": {
                        "text/html": "Total execution time: 00:00:00.010"
                    },
                    "metadata": {}
                }
            ],
            "execution_count": 2
        },
        {
            "cell_type": "markdown",
            "source": [
                "***\n",
                "**1. De la tabla [Person].[Contact], mostrar todos los datos de la tabla, ordenando por Apellido ascendente y nombre descendente.**"
            ],
            "metadata": {
                "azdata_cell_guid": "2619b433-ed6c-42b3-944c-5f5ec7a6f33d"
            }
        },
        {
            "cell_type": "code",
            "source": [
                "SELECT *\n",
                "FROM Person.Contact\n",
                "ORDER BY LastName, FirstName DESC;"
            ],
            "metadata": {
                "azdata_cell_guid": "99cb64a3-07cb-4f43-a257-9076a59b0ecb",
                "language": "sql",
                "tags": []
            },
            "outputs": [],
            "execution_count": null
        },
        {
            "cell_type": "markdown",
            "source": [
                "***\n",
                "**2. De la tabla [Person].[Contact], muestre los nombres de las personas que comienzan con 'D' o que comienzan con \"A\", ordenado alfabéticamente.**"
            ],
            "metadata": {
                "azdata_cell_guid": "46c791f0-575d-4449-8269-627b029d63da",
                "language": "sql"
            }
        },
        {
            "cell_type": "code",
            "source": [
                "SELECT DISTINCT pc.FirstName\n",
                "FROM Person.Contact AS pc\n",
                "WHERE pc.FirstName LIKE '[A/D]%'\n",
                "ORDER BY 1;\n",
                "\n",
                "--Alternativa más performante\n",
                "SELECT pc.FirstName\n",
                "FROM Person.Contact AS pc\n",
                "WHERE pc.FirstName LIKE '[A/D]%'\n",
                "GROUP BY pc.FirstName\n",
                "ORDER BY 1;"
            ],
            "metadata": {
                "azdata_cell_guid": "86f18309-5eb7-4239-9239-fe1f4497a2b5",
                "language": "sql",
                "tags": []
            },
            "outputs": [],
            "execution_count": null
        },
        {
            "cell_type": "markdown",
            "source": [
                "***\n",
                "**3 - De la tabla [Person].[Contact], muestra todos los registros que se modificaron después del 1/1/2013.**"
            ],
            "metadata": {
                "azdata_cell_guid": "6806505c-366e-4fdf-879f-cb5d66683287",
                "language": "sql"
            },
            "attachments": {}
        },
        {
            "cell_type": "code",
            "source": [
                "--Modifico año a 2003 porque las modificaciones van entre 1997 y 2005 y ordeno para evidenciar\n",
                "SELECT *\n",
                "FROM Person.Contact \n",
                "WHERE ModifiedDate > '2003-01-01'\n",
                "ORDER BY ModifiedDate;"
            ],
            "metadata": {
                "azdata_cell_guid": "c8989d28-1f38-4036-9656-d76d3985bb50",
                "language": "sql",
                "tags": []
            },
            "outputs": [],
            "execution_count": null
        },
        {
            "cell_type": "markdown",
            "source": [
                "***\n",
                "**4 - De la tabla [Person].[Address], muestre los nombres de las ciudades sin repetirlos.**"
            ],
            "metadata": {
                "azdata_cell_guid": "3df1b79d-ec6c-45d5-a886-5be2c7018aab",
                "language": "sql"
            },
            "attachments": {}
        },
        {
            "cell_type": "markdown",
            "source": [
                "NOTA: Se puede hacer tb con group by. Diferencia de performance de DIstitnc con group by. EL group by es mas performante."
            ],
            "metadata": {
                "azdata_cell_guid": "127405e9-e3fc-40a3-b477-390e8b720cf2"
            },
            "attachments": {}
        },
        {
            "cell_type": "code",
            "source": [
                "SELECT DISTINCT City \n",
                "FROM Person.Address;\n",
                "\n",
                "--Alternativa más performante\n",
                "SELECT City \n",
                "FROM Person.Address\n",
                "GROUP BY City;"
            ],
            "metadata": {
                "azdata_cell_guid": "3eb3731d-fb3c-4c53-97db-17328cf519d2",
                "language": "sql",
                "tags": []
            },
            "outputs": [
                {
                    "output_type": "display_data",
                    "data": {
                        "text/html": "(575 rows affected)"
                    },
                    "metadata": {}
                },
                {
                    "output_type": "display_data",
                    "data": {
                        "text/html": "(575 rows affected)"
                    },
                    "metadata": {}
                },
                {
                    "output_type": "display_data",
                    "data": {
                        "text/html": "Displaying Top 5 rows."
                    },
                    "metadata": {}
                },
                {
                    "output_type": "display_data",
                    "data": {
                        "text/html": "Displaying Top 5 rows."
                    },
                    "metadata": {}
                },
                {
                    "output_type": "display_data",
                    "data": {
                        "text/html": "Total execution time: 00:00:00.096"
                    },
                    "metadata": {}
                },
                {
                    "output_type": "execute_result",
                    "metadata": {},
                    "execution_count": 2,
                    "data": {
                        "application/vnd.dataresource+json": {
                            "schema": {
                                "fields": [
                                    {
                                        "name": "City"
                                    }
                                ]
                            },
                            "data": [
                                {
                                    "0": "Cheltenham"
                                },
                                {
                                    "0": "Kingsport"
                                },
                                {
                                    "0": "Suresnes"
                                },
                                {
                                    "0": "Baltimore"
                                },
                                {
                                    "0": "Reading"
                                }
                            ]
                        },
                        "text/html": [
                            "<table>",
                            "<tr><th>City</th></tr>",
                            "<tr><td>Cheltenham</td></tr>",
                            "<tr><td>Kingsport</td></tr>",
                            "<tr><td>Suresnes</td></tr>",
                            "<tr><td>Baltimore</td></tr>",
                            "<tr><td>Reading</td></tr>",
                            "</table>"
                        ]
                    }
                },
                {
                    "output_type": "execute_result",
                    "metadata": {},
                    "execution_count": 2,
                    "data": {
                        "application/vnd.dataresource+json": {
                            "schema": {
                                "fields": [
                                    {
                                        "name": "City"
                                    }
                                ]
                            },
                            "data": [
                                {
                                    "0": "Cheltenham"
                                },
                                {
                                    "0": "Kingsport"
                                },
                                {
                                    "0": "Suresnes"
                                },
                                {
                                    "0": "Baltimore"
                                },
                                {
                                    "0": "Reading"
                                }
                            ]
                        },
                        "text/html": [
                            "<table>",
                            "<tr><th>City</th></tr>",
                            "<tr><td>Cheltenham</td></tr>",
                            "<tr><td>Kingsport</td></tr>",
                            "<tr><td>Suresnes</td></tr>",
                            "<tr><td>Baltimore</td></tr>",
                            "<tr><td>Reading</td></tr>",
                            "</table>"
                        ]
                    }
                }
            ],
            "execution_count": 2
        },
        {
            "cell_type": "markdown",
            "source": [
                "***\n",
                "**5 - Mostrar la cantidad de ventas que se realizaron con cada tipo de tarjetas de credito (se deben trabajar las tablas SalesOrderHeader y CreditCard).**"
            ],
            "metadata": {
                "azdata_cell_guid": "9e282db5-f8c6-4e8e-b013-473e0d70cd1f",
                "language": "sql"
            }
        },
        {
            "cell_type": "code",
            "source": [
                "SELECT cc.CardType, COUNT(*) AS cantidad_ventas\n",
                "FROM Sales.SalesOrderHeader soh\n",
                "JOIN Sales.CreditCard cc\n",
                "    ON  soh.CreditCardID = cc.CreditCardID\n",
                "GROUP BY cc.CardType;"
            ],
            "metadata": {
                "azdata_cell_guid": "c59daa33-0d50-4066-9c6f-0eaf9319dabb",
                "language": "sql",
                "tags": []
            },
            "outputs": [
                {
                    "output_type": "display_data",
                    "data": {
                        "text/html": "(4 rows affected)"
                    },
                    "metadata": {}
                },
                {
                    "output_type": "display_data",
                    "data": {
                        "text/html": "Total execution time: 00:00:00.491"
                    },
                    "metadata": {}
                },
                {
                    "output_type": "execute_result",
                    "metadata": {},
                    "execution_count": 3,
                    "data": {
                        "application/vnd.dataresource+json": {
                            "schema": {
                                "fields": [
                                    {
                                        "name": "CardType"
                                    },
                                    {
                                        "name": "cantidad_ventas"
                                    }
                                ]
                            },
                            "data": [
                                {
                                    "0": "SuperiorCard",
                                    "1": "7634"
                                },
                                {
                                    "0": "Vista",
                                    "1": "7432"
                                },
                                {
                                    "0": "Distinguish",
                                    "1": "7590"
                                },
                                {
                                    "0": "ColonialVoice",
                                    "1": "7678"
                                }
                            ]
                        },
                        "text/html": [
                            "<table>",
                            "<tr><th>CardType</th><th>cantidad_ventas</th></tr>",
                            "<tr><td>SuperiorCard</td><td>7634</td></tr>",
                            "<tr><td>Vista</td><td>7432</td></tr>",
                            "<tr><td>Distinguish</td><td>7590</td></tr>",
                            "<tr><td>ColonialVoice</td><td>7678</td></tr>",
                            "</table>"
                        ]
                    }
                }
            ],
            "execution_count": 3
        },
        {
            "cell_type": "code",
            "source": [
                "-- Verifico que coincide con el total de ventas con tarjeta y que hay ventas sin tarjeta\n",
                "SELECT COUNT(*) num_vtas_con_tarjeta\n",
                "FROM  Sales.SalesOrderHeader\n",
                "WHERE CreditCardID IS NOT NULL;\n",
                "\n",
                "SELECT COUNT(*) num_vtas_sin_tarjeta\n",
                "FROM  Sales.SalesOrderHeader\n",
                "WHERE CreditCardID IS NULL;\n",
                "\n",
                "SELECT COUNT(*) num_vtas_total\n",
                "FROM  Sales.SalesOrderHeader;"
            ],
            "metadata": {
                "azdata_cell_guid": "fac89ff2-e213-4cd5-90db-c66bbb053867",
                "language": "sql",
                "tags": []
            },
            "outputs": [
                {
                    "output_type": "display_data",
                    "data": {
                        "text/html": "(1 row affected)"
                    },
                    "metadata": {}
                },
                {
                    "output_type": "display_data",
                    "data": {
                        "text/html": "(1 row affected)"
                    },
                    "metadata": {}
                },
                {
                    "output_type": "display_data",
                    "data": {
                        "text/html": "(1 row affected)"
                    },
                    "metadata": {}
                },
                {
                    "output_type": "display_data",
                    "data": {
                        "text/html": "Total execution time: 00:00:00.066"
                    },
                    "metadata": {}
                },
                {
                    "output_type": "execute_result",
                    "metadata": {},
                    "execution_count": 4,
                    "data": {
                        "application/vnd.dataresource+json": {
                            "schema": {
                                "fields": [
                                    {
                                        "name": "num_vtas_con_tarjeta"
                                    }
                                ]
                            },
                            "data": [
                                {
                                    "0": "30334"
                                }
                            ]
                        },
                        "text/html": [
                            "<table>",
                            "<tr><th>num_vtas_con_tarjeta</th></tr>",
                            "<tr><td>30334</td></tr>",
                            "</table>"
                        ]
                    }
                },
                {
                    "output_type": "execute_result",
                    "metadata": {},
                    "execution_count": 4,
                    "data": {
                        "application/vnd.dataresource+json": {
                            "schema": {
                                "fields": [
                                    {
                                        "name": "num_vtas_sin_tarjeta"
                                    }
                                ]
                            },
                            "data": [
                                {
                                    "0": "1131"
                                }
                            ]
                        },
                        "text/html": [
                            "<table>",
                            "<tr><th>num_vtas_sin_tarjeta</th></tr>",
                            "<tr><td>1131</td></tr>",
                            "</table>"
                        ]
                    }
                },
                {
                    "output_type": "execute_result",
                    "metadata": {},
                    "execution_count": 4,
                    "data": {
                        "application/vnd.dataresource+json": {
                            "schema": {
                                "fields": [
                                    {
                                        "name": "num_vtas_total"
                                    }
                                ]
                            },
                            "data": [
                                {
                                    "0": "31465"
                                }
                            ]
                        },
                        "text/html": [
                            "<table>",
                            "<tr><th>num_vtas_total</th></tr>",
                            "<tr><td>31465</td></tr>",
                            "</table>"
                        ]
                    }
                }
            ],
            "execution_count": 4
        },
        {
            "cell_type": "markdown",
            "source": [
                "***\n",
                "**6 - De la tabla [Sales].[CreditCard], muestre todas las tarjetas con un año de vencimiento anterior al 2018 inclusive.**"
            ],
            "metadata": {
                "azdata_cell_guid": "c6f6fed6-2687-4439-ac37-fd75c5cb2df7"
            },
            "attachments": {}
        },
        {
            "cell_type": "code",
            "source": [
                "-- Reemplazo 2018 por 2006 porque los vencimientos van entre 2005 y 2008\n",
                "SELECT *\n",
                "FROM Sales.CreditCard\n",
                "WHERE ExpYear <= 2006;"
            ],
            "metadata": {
                "azdata_cell_guid": "c3a1c497-9a79-4349-9fba-8f9f82913a1c",
                "language": "sql",
                "tags": []
            },
            "outputs": [
                {
                    "output_type": "display_data",
                    "data": {
                        "text/html": "(9550 rows affected)"
                    },
                    "metadata": {}
                },
                {
                    "output_type": "display_data",
                    "data": {
                        "text/html": "Displaying Top 5 rows."
                    },
                    "metadata": {}
                },
                {
                    "output_type": "display_data",
                    "data": {
                        "text/html": "Total execution time: 00:00:00.275"
                    },
                    "metadata": {}
                },
                {
                    "output_type": "execute_result",
                    "metadata": {},
                    "execution_count": 5,
                    "data": {
                        "application/vnd.dataresource+json": {
                            "schema": {
                                "fields": [
                                    {
                                        "name": "CreditCardID"
                                    },
                                    {
                                        "name": "CardType"
                                    },
                                    {
                                        "name": "CardNumber"
                                    },
                                    {
                                        "name": "ExpMonth"
                                    },
                                    {
                                        "name": "ExpYear"
                                    },
                                    {
                                        "name": "ModifiedDate"
                                    }
                                ]
                            },
                            "data": [
                                {
                                    "0": "1",
                                    "1": "SuperiorCard",
                                    "2": "33332664695310",
                                    "3": "11",
                                    "4": "2006",
                                    "5": "2003-08-30 00:00:00.000"
                                },
                                {
                                    "0": "2",
                                    "1": "Distinguish",
                                    "2": "55552127249722",
                                    "3": "8",
                                    "4": "2005",
                                    "5": "2004-01-06 00:00:00.000"
                                },
                                {
                                    "0": "3",
                                    "1": "ColonialVoice",
                                    "2": "77778344838353",
                                    "3": "7",
                                    "4": "2005",
                                    "5": "2004-02-15 00:00:00.000"
                                },
                                {
                                    "0": "4",
                                    "1": "ColonialVoice",
                                    "2": "77774915718248",
                                    "3": "7",
                                    "4": "2006",
                                    "5": "2003-06-21 00:00:00.000"
                                },
                                {
                                    "0": "5",
                                    "1": "Vista",
                                    "2": "11114404600042",
                                    "3": "4",
                                    "4": "2005",
                                    "5": "2003-03-05 00:00:00.000"
                                }
                            ]
                        },
                        "text/html": [
                            "<table>",
                            "<tr><th>CreditCardID</th><th>CardType</th><th>CardNumber</th><th>ExpMonth</th><th>ExpYear</th><th>ModifiedDate</th></tr>",
                            "<tr><td>1</td><td>SuperiorCard</td><td>33332664695310</td><td>11</td><td>2006</td><td>2003-08-30 00:00:00.000</td></tr>",
                            "<tr><td>2</td><td>Distinguish</td><td>55552127249722</td><td>8</td><td>2005</td><td>2004-01-06 00:00:00.000</td></tr>",
                            "<tr><td>3</td><td>ColonialVoice</td><td>77778344838353</td><td>7</td><td>2005</td><td>2004-02-15 00:00:00.000</td></tr>",
                            "<tr><td>4</td><td>ColonialVoice</td><td>77774915718248</td><td>7</td><td>2006</td><td>2003-06-21 00:00:00.000</td></tr>",
                            "<tr><td>5</td><td>Vista</td><td>11114404600042</td><td>4</td><td>2005</td><td>2003-03-05 00:00:00.000</td></tr>",
                            "</table>"
                        ]
                    }
                }
            ],
            "execution_count": 5
        },
        {
            "cell_type": "markdown",
            "source": [
                "***\n",
                "**7 - Traer de la tabla Person.Contact los datos de contacto de todos los que NO son empleados (HumanResources.Employee).**"
            ],
            "metadata": {
                "azdata_cell_guid": "f8d0afa1-9135-4959-9780-1e8c28d0409d"
            },
            "attachments": {}
        },
        {
            "cell_type": "code",
            "source": [
                "SELECT pc.*\n",
                "FROM Person.Contact pc\n",
                "LEFT JOIN HumanResources.Employee hre\n",
                "    ON pc.ContactID = hre.ContactID\n",
                "WHERE hre.ContactID IS NULL;\n",
                "\n",
                "--Alternativa menos performante (cheq)\n",
                "SELECT * \n",
                "FROM Person.Contact pc\n",
                "WHERE NOT EXISTS (SELECT 1\n",
                "                  FROM HumanResources.Employee hre\n",
                "                  WHERE pc.ContactID = hre.ContactID);\n",
                "\n",
                "--Alternativa menos performante aún (cheq)\n",
                "SELECT * \n",
                "FROM Person.Contact pc\n",
                "WHERE pc.ContactID NOT IN (SELECT ContactID FROM HumanResources.Employee);"
            ],
            "metadata": {
                "azdata_cell_guid": "2d52fab7-0066-4bd8-afed-d579845988a9",
                "language": "sql",
                "tags": []
            },
            "outputs": [],
            "execution_count": null
        },
        {
            "cell_type": "markdown",
            "source": [
                "***\n",
                "**8 - Crear una tabla [Test].[Tarjetas_vencidas] y cargar en la misma el resultado de la consulta 7.**"
            ],
            "metadata": {
                "azdata_cell_guid": "f9072234-0057-43f5-b112-d06aa6262729"
            },
            "attachments": {}
        },
        {
            "cell_type": "code",
            "source": [
                "-- Asumo que se refiere a la consulta 6\n",
                "-- Evito notación punto para no tener que crear una schema.\n",
                "SELECT *\n",
                "INTO Test_Tarjetas_vencidas \n",
                "FROM Sales.CreditCard   \n",
                "WHERE ExpYear <= 2006;"
            ],
            "metadata": {
                "azdata_cell_guid": "a4f52fb3-0c23-48b4-9546-a4f88348336b",
                "language": "sql",
                "tags": []
            },
            "outputs": [
                {
                    "output_type": "display_data",
                    "data": {
                        "text/html": "(9550 rows affected)"
                    },
                    "metadata": {}
                },
                {
                    "output_type": "display_data",
                    "data": {
                        "text/html": "Total execution time: 00:00:00.045"
                    },
                    "metadata": {}
                }
            ],
            "execution_count": 7
        },
        {
            "cell_type": "code",
            "source": [
                "--Verifico\n",
                "SELECT TOP(5) *\n",
                "FROM Test_Tarjetas_vencidas;"
            ],
            "metadata": {
                "azdata_cell_guid": "46df9914-dc89-4376-85f5-153689097458",
                "language": "sql",
                "tags": []
            },
            "outputs": [
                {
                    "output_type": "display_data",
                    "data": {
                        "text/html": "(5 rows affected)"
                    },
                    "metadata": {}
                },
                {
                    "output_type": "display_data",
                    "data": {
                        "text/html": "Total execution time: 00:00:00.027"
                    },
                    "metadata": {}
                },
                {
                    "output_type": "execute_result",
                    "metadata": {},
                    "execution_count": 8,
                    "data": {
                        "application/vnd.dataresource+json": {
                            "schema": {
                                "fields": [
                                    {
                                        "name": "CreditCardID"
                                    },
                                    {
                                        "name": "CardType"
                                    },
                                    {
                                        "name": "CardNumber"
                                    },
                                    {
                                        "name": "ExpMonth"
                                    },
                                    {
                                        "name": "ExpYear"
                                    },
                                    {
                                        "name": "ModifiedDate"
                                    }
                                ]
                            },
                            "data": [
                                {
                                    "0": "13143",
                                    "1": "SuperiorCard",
                                    "2": "33333170223564",
                                    "3": "7",
                                    "4": "2005",
                                    "5": "2001-07-22 00:00:00.000"
                                },
                                {
                                    "0": "13144",
                                    "1": "Vista",
                                    "2": "11116273994765",
                                    "3": "12",
                                    "4": "2006",
                                    "5": "2003-09-21 00:00:00.000"
                                },
                                {
                                    "0": "13147",
                                    "1": "Vista",
                                    "2": "11119813587127",
                                    "3": "8",
                                    "4": "2005",
                                    "5": "2003-10-11 00:00:00.000"
                                },
                                {
                                    "0": "13149",
                                    "1": "Distinguish",
                                    "2": "55554406235985",
                                    "3": "11",
                                    "4": "2006",
                                    "5": "2003-10-10 00:00:00.000"
                                },
                                {
                                    "0": "13150",
                                    "1": "Vista",
                                    "2": "11115264873485",
                                    "3": "5",
                                    "4": "2005",
                                    "5": "2004-03-15 00:00:00.000"
                                }
                            ]
                        },
                        "text/html": [
                            "<table>",
                            "<tr><th>CreditCardID</th><th>CardType</th><th>CardNumber</th><th>ExpMonth</th><th>ExpYear</th><th>ModifiedDate</th></tr>",
                            "<tr><td>13143</td><td>SuperiorCard</td><td>33333170223564</td><td>7</td><td>2005</td><td>2001-07-22 00:00:00.000</td></tr>",
                            "<tr><td>13144</td><td>Vista</td><td>11116273994765</td><td>12</td><td>2006</td><td>2003-09-21 00:00:00.000</td></tr>",
                            "<tr><td>13147</td><td>Vista</td><td>11119813587127</td><td>8</td><td>2005</td><td>2003-10-11 00:00:00.000</td></tr>",
                            "<tr><td>13149</td><td>Distinguish</td><td>55554406235985</td><td>11</td><td>2006</td><td>2003-10-10 00:00:00.000</td></tr>",
                            "<tr><td>13150</td><td>Vista</td><td>11115264873485</td><td>5</td><td>2005</td><td>2004-03-15 00:00:00.000</td></tr>",
                            "</table>"
                        ]
                    }
                }
            ],
            "execution_count": 8
        },
        {
            "cell_type": "markdown",
            "source": [
                "***\n",
                "**9 - En la tabla [Test].[Tarjetas_vencidas] crear una nueva columna \"bandera\" con tipo int.**"
            ],
            "metadata": {
                "azdata_cell_guid": "16ebc095-98b1-426d-9800-1de5140193b4"
            },
            "attachments": {}
        },
        {
            "cell_type": "code",
            "source": [
                "-- Uso 0 como valor default\n",
                "ALTER TABLE Test_Tarjetas_vencidas ADD bandera INT NOT NULL DEFAULT(0);"
            ],
            "metadata": {
                "azdata_cell_guid": "27efe684-57ee-464a-865a-9d5c7109c027",
                "language": "sql",
                "tags": []
            },
            "outputs": [
                {
                    "output_type": "display_data",
                    "data": {
                        "text/html": "Commands completed successfully."
                    },
                    "metadata": {}
                },
                {
                    "output_type": "display_data",
                    "data": {
                        "text/html": "Total execution time: 00:00:00.022"
                    },
                    "metadata": {}
                }
            ],
            "execution_count": 9
        },
        {
            "cell_type": "code",
            "source": [
                "--Verifico\n",
                "SELECT TOP(5) *\n",
                "FROM Test_Tarjetas_vencidas;"
            ],
            "metadata": {
                "azdata_cell_guid": "f3570147-18bb-4608-ad3c-a5be48a15e9b",
                "language": "sql",
                "tags": []
            },
            "outputs": [
                {
                    "output_type": "display_data",
                    "data": {
                        "text/html": "(5 rows affected)"
                    },
                    "metadata": {}
                },
                {
                    "output_type": "display_data",
                    "data": {
                        "text/html": "Total execution time: 00:00:00.036"
                    },
                    "metadata": {}
                },
                {
                    "output_type": "execute_result",
                    "metadata": {},
                    "execution_count": 10,
                    "data": {
                        "application/vnd.dataresource+json": {
                            "schema": {
                                "fields": [
                                    {
                                        "name": "CreditCardID"
                                    },
                                    {
                                        "name": "CardType"
                                    },
                                    {
                                        "name": "CardNumber"
                                    },
                                    {
                                        "name": "ExpMonth"
                                    },
                                    {
                                        "name": "ExpYear"
                                    },
                                    {
                                        "name": "ModifiedDate"
                                    },
                                    {
                                        "name": "bandera"
                                    }
                                ]
                            },
                            "data": [
                                {
                                    "0": "13143",
                                    "1": "SuperiorCard",
                                    "2": "33333170223564",
                                    "3": "7",
                                    "4": "2005",
                                    "5": "2001-07-22 00:00:00.000",
                                    "6": "0"
                                },
                                {
                                    "0": "13144",
                                    "1": "Vista",
                                    "2": "11116273994765",
                                    "3": "12",
                                    "4": "2006",
                                    "5": "2003-09-21 00:00:00.000",
                                    "6": "0"
                                },
                                {
                                    "0": "13147",
                                    "1": "Vista",
                                    "2": "11119813587127",
                                    "3": "8",
                                    "4": "2005",
                                    "5": "2003-10-11 00:00:00.000",
                                    "6": "0"
                                },
                                {
                                    "0": "13149",
                                    "1": "Distinguish",
                                    "2": "55554406235985",
                                    "3": "11",
                                    "4": "2006",
                                    "5": "2003-10-10 00:00:00.000",
                                    "6": "0"
                                },
                                {
                                    "0": "13150",
                                    "1": "Vista",
                                    "2": "11115264873485",
                                    "3": "5",
                                    "4": "2005",
                                    "5": "2004-03-15 00:00:00.000",
                                    "6": "0"
                                }
                            ]
                        },
                        "text/html": [
                            "<table>",
                            "<tr><th>CreditCardID</th><th>CardType</th><th>CardNumber</th><th>ExpMonth</th><th>ExpYear</th><th>ModifiedDate</th><th>bandera</th></tr>",
                            "<tr><td>13143</td><td>SuperiorCard</td><td>33333170223564</td><td>7</td><td>2005</td><td>2001-07-22 00:00:00.000</td><td>0</td></tr>",
                            "<tr><td>13144</td><td>Vista</td><td>11116273994765</td><td>12</td><td>2006</td><td>2003-09-21 00:00:00.000</td><td>0</td></tr>",
                            "<tr><td>13147</td><td>Vista</td><td>11119813587127</td><td>8</td><td>2005</td><td>2003-10-11 00:00:00.000</td><td>0</td></tr>",
                            "<tr><td>13149</td><td>Distinguish</td><td>55554406235985</td><td>11</td><td>2006</td><td>2003-10-10 00:00:00.000</td><td>0</td></tr>",
                            "<tr><td>13150</td><td>Vista</td><td>11115264873485</td><td>5</td><td>2005</td><td>2004-03-15 00:00:00.000</td><td>0</td></tr>",
                            "</table>"
                        ]
                    }
                }
            ],
            "execution_count": 10
        },
        {
            "cell_type": "markdown",
            "source": [
                "***\n",
                "**10 - Actualizar la tabla Test.Tarjetas_vencidas y dar valor 1 a la columna \"bandera\" cuando el vencimiento anterior del año 2015.**"
            ],
            "metadata": {
                "azdata_cell_guid": "330d079e-7ddf-4f57-90d2-fa2e36be7eef"
            },
            "attachments": {}
        },
        {
            "cell_type": "code",
            "source": [
                "--Elijo 2006 en lugar de 2015 porque los vencimientos van entre 2005 y 2008\n",
                "UPDATE Test_Tarjetas_vencidas\n",
                "SET bandera = 1\n",
                "WHERE ExpYear < 2006;"
            ],
            "metadata": {
                "azdata_cell_guid": "718acc09-604d-4292-a250-b92067570076",
                "language": "sql",
                "tags": []
            },
            "outputs": [
                {
                    "output_type": "display_data",
                    "data": {
                        "text/html": "(4743 rows affected)"
                    },
                    "metadata": {}
                },
                {
                    "output_type": "display_data",
                    "data": {
                        "text/html": "Total execution time: 00:00:00.233"
                    },
                    "metadata": {}
                }
            ],
            "execution_count": 11
        },
        {
            "cell_type": "code",
            "source": [
                "--Verifico\n",
                "SELECT TOP(5) *\n",
                "FROM Test_Tarjetas_vencidas\n",
                "ORDER BY bandera DESC;"
            ],
            "metadata": {
                "azdata_cell_guid": "e2dff41f-9599-4f1c-bc81-565626ac53af",
                "language": "sql",
                "tags": []
            },
            "outputs": [
                {
                    "output_type": "display_data",
                    "data": {
                        "text/html": "(5 rows affected)"
                    },
                    "metadata": {}
                },
                {
                    "output_type": "display_data",
                    "data": {
                        "text/html": "Total execution time: 00:00:00.034"
                    },
                    "metadata": {}
                },
                {
                    "output_type": "execute_result",
                    "metadata": {},
                    "execution_count": 12,
                    "data": {
                        "application/vnd.dataresource+json": {
                            "schema": {
                                "fields": [
                                    {
                                        "name": "CreditCardID"
                                    },
                                    {
                                        "name": "CardType"
                                    },
                                    {
                                        "name": "CardNumber"
                                    },
                                    {
                                        "name": "ExpMonth"
                                    },
                                    {
                                        "name": "ExpYear"
                                    },
                                    {
                                        "name": "ModifiedDate"
                                    },
                                    {
                                        "name": "bandera"
                                    }
                                ]
                            },
                            "data": [
                                {
                                    "0": "13147",
                                    "1": "Vista",
                                    "2": "11119813587127",
                                    "3": "8",
                                    "4": "2005",
                                    "5": "2003-10-11 00:00:00.000",
                                    "6": "1"
                                },
                                {
                                    "0": "13150",
                                    "1": "Vista",
                                    "2": "11115264873485",
                                    "3": "5",
                                    "4": "2005",
                                    "5": "2004-03-15 00:00:00.000",
                                    "6": "1"
                                },
                                {
                                    "0": "13143",
                                    "1": "SuperiorCard",
                                    "2": "33333170223564",
                                    "3": "7",
                                    "4": "2005",
                                    "5": "2001-07-22 00:00:00.000",
                                    "6": "1"
                                },
                                {
                                    "0": "13152",
                                    "1": "ColonialVoice",
                                    "2": "77775051853808",
                                    "3": "1",
                                    "4": "2005",
                                    "5": "2002-06-05 00:00:00.000",
                                    "6": "1"
                                },
                                {
                                    "0": "13155",
                                    "1": "ColonialVoice",
                                    "2": "77776381490516",
                                    "3": "9",
                                    "4": "2005",
                                    "5": "2004-04-29 00:00:00.000",
                                    "6": "1"
                                }
                            ]
                        },
                        "text/html": [
                            "<table>",
                            "<tr><th>CreditCardID</th><th>CardType</th><th>CardNumber</th><th>ExpMonth</th><th>ExpYear</th><th>ModifiedDate</th><th>bandera</th></tr>",
                            "<tr><td>13147</td><td>Vista</td><td>11119813587127</td><td>8</td><td>2005</td><td>2003-10-11 00:00:00.000</td><td>1</td></tr>",
                            "<tr><td>13150</td><td>Vista</td><td>11115264873485</td><td>5</td><td>2005</td><td>2004-03-15 00:00:00.000</td><td>1</td></tr>",
                            "<tr><td>13143</td><td>SuperiorCard</td><td>33333170223564</td><td>7</td><td>2005</td><td>2001-07-22 00:00:00.000</td><td>1</td></tr>",
                            "<tr><td>13152</td><td>ColonialVoice</td><td>77775051853808</td><td>1</td><td>2005</td><td>2002-06-05 00:00:00.000</td><td>1</td></tr>",
                            "<tr><td>13155</td><td>ColonialVoice</td><td>77776381490516</td><td>9</td><td>2005</td><td>2004-04-29 00:00:00.000</td><td>1</td></tr>",
                            "</table>"
                        ]
                    }
                }
            ],
            "execution_count": 12
        },
        {
            "cell_type": "code",
            "source": [
                "--Para eliminarla\n",
                "DROP TABLE Test_Tarjetas_vencidas;"
            ],
            "metadata": {
                "azdata_cell_guid": "376a15e9-2916-4a4e-9037-1453fb2459b3",
                "language": "sql",
                "tags": []
            },
            "outputs": [
                {
                    "output_type": "display_data",
                    "data": {
                        "text/html": "Commands completed successfully."
                    },
                    "metadata": {}
                },
                {
                    "output_type": "display_data",
                    "data": {
                        "text/html": "Total execution time: 00:00:00.017"
                    },
                    "metadata": {}
                }
            ],
            "execution_count": 13
        },
        {
            "cell_type": "markdown",
            "source": [
                "***\n",
                "**11 - Crear una vista donde se muestre lo desarrollado en el punto 2.**"
            ],
            "metadata": {
                "azdata_cell_guid": "7aefd305-9c48-4719-8e82-456e9ac161c5",
                "language": "sql"
            },
            "attachments": {}
        },
        {
            "cell_type": "code",
            "source": [
                "CREATE VIEW test_view\n",
                "AS SELECT pc.FirstName\n",
                "FROM Person.Contact AS pc\n",
                "WHERE pc.FirstName LIKE '[A/D]%'\n",
                "GROUP BY pc.FirstName;"
            ],
            "metadata": {
                "language": "sql",
                "azdata_cell_guid": "4f605457-1cf6-40bb-8746-920bf8584c26"
            },
            "outputs": [
                {
                    "output_type": "display_data",
                    "data": {
                        "text/html": "Commands completed successfully."
                    },
                    "metadata": {}
                },
                {
                    "output_type": "display_data",
                    "data": {
                        "text/html": "Total execution time: 00:00:00.023"
                    },
                    "metadata": {}
                }
            ],
            "execution_count": 14
        },
        {
            "cell_type": "code",
            "source": [
                "--Chequeo que está\n",
                "SELECT TOP(5) *\n",
                "FROM test_view;"
            ],
            "metadata": {
                "azdata_cell_guid": "624d58eb-4cad-45df-b321-94e422edee65",
                "language": "sql"
            },
            "outputs": [
                {
                    "output_type": "display_data",
                    "data": {
                        "text/html": "(5 rows affected)"
                    },
                    "metadata": {}
                },
                {
                    "output_type": "display_data",
                    "data": {
                        "text/html": "Total execution time: 00:00:00.059"
                    },
                    "metadata": {}
                },
                {
                    "output_type": "execute_result",
                    "metadata": {},
                    "execution_count": 15,
                    "data": {
                        "application/vnd.dataresource+json": {
                            "schema": {
                                "fields": [
                                    {
                                        "name": "FirstName"
                                    }
                                ]
                            },
                            "data": [
                                {
                                    "0": "Amy"
                                },
                                {
                                    "0": "Anna"
                                },
                                {
                                    "0": "Daniel"
                                },
                                {
                                    "0": "Douglas"
                                },
                                {
                                    "0": "Alberto"
                                }
                            ]
                        },
                        "text/html": [
                            "<table>",
                            "<tr><th>FirstName</th></tr>",
                            "<tr><td>Amy</td></tr>",
                            "<tr><td>Anna</td></tr>",
                            "<tr><td>Daniel</td></tr>",
                            "<tr><td>Douglas</td></tr>",
                            "<tr><td>Alberto</td></tr>",
                            "</table>"
                        ]
                    }
                }
            ],
            "execution_count": 15
        },
        {
            "cell_type": "code",
            "source": [
                "--Para eliminarla\n",
                "DROP VIEW IF EXISTS test_view;"
            ],
            "metadata": {
                "language": "sql",
                "azdata_cell_guid": "24ad1f37-2926-4813-a5ac-8bab21177e4b",
                "tags": []
            },
            "outputs": [],
            "execution_count": null
        },
        {
            "cell_type": "markdown",
            "source": [
                "***\n",
                "**12 - Crear una vista donde se muestren los datos de los empleados cuyo cumpleaños sea el dia de \"hoy\", Mostrando la fecha de nacimiento con el formato análogo a “15/11/2021”.**"
            ],
            "metadata": {
                "azdata_cell_guid": "5ffc28ce-4a2d-46e6-a4db-bfa83cbdb9b3",
                "language": "sql"
            },
            "attachments": {}
        },
        {
            "cell_type": "code",
            "source": [
                "CREATE VIEW birthday_view AS\n",
                "SELECT CONVERT(varchar, hre.BirthDate, 103) AS BirthDate\n",
                "FROM HumanResources.Employee hre\n",
                "JOIN Person.Contact pc\n",
                "      ON pc.ContactID = hre.ContactID\n",
                "WHERE (MONTH(hre.BirthDate) = MONTH(GETDATE()) AND DAY(hre.BirthDate) = DAY(GETDATE())) OR\n",
                "      (MONTH(hre.BirthDate) = 2 AND DAY(hre.BirthDate) = 29 AND MONTH(GETDATE()) = 3 AND DAY(GETDATE()) = 1)\n",
                "/*\n",
                "--Alternativa con FORMAT\n",
                "SELECT FORMAT(hre.BirthDate, 'dd/MM/yyyy') AS BirthDate, pc.*\n",
                "FROM HumanResources.Employee hre\n",
                "JOIN Person.Contact pc\n",
                "      ON pc.ContactID = hre.ContactID\n",
                "WHERE (MONTH(hre.BirthDate) = MONTH(GETDATE()) AND DAY(hre.BirthDate) = DAY(GETDATE())) OR\n",
                "      (FORMAT(hre.BirthDate, 'dd/MM') = '29/02' AND FORMAT(GETDATE(), 'dd/MM') = '01/03');\n",
                "*/"
            ],
            "metadata": {
                "language": "sql",
                "azdata_cell_guid": "f8fbcc5c-9ad5-49b8-ad6c-4e63f040d34a",
                "tags": []
            },
            "outputs": [
                {
                    "output_type": "display_data",
                    "data": {
                        "text/html": "Commands completed successfully."
                    },
                    "metadata": {}
                },
                {
                    "output_type": "display_data",
                    "data": {
                        "text/html": "Total execution time: 00:00:00.014"
                    },
                    "metadata": {}
                }
            ],
            "execution_count": 21
        },
        {
            "cell_type": "code",
            "source": [
                "--Verifico\n",
                "SELECT *\n",
                "FROM birthday_view;"
            ],
            "metadata": {
                "azdata_cell_guid": "a5610c3d-4ccd-4497-9afb-1daf5262e533",
                "language": "sql"
            },
            "outputs": [
                {
                    "output_type": "display_data",
                    "data": {
                        "text/html": "(3 rows affected)"
                    },
                    "metadata": {}
                },
                {
                    "output_type": "display_data",
                    "data": {
                        "text/html": "Total execution time: 00:00:00.036"
                    },
                    "metadata": {}
                },
                {
                    "output_type": "execute_result",
                    "metadata": {},
                    "execution_count": 22,
                    "data": {
                        "application/vnd.dataresource+json": {
                            "schema": {
                                "fields": [
                                    {
                                        "name": "BirthDate"
                                    }
                                ]
                            },
                            "data": [
                                {
                                    "0": "03/06/1977"
                                },
                                {
                                    "0": "03/06/1964"
                                },
                                {
                                    "0": "03/06/1951"
                                }
                            ]
                        },
                        "text/html": [
                            "<table>",
                            "<tr><th>BirthDate</th></tr>",
                            "<tr><td>03/06/1977</td></tr>",
                            "<tr><td>03/06/1964</td></tr>",
                            "<tr><td>03/06/1951</td></tr>",
                            "</table>"
                        ]
                    }
                }
            ],
            "execution_count": 22
        },
        {
            "cell_type": "code",
            "source": [
                "--Para eliminarla\n",
                "DROP VIEW IF EXISTS birthday_view;"
            ],
            "metadata": {
                "azdata_cell_guid": "6b62071c-2ed4-4bd0-9bef-21e37bf9025d",
                "language": "sql",
                "tags": []
            },
            "outputs": [
                {
                    "output_type": "display_data",
                    "data": {
                        "text/html": "Commands completed successfully."
                    },
                    "metadata": {}
                },
                {
                    "output_type": "display_data",
                    "data": {
                        "text/html": "Total execution time: 00:00:00.011"
                    },
                    "metadata": {}
                }
            ],
            "execution_count": 26
        },
        {
            "cell_type": "markdown",
            "source": [
                "***\n",
                "**12bis - A partir de la tabla SalesOrderHeader, Crear un Stored Procedure donde se muestren el dinero recaudado entre 2 fechas que se ingresaran por parametro.**\n"
            ],
            "metadata": {
                "azdata_cell_guid": "59cb5e47-9c3b-4a14-a62d-3a6ca57cf45d",
                "language": "sql"
            }
        },
        {
            "cell_type": "code",
            "source": [
                "CREATE PROCEDURE GetRevenueTest\n",
                "    @BeginDate date,   \n",
                "    @EndDate date   \n",
                "AS    \n",
                "    SELECT SUM(TotalDue) ingresos\n",
                "    FROM Sales.SalesOrderHeader\n",
                "    WHERE OrderDate BETWEEN @BeginDate AND @EndDate;"
            ],
            "metadata": {
                "language": "sql",
                "azdata_cell_guid": "5fa3c166-0307-41d9-8e62-be65d4becf87"
            },
            "outputs": [
                {
                    "output_type": "display_data",
                    "data": {
                        "text/html": "Commands completed successfully."
                    },
                    "metadata": {}
                },
                {
                    "output_type": "display_data",
                    "data": {
                        "text/html": "Total execution time: 00:00:00.019"
                    },
                    "metadata": {}
                }
            ],
            "execution_count": 23
        },
        {
            "cell_type": "code",
            "source": [
                "-- Ejecuto\n",
                "EXECUTE GetRevenueTest @BeginDate = N'2002-03-01', @EndDate = N'2003-03-01';\n",
                "-- O\n",
                "--EXECUTE GetRevenueTest N'2002-03-01', N'2003-03-01';"
            ],
            "metadata": {
                "language": "sql",
                "azdata_cell_guid": "f03ed192-96ec-4273-a1b8-bbb09d40a705"
            },
            "outputs": [
                {
                    "output_type": "display_data",
                    "data": {
                        "text/html": "(1 row affected)"
                    },
                    "metadata": {}
                },
                {
                    "output_type": "display_data",
                    "data": {
                        "text/html": "Total execution time: 00:00:00.135"
                    },
                    "metadata": {}
                },
                {
                    "output_type": "execute_result",
                    "metadata": {},
                    "execution_count": 24,
                    "data": {
                        "application/vnd.dataresource+json": {
                            "schema": {
                                "fields": [
                                    {
                                        "name": "ingresos"
                                    }
                                ]
                            },
                            "data": [
                                {
                                    "0": "43164261.7374"
                                }
                            ]
                        },
                        "text/html": [
                            "<table>",
                            "<tr><th>ingresos</th></tr>",
                            "<tr><td>43164261.7374</td></tr>",
                            "</table>"
                        ]
                    }
                }
            ],
            "execution_count": 24
        },
        {
            "cell_type": "code",
            "source": [
                "-- Para eliminarlo\n",
                "DROP  PROCEDURE IF EXISTS  GetRevenueTest;"
            ],
            "metadata": {
                "language": "sql",
                "azdata_cell_guid": "ba6eb738-b003-4641-8c12-65a888d5c6fe"
            },
            "outputs": [
                {
                    "output_type": "display_data",
                    "data": {
                        "text/html": "Commands completed successfully."
                    },
                    "metadata": {}
                },
                {
                    "output_type": "display_data",
                    "data": {
                        "text/html": "Total execution time: 00:00:00.009"
                    },
                    "metadata": {}
                }
            ],
            "execution_count": 25
        },
        {
            "cell_type": "markdown",
            "source": [
                "***\n",
                "**13 - Traer el nombre de las tablas pertenecientes al esquema Production.**"
            ],
            "metadata": {
                "azdata_cell_guid": "bd0f28ff-3854-4c60-aad5-da14181ba802",
                "language": "sql"
            }
        },
        {
            "cell_type": "code",
            "source": [
                "-- Incluyendo views\n",
                "SELECT *\n",
                "FROM INFORMATION_SCHEMA.TABLES\n",
                "WHERE TABLE_SCHEMA = 'Production'\n",
                "ORDER BY TABLE_NAME;"
            ],
            "metadata": {
                "language": "sql",
                "azdata_cell_guid": "5018504a-76c2-47b0-b9f0-1b478b2beae3"
            },
            "outputs": [
                {
                    "output_type": "display_data",
                    "data": {
                        "text/html": "(28 rows affected)"
                    },
                    "metadata": {}
                },
                {
                    "output_type": "display_data",
                    "data": {
                        "text/html": "Displaying Top 5 rows."
                    },
                    "metadata": {}
                },
                {
                    "output_type": "display_data",
                    "data": {
                        "text/html": "Total execution time: 00:00:00.078"
                    },
                    "metadata": {}
                },
                {
                    "output_type": "execute_result",
                    "metadata": {},
                    "execution_count": 27,
                    "data": {
                        "application/vnd.dataresource+json": {
                            "schema": {
                                "fields": [
                                    {
                                        "name": "TABLE_CATALOG"
                                    },
                                    {
                                        "name": "TABLE_SCHEMA"
                                    },
                                    {
                                        "name": "TABLE_NAME"
                                    },
                                    {
                                        "name": "TABLE_TYPE"
                                    }
                                ]
                            },
                            "data": [
                                {
                                    "0": "AdventureWorks",
                                    "1": "Production",
                                    "2": "BillOfMaterials",
                                    "3": "BASE TABLE"
                                },
                                {
                                    "0": "AdventureWorks",
                                    "1": "Production",
                                    "2": "Culture",
                                    "3": "BASE TABLE"
                                },
                                {
                                    "0": "AdventureWorks",
                                    "1": "Production",
                                    "2": "Document",
                                    "3": "BASE TABLE"
                                },
                                {
                                    "0": "AdventureWorks",
                                    "1": "Production",
                                    "2": "Illustration",
                                    "3": "BASE TABLE"
                                },
                                {
                                    "0": "AdventureWorks",
                                    "1": "Production",
                                    "2": "Location",
                                    "3": "BASE TABLE"
                                }
                            ]
                        },
                        "text/html": [
                            "<table>",
                            "<tr><th>TABLE_CATALOG</th><th>TABLE_SCHEMA</th><th>TABLE_NAME</th><th>TABLE_TYPE</th></tr>",
                            "<tr><td>AdventureWorks</td><td>Production</td><td>BillOfMaterials</td><td>BASE TABLE</td></tr>",
                            "<tr><td>AdventureWorks</td><td>Production</td><td>Culture</td><td>BASE TABLE</td></tr>",
                            "<tr><td>AdventureWorks</td><td>Production</td><td>Document</td><td>BASE TABLE</td></tr>",
                            "<tr><td>AdventureWorks</td><td>Production</td><td>Illustration</td><td>BASE TABLE</td></tr>",
                            "<tr><td>AdventureWorks</td><td>Production</td><td>Location</td><td>BASE TABLE</td></tr>",
                            "</table>"
                        ]
                    }
                }
            ],
            "execution_count": 27
        },
        {
            "cell_type": "code",
            "source": [
                "-- Sin incluir views\n",
                "SELECT *\n",
                "FROM INFORMATION_SCHEMA.TABLES\n",
                "WHERE TABLE_SCHEMA = 'Production' AND TABLE_TYPE = 'BASE TABLE'\n",
                "ORDER BY TABLE_NAME;"
            ],
            "metadata": {
                "azdata_cell_guid": "75ef1627-d446-418f-890c-c4a5f0837581",
                "language": "sql"
            },
            "outputs": [
                {
                    "output_type": "display_data",
                    "data": {
                        "text/html": "(25 rows affected)"
                    },
                    "metadata": {}
                },
                {
                    "output_type": "display_data",
                    "data": {
                        "text/html": "Displaying Top 5 rows."
                    },
                    "metadata": {}
                },
                {
                    "output_type": "display_data",
                    "data": {
                        "text/html": "Total execution time: 00:00:00.055"
                    },
                    "metadata": {}
                },
                {
                    "output_type": "execute_result",
                    "metadata": {},
                    "execution_count": 28,
                    "data": {
                        "application/vnd.dataresource+json": {
                            "schema": {
                                "fields": [
                                    {
                                        "name": "TABLE_CATALOG"
                                    },
                                    {
                                        "name": "TABLE_SCHEMA"
                                    },
                                    {
                                        "name": "TABLE_NAME"
                                    },
                                    {
                                        "name": "TABLE_TYPE"
                                    }
                                ]
                            },
                            "data": [
                                {
                                    "0": "AdventureWorks",
                                    "1": "Production",
                                    "2": "BillOfMaterials",
                                    "3": "BASE TABLE"
                                },
                                {
                                    "0": "AdventureWorks",
                                    "1": "Production",
                                    "2": "Culture",
                                    "3": "BASE TABLE"
                                },
                                {
                                    "0": "AdventureWorks",
                                    "1": "Production",
                                    "2": "Document",
                                    "3": "BASE TABLE"
                                },
                                {
                                    "0": "AdventureWorks",
                                    "1": "Production",
                                    "2": "Illustration",
                                    "3": "BASE TABLE"
                                },
                                {
                                    "0": "AdventureWorks",
                                    "1": "Production",
                                    "2": "Location",
                                    "3": "BASE TABLE"
                                }
                            ]
                        },
                        "text/html": [
                            "<table>",
                            "<tr><th>TABLE_CATALOG</th><th>TABLE_SCHEMA</th><th>TABLE_NAME</th><th>TABLE_TYPE</th></tr>",
                            "<tr><td>AdventureWorks</td><td>Production</td><td>BillOfMaterials</td><td>BASE TABLE</td></tr>",
                            "<tr><td>AdventureWorks</td><td>Production</td><td>Culture</td><td>BASE TABLE</td></tr>",
                            "<tr><td>AdventureWorks</td><td>Production</td><td>Document</td><td>BASE TABLE</td></tr>",
                            "<tr><td>AdventureWorks</td><td>Production</td><td>Illustration</td><td>BASE TABLE</td></tr>",
                            "<tr><td>AdventureWorks</td><td>Production</td><td>Location</td><td>BASE TABLE</td></tr>",
                            "</table>"
                        ]
                    }
                }
            ],
            "execution_count": 28
        },
        {
            "cell_type": "code",
            "source": [
                "-- Alternativa 2 (query a sys.tables y usando function schema_name, no incluye views)\n",
                "SELECT schema_name(schema_id) AS schema_name, name AS table_name\n",
                "FROM sys.tables\n",
                "WHERE schema_name(schema_id) = 'Production'\n",
                "ORDER BY table_name;"
            ],
            "metadata": {
                "language": "sql",
                "azdata_cell_guid": "5259397b-f32e-4e8a-bce7-e0f31fab5f77"
            },
            "outputs": [
                {
                    "output_type": "display_data",
                    "data": {
                        "text/html": "(25 rows affected)"
                    },
                    "metadata": {}
                },
                {
                    "output_type": "display_data",
                    "data": {
                        "text/html": "Displaying Top 5 rows."
                    },
                    "metadata": {}
                },
                {
                    "output_type": "display_data",
                    "data": {
                        "text/html": "Total execution time: 00:00:00.237"
                    },
                    "metadata": {}
                },
                {
                    "output_type": "execute_result",
                    "metadata": {},
                    "execution_count": 29,
                    "data": {
                        "application/vnd.dataresource+json": {
                            "schema": {
                                "fields": [
                                    {
                                        "name": "schema_name"
                                    },
                                    {
                                        "name": "table_name"
                                    }
                                ]
                            },
                            "data": [
                                {
                                    "0": "Production",
                                    "1": "BillOfMaterials"
                                },
                                {
                                    "0": "Production",
                                    "1": "Culture"
                                },
                                {
                                    "0": "Production",
                                    "1": "Document"
                                },
                                {
                                    "0": "Production",
                                    "1": "Illustration"
                                },
                                {
                                    "0": "Production",
                                    "1": "Location"
                                }
                            ]
                        },
                        "text/html": [
                            "<table>",
                            "<tr><th>schema_name</th><th>table_name</th></tr>",
                            "<tr><td>Production</td><td>BillOfMaterials</td></tr>",
                            "<tr><td>Production</td><td>Culture</td></tr>",
                            "<tr><td>Production</td><td>Document</td></tr>",
                            "<tr><td>Production</td><td>Illustration</td></tr>",
                            "<tr><td>Production</td><td>Location</td></tr>",
                            "</table>"
                        ]
                    }
                }
            ],
            "execution_count": 29
        },
        {
            "cell_type": "markdown",
            "source": [
                "***\n",
                "**14 - Traer por codigo la query utilizada para crear la vista correspondiente al punto 11.**"
            ],
            "metadata": {
                "azdata_cell_guid": "382da65f-ef32-4e92-8450-b9bbf48eefea",
                "language": "sql"
            }
        },
        {
            "cell_type": "code",
            "source": [
                "sp_helptext 'dbo.test_view';"
            ],
            "metadata": {
                "language": "sql",
                "azdata_cell_guid": "ba80b59f-c748-4e47-ad3a-4eb8db46db91"
            },
            "outputs": [
                {
                    "output_type": "display_data",
                    "data": {
                        "text/html": "Commands completed successfully."
                    },
                    "metadata": {}
                },
                {
                    "output_type": "display_data",
                    "data": {
                        "text/html": "Total execution time: 00:00:00.364"
                    },
                    "metadata": {}
                },
                {
                    "output_type": "execute_result",
                    "metadata": {},
                    "execution_count": 30,
                    "data": {
                        "application/vnd.dataresource+json": {
                            "schema": {
                                "fields": [
                                    {
                                        "name": "Text"
                                    }
                                ]
                            },
                            "data": [
                                {
                                    "0": "CREATE VIEW test_view\nAS SELECT pc.FirstName\nFROM Person.Contact AS pc\nWHERE pc.FirstName LIKE '[A/D]%'\nGROUP BY pc.FirstName;"
                                }
                            ]
                        },
                        "text/html": [
                            "<table>",
                            "<tr><th>Text</th></tr>",
                            "<tr><td>CREATE VIEW test_view\nAS SELECT pc.FirstName\nFROM Person.Contact AS pc\nWHERE pc.FirstName LIKE '[A/D]%'\nGROUP BY pc.FirstName;</td></tr>",
                            "</table>"
                        ]
                    }
                }
            ],
            "execution_count": 30
        },
        {
            "cell_type": "markdown",
            "source": [
                "***\n",
                "**15 - Traer por interfaz la query utilizada para crear la tabla Person.Contact.**"
            ],
            "metadata": {
                "azdata_cell_guid": "78e272aa-3ddb-488a-a83f-5fccefef3406",
                "language": "sql"
            },
            "attachments": {}
        },
        {
            "cell_type": "markdown",
            "source": [
                "**En Azure Data Studio:(el usado)** Abriendo el panel de servers sobre la izquierda de la pantalla, desplegando el server actual, el directorio `Tables`, haciendo click derecho sobre `Person.Contact` y seleccionando `Script as Create` me abre un archivo `.sql` con el `CREATE` statement correspondiente a esa tabla.\n",
                "\n",
                "**En SQL Server Management Studio:** Acá una [explicación con las imágenes de la GUI](https://docs.microsoft.com/en-us/sql/ssms/scripting/generate-scripts-sql-server-management-studio?view=sql-server-ver16)."
            ],
            "metadata": {
                "language": "sql",
                "azdata_cell_guid": "e2696922-302a-4818-956c-2803d2c8b379"
            },
            "attachments": {}
        },
        {
            "cell_type": "markdown",
            "source": [
                "***\n",
                "**16 - Traer por Codigo la query utilizada para crear la tabla Person.Contact.**"
            ],
            "metadata": {
                "azdata_cell_guid": "d4d836ef-701f-4932-9185-22fbb4167d3c",
                "language": "sql"
            }
        },
        {
            "cell_type": "markdown",
            "source": [
                "Entiendo que no hay análogo a la herramienta sp_helptext [(doc)](https://docs.microsoft.com/en-us/sql/relational-databases/system-stored-procedures/sp-helptext-transact-sql?view=sql-server-ver16) para tablas, y que hay algunos objetos de SQL Server para los cuales se debe obtener el script vía T-SQL o armando algo específico con SQL Server Management Objects Framework (aka SMO).\n",
                "\n",
                "Armando el script de T_SQL `recreate_creation_script.sql` y se puede correr el comando...\n",
                "```\n",
                "sqlcmd -U SA -d \"AdventureWorks\" -i recreate_creation_script.sql -o creation_script.sql\n",
                "```\n",
                "...y obtener el `creation_script.sql`."
            ],
            "metadata": {
                "language": "",
                "azdata_cell_guid": "917a5b7a-6eb4-4b2c-a26c-a968c862b16f"
            },
            "attachments": {}
        }
    ]
}