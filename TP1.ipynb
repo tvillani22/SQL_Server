{
    "metadata": {
        "kernelspec": {
            "name": "SQL",
            "display_name": "SQL",
            "language": "sql"
        },
        "language_info": {
            "name": "sql",
            "version": ""
        }
    },
    "nbformat_minor": 2,
    "nbformat": 4,
    "cells": [
        {
            "cell_type": "markdown",
            "source": [
                "# TP1 - SQL"
            ],
            "metadata": {
                "azdata_cell_guid": "1d741d45-f443-4a2a-aef3-7ba80df67d26"
            },
            "attachments": {}
        },
        {
            "cell_type": "markdown",
            "source": [
                "***\n",
                "**1. De la tabla [Person].[Contact], mostrar todos los datos de la tabla, ordenando por Apellido ascendente y nombre descendente.**"
            ],
            "metadata": {
                "azdata_cell_guid": "2619b433-ed6c-42b3-944c-5f5ec7a6f33d"
            },
            "attachments": {}
        },
        {
            "cell_type": "code",
            "source": [
                "SELECT *\n",
                "FROM Person.Contact\n",
                "ORDER BY LastName, FirstName DESC;"
            ],
            "metadata": {
                "azdata_cell_guid": "99cb64a3-07cb-4f43-a257-9076a59b0ecb",
                "language": "sql",
                "tags": []
            },
            "outputs": [
                {
                    "output_type": "display_data",
                    "data": {
                        "text/html": "(19972 rows affected)"
                    },
                    "metadata": {}
                },
                {
                    "output_type": "display_data",
                    "data": {
                        "text/html": "Displaying Top 10 rows."
                    },
                    "metadata": {}
                },
                {
                    "output_type": "display_data",
                    "data": {
                        "text/html": "Total execution time: 00:00:01.241"
                    },
                    "metadata": {}
                },
                {
                    "output_type": "execute_result",
                    "metadata": {},
                    "execution_count": 2,
                    "data": {
                        "application/vnd.dataresource+json": {
                            "schema": {
                                "fields": [
                                    {
                                        "name": "ContactID"
                                    },
                                    {
                                        "name": "NameStyle"
                                    },
                                    {
                                        "name": "Title"
                                    },
                                    {
                                        "name": "FirstName"
                                    },
                                    {
                                        "name": "MiddleName"
                                    },
                                    {
                                        "name": "LastName"
                                    },
                                    {
                                        "name": "Suffix"
                                    },
                                    {
                                        "name": "EmailAddress"
                                    },
                                    {
                                        "name": "EmailPromotion"
                                    },
                                    {
                                        "name": "Phone"
                                    },
                                    {
                                        "name": "PasswordHash"
                                    },
                                    {
                                        "name": "PasswordSalt"
                                    },
                                    {
                                        "name": "AdditionalContactInfo"
                                    },
                                    {
                                        "name": "rowguid"
                                    },
                                    {
                                        "name": "ModifiedDate"
                                    }
                                ]
                            },
                            "data": [
                                {
                                    "0": "1012",
                                    "1": "0",
                                    "2": "Mr.",
                                    "3": "Syed",
                                    "4": "E",
                                    "5": "Abbas",
                                    "6": "NULL",
                                    "7": "syed0@adventure-works.com",
                                    "8": "0",
                                    "9": "926-555-0182",
                                    "10": "x62ugnRF3meCWKvtl0uZETETq94Ed1cy2IlkOzeclGk=",
                                    "11": "exVxghg=",
                                    "12": "NULL",
                                    "13": "ff284881-01c2-4c77-95a7-4db96f59bb70",
                                    "14": "2003-04-08 00:00:00.000"
                                },
                                {
                                    "0": "2",
                                    "1": "0",
                                    "2": "Ms.",
                                    "3": "Catherine",
                                    "4": "R.",
                                    "5": "Abel",
                                    "6": "NULL",
                                    "7": "catherine0@adventure-works.com",
                                    "8": "1",
                                    "9": "747-555-0171",
                                    "10": "zh3goJUbYsPv92k4bVZuJtlLHwuvpQtu6uNcjkKSdF8=",
                                    "11": "rpyd5Tw=",
                                    "12": "<AdditionalContactInfo xmlns=\"http://schemas.microsoft.com/sqlserver/2004/07/adventure-works/ContactInfo\" xmlns:crm=\"http://schemas.microsoft.com/sqlserver/2004/07/adventure-works/ContactRecord\" xmlns:act=\"http://schemas.microsoft.com/sqlserver/2004/07/adventure-works/ContactTypes\">These are additional phone and pager numbers for the customer.<act:telephoneNumber><act:number>206-555-2222</act:number><act:SpecialInstructions>On weekends, contact the manager at this number.</act:SpecialInstructions></act:telephoneNumber><act:telephoneNumber><act:number>206-555-1234</act:number></act:telephoneNumber><act:pager><act:number>206-555-1244</act:number><act:SpecialInstructions>Do not page between 9:00 a.m. and 5:00 p.m.</act:SpecialInstructions></act:pager>Customer provided this additional home address.<act:homePostalAddress><act:Street>P.O Box 5</act:Street><act:City>Edmonds</act:City><act:StateProvince>WA</act:StateProvince><act:PostalCode>98431</act:PostalCode><act:CountryRegion>USA</act:CountryRegion><act:SpecialInstructions>This is an alternative address for billing only.</act:SpecialInstructions></act:homePostalAddress><act:eMail><act:eMailAddress>Joe@sample.com</act:eMailAddress><act:SpecialInstructions>Do not send e-mail for urgent issues. Use telephone instead.</act:SpecialInstructions></act:eMail><crm:ContactRecord date=\"2001-07-02Z\">Sales contacted this customer to explain new pricing.</crm:ContactRecord></AdditionalContactInfo>",
                                    "13": "d54e0552-c226-4c22-af3b-762ca854cdd3",
                                    "14": "2005-05-16 16:33:33.077"
                                },
                                {
                                    "0": "3",
                                    "1": "0",
                                    "2": "Ms.",
                                    "3": "Kim",
                                    "4": "NULL",
                                    "5": "Abercrombie",
                                    "6": "NULL",
                                    "7": "kim2@adventure-works.com",
                                    "8": "0",
                                    "9": "334-555-0137",
                                    "10": "4I8349R6c33cK+j1ef3dZt0JHOQ9MV7OvEXpCbwhQrQ=",
                                    "11": "rrgbG/U=",
                                    "12": "<AdditionalContactInfo xmlns=\"http://schemas.microsoft.com/sqlserver/2004/07/adventure-works/ContactInfo\" xmlns:crm=\"http://schemas.microsoft.com/sqlserver/2004/07/adventure-works/ContactRecord\" xmlns:act=\"http://schemas.microsoft.com/sqlserver/2004/07/adventure-works/ContactTypes\">Customer provided this telephone number for weekend access.<act:telephoneNumber><act:number>605-555-9877</act:number></act:telephoneNumber>secondary phone number.<act:pager><act:number>310-555-5432</act:number><act:SpecialInstructions>Page only if other contact attempts fail.</act:SpecialInstructions></act:pager>Additional home address.<act:homePostalAddress><act:Street>990 5th Avenue</act:Street><act:City>Redmond</act:City><act:StateProvince>WA</act:StateProvince><act:PostalCode>98052</act:PostalCode><act:CountryRegion>USA</act:CountryRegion><act:SpecialInstructions>Use this address for billing only.</act:SpecialInstructions></act:homePostalAddress><act:eMail><act:eMailAddress>Customer3@sample.com</act:eMailAddress><act:SpecialInstructions>Do not send e-mails for urgent issues. Use telephone instead.</act:SpecialInstructions></act:eMail><crm:ContactRecord date=\"2002-01-01Z\">Customer first contacted the sales department. This customer is interested in opening a new bicycle store.</crm:ContactRecord><crm:ContactRecord date=\"2002-01-05Z\">Linda in sales returned the call. Customer provided another telephone number for off-hour coverage.<act:telephoneNumber><act:number>302-555-7733</act:number></act:telephoneNumber>We are still negotiating possible long-term contract.</crm:ContactRecord></AdditionalContactInfo>",
                                    "13": "f7cbdb48-0b44-470e-9f37-7060446fbfb9",
                                    "14": "2005-05-16 16:33:33.077"
                                },
                                {
                                    "0": "1212",
                                    "1": "0",
                                    "2": "NULL",
                                    "3": "Kim",
                                    "4": "B",
                                    "5": "Abercrombie",
                                    "6": "NULL",
                                    "7": "kim1@adventure-works.com",
                                    "8": "2",
                                    "9": "208-555-0114",
                                    "10": "vjjIYGB99tLATbne8D7MRTg2+tkExYHjmH/pcWSg3nE=",
                                    "11": "wdPlbgo=",
                                    "12": "NULL",
                                    "13": "9a2163b3-2f4d-4f9a-91bd-07d326140f9c",
                                    "14": "2000-02-10 00:00:00.000"
                                },
                                {
                                    "0": "1370",
                                    "1": "0",
                                    "2": "NULL",
                                    "3": "Kim",
                                    "4": "NULL",
                                    "5": "Abercrombie",
                                    "6": "NULL",
                                    "7": "kim7@adventure-works.com",
                                    "8": "2",
                                    "9": "919-555-0100",
                                    "10": "xuOGFUll7tKR8m7BjFYjxFDBmoWVfGhCAgGdZEAIQnk=",
                                    "11": "nOnqNXQ=",
                                    "12": "NULL",
                                    "13": "24f01b54-7a67-4b48-9ecc-72545d36c0ac",
                                    "14": "1999-12-31 00:00:00.000"
                                },
                                {
                                    "0": "1557",
                                    "1": "0",
                                    "2": "NULL",
                                    "3": "Sam",
                                    "4": "NULL",
                                    "5": "Abolrous",
                                    "6": "NULL",
                                    "7": "sam1@adventure-works.com",
                                    "8": "1",
                                    "9": "567-555-0100",
                                    "10": "67iIQ3QtYdWUjAcKPHuHTbGg3VfBD8PqyG34GA5vwBE=",
                                    "11": "N1QfbWM=",
                                    "12": "NULL",
                                    "13": "78b8f41e-ed14-4e96-9531-ce9630e79e10",
                                    "14": "1999-03-25 00:00:00.000"
                                },
                                {
                                    "0": "1268",
                                    "1": "0",
                                    "2": "NULL",
                                    "3": "Hazem",
                                    "4": "E",
                                    "5": "Abolrous",
                                    "6": "NULL",
                                    "7": "hazem0@adventure-works.com",
                                    "8": "0",
                                    "9": "869-555-0125",
                                    "10": "6OUuduAA4r4KkOulbBskzHv2CbzYG2pWJlMGqt92siw=",
                                    "11": "ItRhrFs=",
                                    "12": "NULL",
                                    "13": "c2637051-25a5-4461-b06a-523119259430",
                                    "14": "1999-03-25 00:00:00.000"
                                },
                                {
                                    "0": "4",
                                    "1": "0",
                                    "2": "Sr.",
                                    "3": "Humberto",
                                    "4": "NULL",
                                    "5": "Acevedo",
                                    "6": "NULL",
                                    "7": "humberto0@adventure-works.com",
                                    "8": "2",
                                    "9": "599-555-0127",
                                    "10": "mvPHEF6EsbxXtC2E/oMjbwHUkLzZ36rOGbhK16lu30g=",
                                    "11": "F5qyyxs=",
                                    "12": "<AdditionalContactInfo xmlns=\"http://schemas.microsoft.com/sqlserver/2004/07/adventure-works/ContactInfo\" xmlns:crm=\"http://schemas.microsoft.com/sqlserver/2004/07/adventure-works/ContactRecord\" xmlns:act=\"http://schemas.microsoft.com/sqlserver/2004/07/adventure-works/ContactTypes\">Additional phone numbers.<act:mobile><act:number>750-555-8888</act:number><act:SpecialInstructions>If customer is not at work, call<act:telephoneNumber><act:number>222-555-4444</act:number></act:telephoneNumber></act:SpecialInstructions></act:mobile>Customer uses these two additional email addresses.<act:eMail><act:eMailAddress>Customer4@sample.com</act:eMailAddress></act:eMail><act:eMail><act:eMailAddress>Customer4@contoso.com</act:eMailAddress><act:SpecialInstructions>This is secondary email address.</act:SpecialInstructions></act:eMail><crm:ContactRecord date=\"2002-01-01Z\">Customer is expanding his sports and recreation business. Sales is negotiating large sales order with this customer. We called Joe at<act:mobile><act:number>750-555-8888</act:number></act:mobile>We are still working on competitive pricing. Looks promising, but we need additional marketing support to wrap this up.</crm:ContactRecord></AdditionalContactInfo>",
                                    "13": "5a41d336-84cf-44d7-b12b-83b64b511f7e",
                                    "14": "2005-05-16 16:33:33.090"
                                },
                                {
                                    "0": "1",
                                    "1": "0",
                                    "2": "Mr.",
                                    "3": "Gustavo",
                                    "4": "NULL",
                                    "5": "Achong",
                                    "6": "NULL",
                                    "7": "gustavo0@adventure-works.com",
                                    "8": "2",
                                    "9": "398-555-0132",
                                    "10": "GylyRwiKnyNPKbC1r4FSqA5YN9shIgsNik5ADyqStZc=",
                                    "11": "TVGHbhY=",
                                    "12": "<AdditionalContactInfo xmlns=\"http://schemas.microsoft.com/sqlserver/2004/07/adventure-works/ContactInfo\" xmlns:crm=\"http://schemas.microsoft.com/sqlserver/2004/07/adventure-works/ContactRecord\" xmlns:act=\"http://schemas.microsoft.com/sqlserver/2004/07/adventure-works/ContactTypes\"><act:telephoneNumber><act:number>425-555-1112</act:number><act:SpecialInstructions>Call only after 5:00 p.m.</act:SpecialInstructions></act:telephoneNumber>Note that the customer has a secondary home address.<act:homePostalAddress><act:Street>123 Oak</act:Street><act:City>Seattle</act:City><act:StateProvince>WA</act:StateProvince><act:PostalCode>98001</act:PostalCode><act:CountryRegion>USA</act:CountryRegion><act:SpecialInstructions>If correspondence to the primary address fails, try this one.</act:SpecialInstructions></act:homePostalAddress>Customer provided additional email address.<act:eMail><act:eMailAddress>customer1@sample.com</act:eMailAddress><act:SpecialInstructions>For urgent issues, do not send e-mail. Instead use this emergency contact phone<act:telephoneNumber><act:number>425-555-1111</act:number></act:telephoneNumber>.</act:SpecialInstructions></act:eMail><crm:ContactRecord date=\"2001-06-02Z\">This customer is interested in purchasing high-end bicycles for his family. The customer contacted Michael in sales.</crm:ContactRecord></AdditionalContactInfo>",
                                    "13": "d4c132d3-fcb5-4231-9dd5-888a54bec693",
                                    "14": "2005-05-16 16:33:33.060"
                                },
                                {
                                    "0": "5",
                                    "1": "0",
                                    "2": "Sra.",
                                    "3": "Pilar",
                                    "4": "NULL",
                                    "5": "Ackerman",
                                    "6": "NULL",
                                    "7": "pilar1@adventure-works.com",
                                    "8": "0",
                                    "9": "1 (11) 500 555-0132",
                                    "10": "cql0lRWe1D/voQgg+XSLgdjSKgHBuM1DonTpX9ru0x8=",
                                    "11": "/RPjvXw=",
                                    "12": "<AdditionalContactInfo xmlns=\"http://schemas.microsoft.com/sqlserver/2004/07/adventure-works/ContactInfo\" xmlns:crm=\"http://schemas.microsoft.com/sqlserver/2004/07/adventure-works/ContactRecord\" xmlns:act=\"http://schemas.microsoft.com/sqlserver/2004/07/adventure-works/ContactTypes\"><crm:ContactRecord date=\"2002-01-01Z\">Sales contacted this customer for the first time at<act:telephoneNumber><act:number>432-4444</act:number></act:telephoneNumber>We talked about the Road bike price drop and the new spring models. Customer provided us new mobile number<act:mobile><act:number>432-555-7809</act:number></act:mobile></crm:ContactRecord></AdditionalContactInfo>",
                                    "13": "df1fb8ab-2323-4330-9ab8-54e13ce6d8f9",
                                    "14": "2005-05-16 16:33:33.090"
                                }
                            ]
                        },
                        "text/html": [
                            "<table>",
                            "<tr><th>ContactID</th><th>NameStyle</th><th>Title</th><th>FirstName</th><th>MiddleName</th><th>LastName</th><th>Suffix</th><th>EmailAddress</th><th>EmailPromotion</th><th>Phone</th><th>PasswordHash</th><th>PasswordSalt</th><th>AdditionalContactInfo</th><th>rowguid</th><th>ModifiedDate</th></tr>",
                            "<tr><td>1012</td><td>0</td><td>Mr.</td><td>Syed</td><td>E</td><td>Abbas</td><td>NULL</td><td>syed0@adventure-works.com</td><td>0</td><td>926-555-0182</td><td>x62ugnRF3meCWKvtl0uZETETq94Ed1cy2IlkOzeclGk=</td><td>exVxghg=</td><td>NULL</td><td>ff284881-01c2-4c77-95a7-4db96f59bb70</td><td>2003-04-08 00:00:00.000</td></tr>",
                            "<tr><td>2</td><td>0</td><td>Ms.</td><td>Catherine</td><td>R.</td><td>Abel</td><td>NULL</td><td>catherine0@adventure-works.com</td><td>1</td><td>747-555-0171</td><td>zh3goJUbYsPv92k4bVZuJtlLHwuvpQtu6uNcjkKSdF8=</td><td>rpyd5Tw=</td><td>&lt;AdditionalContactInfo xmlns=&quot;http://schemas.microsoft.com/sqlserver/2004/07/adventure-works/ContactInfo&quot; xmlns:crm=&quot;http://schemas.microsoft.com/sqlserver/2004/07/adventure-works/ContactRecord&quot; xmlns:act=&quot;http://schemas.microsoft.com/sqlserver/2004/07/adventure-works/ContactTypes&quot;&gt;These are additional phone and pager numbers for the customer.&lt;act:telephoneNumber&gt;&lt;act:number&gt;206-555-2222&lt;/act:number&gt;&lt;act:SpecialInstructions&gt;On weekends, contact the manager at this number.&lt;/act:SpecialInstructions&gt;&lt;/act:telephoneNumber&gt;&lt;act:telephoneNumber&gt;&lt;act:number&gt;206-555-1234&lt;/act:number&gt;&lt;/act:telephoneNumber&gt;&lt;act:pager&gt;&lt;act:number&gt;206-555-1244&lt;/act:number&gt;&lt;act:SpecialInstructions&gt;Do not page between 9:00 a.m. and 5:00 p.m.&lt;/act:SpecialInstructions&gt;&lt;/act:pager&gt;Customer provided this additional home address.&lt;act:homePostalAddress&gt;&lt;act:Street&gt;P.O Box 5&lt;/act:Street&gt;&lt;act:City&gt;Edmonds&lt;/act:City&gt;&lt;act:StateProvince&gt;WA&lt;/act:StateProvince&gt;&lt;act:PostalCode&gt;98431&lt;/act:PostalCode&gt;&lt;act:CountryRegion&gt;USA&lt;/act:CountryRegion&gt;&lt;act:SpecialInstructions&gt;This is an alternative address for billing only.&lt;/act:SpecialInstructions&gt;&lt;/act:homePostalAddress&gt;&lt;act:eMail&gt;&lt;act:eMailAddress&gt;Joe@sample.com&lt;/act:eMailAddress&gt;&lt;act:SpecialInstructions&gt;Do not send e-mail for urgent issues. Use telephone instead.&lt;/act:SpecialInstructions&gt;&lt;/act:eMail&gt;&lt;crm:ContactRecord date=&quot;2001-07-02Z&quot;&gt;Sales contacted this customer to explain new pricing.&lt;/crm:ContactRecord&gt;&lt;/AdditionalContactInfo&gt;</td><td>d54e0552-c226-4c22-af3b-762ca854cdd3</td><td>2005-05-16 16:33:33.077</td></tr>",
                            "<tr><td>3</td><td>0</td><td>Ms.</td><td>Kim</td><td>NULL</td><td>Abercrombie</td><td>NULL</td><td>kim2@adventure-works.com</td><td>0</td><td>334-555-0137</td><td>4I8349R6c33cK+j1ef3dZt0JHOQ9MV7OvEXpCbwhQrQ=</td><td>rrgbG/U=</td><td>&lt;AdditionalContactInfo xmlns=&quot;http://schemas.microsoft.com/sqlserver/2004/07/adventure-works/ContactInfo&quot; xmlns:crm=&quot;http://schemas.microsoft.com/sqlserver/2004/07/adventure-works/ContactRecord&quot; xmlns:act=&quot;http://schemas.microsoft.com/sqlserver/2004/07/adventure-works/ContactTypes&quot;&gt;Customer provided this telephone number for weekend access.&lt;act:telephoneNumber&gt;&lt;act:number&gt;605-555-9877&lt;/act:number&gt;&lt;/act:telephoneNumber&gt;secondary phone number.&lt;act:pager&gt;&lt;act:number&gt;310-555-5432&lt;/act:number&gt;&lt;act:SpecialInstructions&gt;Page only if other contact attempts fail.&lt;/act:SpecialInstructions&gt;&lt;/act:pager&gt;Additional home address.&lt;act:homePostalAddress&gt;&lt;act:Street&gt;990 5th Avenue&lt;/act:Street&gt;&lt;act:City&gt;Redmond&lt;/act:City&gt;&lt;act:StateProvince&gt;WA&lt;/act:StateProvince&gt;&lt;act:PostalCode&gt;98052&lt;/act:PostalCode&gt;&lt;act:CountryRegion&gt;USA&lt;/act:CountryRegion&gt;&lt;act:SpecialInstructions&gt;Use this address for billing only.&lt;/act:SpecialInstructions&gt;&lt;/act:homePostalAddress&gt;&lt;act:eMail&gt;&lt;act:eMailAddress&gt;Customer3@sample.com&lt;/act:eMailAddress&gt;&lt;act:SpecialInstructions&gt;Do not send e-mails for urgent issues. Use telephone instead.&lt;/act:SpecialInstructions&gt;&lt;/act:eMail&gt;&lt;crm:ContactRecord date=&quot;2002-01-01Z&quot;&gt;Customer first contacted the sales department. This customer is interested in opening a new bicycle store.&lt;/crm:ContactRecord&gt;&lt;crm:ContactRecord date=&quot;2002-01-05Z&quot;&gt;Linda in sales returned the call. Customer provided another telephone number for off-hour coverage.&lt;act:telephoneNumber&gt;&lt;act:number&gt;302-555-7733&lt;/act:number&gt;&lt;/act:telephoneNumber&gt;We are still negotiating possible long-term contract.&lt;/crm:ContactRecord&gt;&lt;/AdditionalContactInfo&gt;</td><td>f7cbdb48-0b44-470e-9f37-7060446fbfb9</td><td>2005-05-16 16:33:33.077</td></tr>",
                            "<tr><td>1212</td><td>0</td><td>NULL</td><td>Kim</td><td>B</td><td>Abercrombie</td><td>NULL</td><td>kim1@adventure-works.com</td><td>2</td><td>208-555-0114</td><td>vjjIYGB99tLATbne8D7MRTg2+tkExYHjmH/pcWSg3nE=</td><td>wdPlbgo=</td><td>NULL</td><td>9a2163b3-2f4d-4f9a-91bd-07d326140f9c</td><td>2000-02-10 00:00:00.000</td></tr>",
                            "<tr><td>1370</td><td>0</td><td>NULL</td><td>Kim</td><td>NULL</td><td>Abercrombie</td><td>NULL</td><td>kim7@adventure-works.com</td><td>2</td><td>919-555-0100</td><td>xuOGFUll7tKR8m7BjFYjxFDBmoWVfGhCAgGdZEAIQnk=</td><td>nOnqNXQ=</td><td>NULL</td><td>24f01b54-7a67-4b48-9ecc-72545d36c0ac</td><td>1999-12-31 00:00:00.000</td></tr>",
                            "<tr><td>1557</td><td>0</td><td>NULL</td><td>Sam</td><td>NULL</td><td>Abolrous</td><td>NULL</td><td>sam1@adventure-works.com</td><td>1</td><td>567-555-0100</td><td>67iIQ3QtYdWUjAcKPHuHTbGg3VfBD8PqyG34GA5vwBE=</td><td>N1QfbWM=</td><td>NULL</td><td>78b8f41e-ed14-4e96-9531-ce9630e79e10</td><td>1999-03-25 00:00:00.000</td></tr>",
                            "<tr><td>1268</td><td>0</td><td>NULL</td><td>Hazem</td><td>E</td><td>Abolrous</td><td>NULL</td><td>hazem0@adventure-works.com</td><td>0</td><td>869-555-0125</td><td>6OUuduAA4r4KkOulbBskzHv2CbzYG2pWJlMGqt92siw=</td><td>ItRhrFs=</td><td>NULL</td><td>c2637051-25a5-4461-b06a-523119259430</td><td>1999-03-25 00:00:00.000</td></tr>",
                            "<tr><td>4</td><td>0</td><td>Sr.</td><td>Humberto</td><td>NULL</td><td>Acevedo</td><td>NULL</td><td>humberto0@adventure-works.com</td><td>2</td><td>599-555-0127</td><td>mvPHEF6EsbxXtC2E/oMjbwHUkLzZ36rOGbhK16lu30g=</td><td>F5qyyxs=</td><td>&lt;AdditionalContactInfo xmlns=&quot;http://schemas.microsoft.com/sqlserver/2004/07/adventure-works/ContactInfo&quot; xmlns:crm=&quot;http://schemas.microsoft.com/sqlserver/2004/07/adventure-works/ContactRecord&quot; xmlns:act=&quot;http://schemas.microsoft.com/sqlserver/2004/07/adventure-works/ContactTypes&quot;&gt;Additional phone numbers.&lt;act:mobile&gt;&lt;act:number&gt;750-555-8888&lt;/act:number&gt;&lt;act:SpecialInstructions&gt;If customer is not at work, call&lt;act:telephoneNumber&gt;&lt;act:number&gt;222-555-4444&lt;/act:number&gt;&lt;/act:telephoneNumber&gt;&lt;/act:SpecialInstructions&gt;&lt;/act:mobile&gt;Customer uses these two additional email addresses.&lt;act:eMail&gt;&lt;act:eMailAddress&gt;Customer4@sample.com&lt;/act:eMailAddress&gt;&lt;/act:eMail&gt;&lt;act:eMail&gt;&lt;act:eMailAddress&gt;Customer4@contoso.com&lt;/act:eMailAddress&gt;&lt;act:SpecialInstructions&gt;This is secondary email address.&lt;/act:SpecialInstructions&gt;&lt;/act:eMail&gt;&lt;crm:ContactRecord date=&quot;2002-01-01Z&quot;&gt;Customer is expanding his sports and recreation business. Sales is negotiating large sales order with this customer. We called Joe at&lt;act:mobile&gt;&lt;act:number&gt;750-555-8888&lt;/act:number&gt;&lt;/act:mobile&gt;We are still working on competitive pricing. Looks promising, but we need additional marketing support to wrap this up.&lt;/crm:ContactRecord&gt;&lt;/AdditionalContactInfo&gt;</td><td>5a41d336-84cf-44d7-b12b-83b64b511f7e</td><td>2005-05-16 16:33:33.090</td></tr>",
                            "<tr><td>1</td><td>0</td><td>Mr.</td><td>Gustavo</td><td>NULL</td><td>Achong</td><td>NULL</td><td>gustavo0@adventure-works.com</td><td>2</td><td>398-555-0132</td><td>GylyRwiKnyNPKbC1r4FSqA5YN9shIgsNik5ADyqStZc=</td><td>TVGHbhY=</td><td>&lt;AdditionalContactInfo xmlns=&quot;http://schemas.microsoft.com/sqlserver/2004/07/adventure-works/ContactInfo&quot; xmlns:crm=&quot;http://schemas.microsoft.com/sqlserver/2004/07/adventure-works/ContactRecord&quot; xmlns:act=&quot;http://schemas.microsoft.com/sqlserver/2004/07/adventure-works/ContactTypes&quot;&gt;&lt;act:telephoneNumber&gt;&lt;act:number&gt;425-555-1112&lt;/act:number&gt;&lt;act:SpecialInstructions&gt;Call only after 5:00 p.m.&lt;/act:SpecialInstructions&gt;&lt;/act:telephoneNumber&gt;Note that the customer has a secondary home address.&lt;act:homePostalAddress&gt;&lt;act:Street&gt;123 Oak&lt;/act:Street&gt;&lt;act:City&gt;Seattle&lt;/act:City&gt;&lt;act:StateProvince&gt;WA&lt;/act:StateProvince&gt;&lt;act:PostalCode&gt;98001&lt;/act:PostalCode&gt;&lt;act:CountryRegion&gt;USA&lt;/act:CountryRegion&gt;&lt;act:SpecialInstructions&gt;If correspondence to the primary address fails, try this one.&lt;/act:SpecialInstructions&gt;&lt;/act:homePostalAddress&gt;Customer provided additional email address.&lt;act:eMail&gt;&lt;act:eMailAddress&gt;customer1@sample.com&lt;/act:eMailAddress&gt;&lt;act:SpecialInstructions&gt;For urgent issues, do not send e-mail. Instead use this emergency contact phone&lt;act:telephoneNumber&gt;&lt;act:number&gt;425-555-1111&lt;/act:number&gt;&lt;/act:telephoneNumber&gt;.&lt;/act:SpecialInstructions&gt;&lt;/act:eMail&gt;&lt;crm:ContactRecord date=&quot;2001-06-02Z&quot;&gt;This customer is interested in purchasing high-end bicycles for his family. The customer contacted Michael in sales.&lt;/crm:ContactRecord&gt;&lt;/AdditionalContactInfo&gt;</td><td>d4c132d3-fcb5-4231-9dd5-888a54bec693</td><td>2005-05-16 16:33:33.060</td></tr>",
                            "<tr><td>5</td><td>0</td><td>Sra.</td><td>Pilar</td><td>NULL</td><td>Ackerman</td><td>NULL</td><td>pilar1@adventure-works.com</td><td>0</td><td>1 (11) 500 555-0132</td><td>cql0lRWe1D/voQgg+XSLgdjSKgHBuM1DonTpX9ru0x8=</td><td>/RPjvXw=</td><td>&lt;AdditionalContactInfo xmlns=&quot;http://schemas.microsoft.com/sqlserver/2004/07/adventure-works/ContactInfo&quot; xmlns:crm=&quot;http://schemas.microsoft.com/sqlserver/2004/07/adventure-works/ContactRecord&quot; xmlns:act=&quot;http://schemas.microsoft.com/sqlserver/2004/07/adventure-works/ContactTypes&quot;&gt;&lt;crm:ContactRecord date=&quot;2002-01-01Z&quot;&gt;Sales contacted this customer for the first time at&lt;act:telephoneNumber&gt;&lt;act:number&gt;432-4444&lt;/act:number&gt;&lt;/act:telephoneNumber&gt;We talked about the Road bike price drop and the new spring models. Customer provided us new mobile number&lt;act:mobile&gt;&lt;act:number&gt;432-555-7809&lt;/act:number&gt;&lt;/act:mobile&gt;&lt;/crm:ContactRecord&gt;&lt;/AdditionalContactInfo&gt;</td><td>df1fb8ab-2323-4330-9ab8-54e13ce6d8f9</td><td>2005-05-16 16:33:33.090</td></tr>",
                            "</table>"
                        ]
                    }
                }
            ],
            "execution_count": 2
        },
        {
            "cell_type": "markdown",
            "source": [
                "***\n",
                "**2. De la tabla [Person].[Contact], muestre los nombres de las personas que comienzan con 'D' o que comienzan con \"A\", ordenado alfabéticamente.**"
            ],
            "metadata": {
                "language": "sql",
                "azdata_cell_guid": "46c791f0-575d-4449-8269-627b029d63da"
            },
            "attachments": {}
        },
        {
            "cell_type": "code",
            "source": [
                "SELECT pc.FirstName\n",
                "FROM Person.Contact AS pc\n",
                "WHERE pc.FirstName LIKE 'D%' OR pc.FirstName LIKE 'A%'\n",
                "ORDER BY 1;"
            ],
            "metadata": {
                "azdata_cell_guid": "86f18309-5eb7-4239-9239-fe1f4497a2b5",
                "language": "sql",
                "tags": []
            },
            "outputs": [
                {
                    "output_type": "display_data",
                    "data": {
                        "text/html": "(3228 rows affected)"
                    },
                    "metadata": {}
                },
                {
                    "output_type": "display_data",
                    "data": {
                        "text/html": "Displaying Top 10 rows."
                    },
                    "metadata": {}
                },
                {
                    "output_type": "display_data",
                    "data": {
                        "text/html": "Total execution time: 00:00:00.086"
                    },
                    "metadata": {}
                },
                {
                    "output_type": "execute_result",
                    "metadata": {},
                    "execution_count": 3,
                    "data": {
                        "application/vnd.dataresource+json": {
                            "schema": {
                                "fields": [
                                    {
                                        "name": "FirstName"
                                    }
                                ]
                            },
                            "data": [
                                {
                                    "0": "A."
                                },
                                {
                                    "0": "A."
                                },
                                {
                                    "0": "A. Scott"
                                },
                                {
                                    "0": "Aaron"
                                },
                                {
                                    "0": "Aaron"
                                },
                                {
                                    "0": "Aaron"
                                },
                                {
                                    "0": "Aaron"
                                },
                                {
                                    "0": "Aaron"
                                },
                                {
                                    "0": "Aaron"
                                },
                                {
                                    "0": "Aaron"
                                }
                            ]
                        },
                        "text/html": [
                            "<table>",
                            "<tr><th>FirstName</th></tr>",
                            "<tr><td>A.</td></tr>",
                            "<tr><td>A.</td></tr>",
                            "<tr><td>A. Scott</td></tr>",
                            "<tr><td>Aaron</td></tr>",
                            "<tr><td>Aaron</td></tr>",
                            "<tr><td>Aaron</td></tr>",
                            "<tr><td>Aaron</td></tr>",
                            "<tr><td>Aaron</td></tr>",
                            "<tr><td>Aaron</td></tr>",
                            "<tr><td>Aaron</td></tr>",
                            "</table>"
                        ]
                    }
                }
            ],
            "execution_count": 3
        },
        {
            "cell_type": "markdown",
            "source": [
                "***\n",
                "**3 - De la tabla [Person].[Contact],muestra todos los registros que se modificaron después del 1/1/2013.**"
            ],
            "metadata": {
                "language": "sql",
                "azdata_cell_guid": "6806505c-366e-4fdf-879f-cb5d66683287"
            },
            "attachments": {}
        },
        {
            "cell_type": "code",
            "source": [
                "--Modifico año a 2003 porque las modificacines van entre 1997 y 2005\n",
                "SELECT *\n",
                "FROM Person.Contact \n",
                "WHERE ModifiedDate > '01-01-2003';"
            ],
            "metadata": {
                "language": "sql",
                "azdata_cell_guid": "c8989d28-1f38-4036-9656-d76d3985bb50",
                "tags": []
            },
            "outputs": [
                {
                    "output_type": "display_data",
                    "data": {
                        "text/html": "(15061 rows affected)"
                    },
                    "metadata": {}
                },
                {
                    "output_type": "display_data",
                    "data": {
                        "text/html": "Displaying Top 10 rows."
                    },
                    "metadata": {}
                },
                {
                    "output_type": "display_data",
                    "data": {
                        "text/html": "Total execution time: 00:00:00.612"
                    },
                    "metadata": {}
                },
                {
                    "output_type": "execute_result",
                    "metadata": {},
                    "execution_count": 6,
                    "data": {
                        "application/vnd.dataresource+json": {
                            "schema": {
                                "fields": [
                                    {
                                        "name": "ContactID"
                                    },
                                    {
                                        "name": "NameStyle"
                                    },
                                    {
                                        "name": "Title"
                                    },
                                    {
                                        "name": "FirstName"
                                    },
                                    {
                                        "name": "MiddleName"
                                    },
                                    {
                                        "name": "LastName"
                                    },
                                    {
                                        "name": "Suffix"
                                    },
                                    {
                                        "name": "EmailAddress"
                                    },
                                    {
                                        "name": "EmailPromotion"
                                    },
                                    {
                                        "name": "Phone"
                                    },
                                    {
                                        "name": "PasswordHash"
                                    },
                                    {
                                        "name": "PasswordSalt"
                                    },
                                    {
                                        "name": "AdditionalContactInfo"
                                    },
                                    {
                                        "name": "rowguid"
                                    },
                                    {
                                        "name": "ModifiedDate"
                                    }
                                ]
                            },
                            "data": [
                                {
                                    "0": "1",
                                    "1": "0",
                                    "2": "Mr.",
                                    "3": "Gustavo",
                                    "4": "NULL",
                                    "5": "Achong",
                                    "6": "NULL",
                                    "7": "gustavo0@adventure-works.com",
                                    "8": "2",
                                    "9": "398-555-0132",
                                    "10": "GylyRwiKnyNPKbC1r4FSqA5YN9shIgsNik5ADyqStZc=",
                                    "11": "TVGHbhY=",
                                    "12": "<AdditionalContactInfo xmlns=\"http://schemas.microsoft.com/sqlserver/2004/07/adventure-works/ContactInfo\" xmlns:crm=\"http://schemas.microsoft.com/sqlserver/2004/07/adventure-works/ContactRecord\" xmlns:act=\"http://schemas.microsoft.com/sqlserver/2004/07/adventure-works/ContactTypes\"><act:telephoneNumber><act:number>425-555-1112</act:number><act:SpecialInstructions>Call only after 5:00 p.m.</act:SpecialInstructions></act:telephoneNumber>Note that the customer has a secondary home address.<act:homePostalAddress><act:Street>123 Oak</act:Street><act:City>Seattle</act:City><act:StateProvince>WA</act:StateProvince><act:PostalCode>98001</act:PostalCode><act:CountryRegion>USA</act:CountryRegion><act:SpecialInstructions>If correspondence to the primary address fails, try this one.</act:SpecialInstructions></act:homePostalAddress>Customer provided additional email address.<act:eMail><act:eMailAddress>customer1@sample.com</act:eMailAddress><act:SpecialInstructions>For urgent issues, do not send e-mail. Instead use this emergency contact phone<act:telephoneNumber><act:number>425-555-1111</act:number></act:telephoneNumber>.</act:SpecialInstructions></act:eMail><crm:ContactRecord date=\"2001-06-02Z\">This customer is interested in purchasing high-end bicycles for his family. The customer contacted Michael in sales.</crm:ContactRecord></AdditionalContactInfo>",
                                    "13": "d4c132d3-fcb5-4231-9dd5-888a54bec693",
                                    "14": "2005-05-16 16:33:33.060"
                                },
                                {
                                    "0": "2",
                                    "1": "0",
                                    "2": "Ms.",
                                    "3": "Catherine",
                                    "4": "R.",
                                    "5": "Abel",
                                    "6": "NULL",
                                    "7": "catherine0@adventure-works.com",
                                    "8": "1",
                                    "9": "747-555-0171",
                                    "10": "zh3goJUbYsPv92k4bVZuJtlLHwuvpQtu6uNcjkKSdF8=",
                                    "11": "rpyd5Tw=",
                                    "12": "<AdditionalContactInfo xmlns=\"http://schemas.microsoft.com/sqlserver/2004/07/adventure-works/ContactInfo\" xmlns:crm=\"http://schemas.microsoft.com/sqlserver/2004/07/adventure-works/ContactRecord\" xmlns:act=\"http://schemas.microsoft.com/sqlserver/2004/07/adventure-works/ContactTypes\">These are additional phone and pager numbers for the customer.<act:telephoneNumber><act:number>206-555-2222</act:number><act:SpecialInstructions>On weekends, contact the manager at this number.</act:SpecialInstructions></act:telephoneNumber><act:telephoneNumber><act:number>206-555-1234</act:number></act:telephoneNumber><act:pager><act:number>206-555-1244</act:number><act:SpecialInstructions>Do not page between 9:00 a.m. and 5:00 p.m.</act:SpecialInstructions></act:pager>Customer provided this additional home address.<act:homePostalAddress><act:Street>P.O Box 5</act:Street><act:City>Edmonds</act:City><act:StateProvince>WA</act:StateProvince><act:PostalCode>98431</act:PostalCode><act:CountryRegion>USA</act:CountryRegion><act:SpecialInstructions>This is an alternative address for billing only.</act:SpecialInstructions></act:homePostalAddress><act:eMail><act:eMailAddress>Joe@sample.com</act:eMailAddress><act:SpecialInstructions>Do not send e-mail for urgent issues. Use telephone instead.</act:SpecialInstructions></act:eMail><crm:ContactRecord date=\"2001-07-02Z\">Sales contacted this customer to explain new pricing.</crm:ContactRecord></AdditionalContactInfo>",
                                    "13": "d54e0552-c226-4c22-af3b-762ca854cdd3",
                                    "14": "2005-05-16 16:33:33.077"
                                },
                                {
                                    "0": "3",
                                    "1": "0",
                                    "2": "Ms.",
                                    "3": "Kim",
                                    "4": "NULL",
                                    "5": "Abercrombie",
                                    "6": "NULL",
                                    "7": "kim2@adventure-works.com",
                                    "8": "0",
                                    "9": "334-555-0137",
                                    "10": "4I8349R6c33cK+j1ef3dZt0JHOQ9MV7OvEXpCbwhQrQ=",
                                    "11": "rrgbG/U=",
                                    "12": "<AdditionalContactInfo xmlns=\"http://schemas.microsoft.com/sqlserver/2004/07/adventure-works/ContactInfo\" xmlns:crm=\"http://schemas.microsoft.com/sqlserver/2004/07/adventure-works/ContactRecord\" xmlns:act=\"http://schemas.microsoft.com/sqlserver/2004/07/adventure-works/ContactTypes\">Customer provided this telephone number for weekend access.<act:telephoneNumber><act:number>605-555-9877</act:number></act:telephoneNumber>secondary phone number.<act:pager><act:number>310-555-5432</act:number><act:SpecialInstructions>Page only if other contact attempts fail.</act:SpecialInstructions></act:pager>Additional home address.<act:homePostalAddress><act:Street>990 5th Avenue</act:Street><act:City>Redmond</act:City><act:StateProvince>WA</act:StateProvince><act:PostalCode>98052</act:PostalCode><act:CountryRegion>USA</act:CountryRegion><act:SpecialInstructions>Use this address for billing only.</act:SpecialInstructions></act:homePostalAddress><act:eMail><act:eMailAddress>Customer3@sample.com</act:eMailAddress><act:SpecialInstructions>Do not send e-mails for urgent issues. Use telephone instead.</act:SpecialInstructions></act:eMail><crm:ContactRecord date=\"2002-01-01Z\">Customer first contacted the sales department. This customer is interested in opening a new bicycle store.</crm:ContactRecord><crm:ContactRecord date=\"2002-01-05Z\">Linda in sales returned the call. Customer provided another telephone number for off-hour coverage.<act:telephoneNumber><act:number>302-555-7733</act:number></act:telephoneNumber>We are still negotiating possible long-term contract.</crm:ContactRecord></AdditionalContactInfo>",
                                    "13": "f7cbdb48-0b44-470e-9f37-7060446fbfb9",
                                    "14": "2005-05-16 16:33:33.077"
                                },
                                {
                                    "0": "4",
                                    "1": "0",
                                    "2": "Sr.",
                                    "3": "Humberto",
                                    "4": "NULL",
                                    "5": "Acevedo",
                                    "6": "NULL",
                                    "7": "humberto0@adventure-works.com",
                                    "8": "2",
                                    "9": "599-555-0127",
                                    "10": "mvPHEF6EsbxXtC2E/oMjbwHUkLzZ36rOGbhK16lu30g=",
                                    "11": "F5qyyxs=",
                                    "12": "<AdditionalContactInfo xmlns=\"http://schemas.microsoft.com/sqlserver/2004/07/adventure-works/ContactInfo\" xmlns:crm=\"http://schemas.microsoft.com/sqlserver/2004/07/adventure-works/ContactRecord\" xmlns:act=\"http://schemas.microsoft.com/sqlserver/2004/07/adventure-works/ContactTypes\">Additional phone numbers.<act:mobile><act:number>750-555-8888</act:number><act:SpecialInstructions>If customer is not at work, call<act:telephoneNumber><act:number>222-555-4444</act:number></act:telephoneNumber></act:SpecialInstructions></act:mobile>Customer uses these two additional email addresses.<act:eMail><act:eMailAddress>Customer4@sample.com</act:eMailAddress></act:eMail><act:eMail><act:eMailAddress>Customer4@contoso.com</act:eMailAddress><act:SpecialInstructions>This is secondary email address.</act:SpecialInstructions></act:eMail><crm:ContactRecord date=\"2002-01-01Z\">Customer is expanding his sports and recreation business. Sales is negotiating large sales order with this customer. We called Joe at<act:mobile><act:number>750-555-8888</act:number></act:mobile>We are still working on competitive pricing. Looks promising, but we need additional marketing support to wrap this up.</crm:ContactRecord></AdditionalContactInfo>",
                                    "13": "5a41d336-84cf-44d7-b12b-83b64b511f7e",
                                    "14": "2005-05-16 16:33:33.090"
                                },
                                {
                                    "0": "5",
                                    "1": "0",
                                    "2": "Sra.",
                                    "3": "Pilar",
                                    "4": "NULL",
                                    "5": "Ackerman",
                                    "6": "NULL",
                                    "7": "pilar1@adventure-works.com",
                                    "8": "0",
                                    "9": "1 (11) 500 555-0132",
                                    "10": "cql0lRWe1D/voQgg+XSLgdjSKgHBuM1DonTpX9ru0x8=",
                                    "11": "/RPjvXw=",
                                    "12": "<AdditionalContactInfo xmlns=\"http://schemas.microsoft.com/sqlserver/2004/07/adventure-works/ContactInfo\" xmlns:crm=\"http://schemas.microsoft.com/sqlserver/2004/07/adventure-works/ContactRecord\" xmlns:act=\"http://schemas.microsoft.com/sqlserver/2004/07/adventure-works/ContactTypes\"><crm:ContactRecord date=\"2002-01-01Z\">Sales contacted this customer for the first time at<act:telephoneNumber><act:number>432-4444</act:number></act:telephoneNumber>We talked about the Road bike price drop and the new spring models. Customer provided us new mobile number<act:mobile><act:number>432-555-7809</act:number></act:mobile></crm:ContactRecord></AdditionalContactInfo>",
                                    "13": "df1fb8ab-2323-4330-9ab8-54e13ce6d8f9",
                                    "14": "2005-05-16 16:33:33.090"
                                },
                                {
                                    "0": "6",
                                    "1": "0",
                                    "2": "Ms.",
                                    "3": "Frances",
                                    "4": "B.",
                                    "5": "Adams",
                                    "6": "NULL",
                                    "7": "frances0@adventure-works.com",
                                    "8": "1",
                                    "9": "991-555-0183",
                                    "10": "bmEI+phqLCE2jKmotM8SBAICQD2IvZEmy8X0LmUpMaw=",
                                    "11": "jA7oD80=",
                                    "12": "<AdditionalContactInfo xmlns=\"http://schemas.microsoft.com/sqlserver/2004/07/adventure-works/ContactInfo\" xmlns:crm=\"http://schemas.microsoft.com/sqlserver/2004/07/adventure-works/ContactRecord\" xmlns:act=\"http://schemas.microsoft.com/sqlserver/2004/07/adventure-works/ContactTypes\">Additional email address.<act:eMail><act:eMailAddress>Customer6@sample.com</act:eMailAddress></act:eMail><crm:ContactRecord date=\"2002-07-01Z\">Customer called us. Interested in the new Touring models.</crm:ContactRecord></AdditionalContactInfo>",
                                    "13": "66980082-c186-40ae-972a-74560e78c1af",
                                    "14": "2005-05-16 16:33:33.090"
                                },
                                {
                                    "0": "7",
                                    "1": "0",
                                    "2": "Ms.",
                                    "3": "Margaret",
                                    "4": "J.",
                                    "5": "Smith",
                                    "6": "NULL",
                                    "7": "margaret0@adventure-works.com",
                                    "8": "0",
                                    "9": "959-555-0151",
                                    "10": "3cd7qJyW8ZTgRdwOO9nLYDZg2EM6lehJe/nqKlKKcPY=",
                                    "11": "i2U3DxA=",
                                    "12": "<AdditionalContactInfo xmlns=\"http://schemas.microsoft.com/sqlserver/2004/07/adventure-works/ContactInfo\" xmlns:crm=\"http://schemas.microsoft.com/sqlserver/2004/07/adventure-works/ContactRecord\" xmlns:act=\"http://schemas.microsoft.com/sqlserver/2004/07/adventure-works/ContactTypes\">These are additional phone numbers the customer provided.<act:telephoneNumber><act:number>206-555-2222</act:number><act:SpecialInstructions>Best time to call is Monday-Wednesday mornings.</act:SpecialInstructions></act:telephoneNumber><act:mobile><act:number>209-555-2122</act:number></act:mobile></AdditionalContactInfo>",
                                    "13": "691818e1-fc19-445f-b161-e401867368e3",
                                    "14": "2005-05-16 16:33:33.107"
                                },
                                {
                                    "0": "8",
                                    "1": "0",
                                    "2": "Ms.",
                                    "3": "Carla",
                                    "4": "J.",
                                    "5": "Adams",
                                    "6": "NULL",
                                    "7": "carla0@adventure-works.com",
                                    "8": "0",
                                    "9": "107-555-0138",
                                    "10": "BGtck5Z0HKYV7itEziPeWv3q5tbXMBxL7FZvbfhvITM=",
                                    "11": "Qck1Nwg=",
                                    "12": "<AdditionalContactInfo xmlns=\"http://schemas.microsoft.com/sqlserver/2004/07/adventure-works/ContactInfo\" xmlns:crm=\"http://schemas.microsoft.com/sqlserver/2004/07/adventure-works/ContactRecord\" xmlns:act=\"http://schemas.microsoft.com/sqlserver/2004/07/adventure-works/ContactTypes\"><crm:ContactRecord date=\"2002-09-02Z\">The customer is interested in the Road-450 and Mountain-500 series bicycles. Customer called us. We need to follow up. Pager <act:pager><act:number>206-555-1234</act:number></act:pager> is the best way to reach.</crm:ContactRecord></AdditionalContactInfo>",
                                    "13": "5f183b92-1648-4948-8937-47c9c10f0583",
                                    "14": "2005-05-16 16:33:33.107"
                                },
                                {
                                    "0": "9",
                                    "1": "0",
                                    "2": "Mr.",
                                    "3": "Jay",
                                    "4": "NULL",
                                    "5": "Adams",
                                    "6": "NULL",
                                    "7": "jay1@adventure-works.com",
                                    "8": "1",
                                    "9": "158-555-0142",
                                    "10": "jCFDuqUMHmknfadTRSkMvN0IDObtE/GslvN9q2Wa5xU=",
                                    "11": "117fxZM=",
                                    "12": "<AdditionalContactInfo xmlns=\"http://schemas.microsoft.com/sqlserver/2004/07/adventure-works/ContactInfo\" xmlns:crm=\"http://schemas.microsoft.com/sqlserver/2004/07/adventure-works/ContactRecord\" xmlns:act=\"http://schemas.microsoft.com/sqlserver/2004/07/adventure-works/ContactTypes\">Additional home and mobile phone numbers:<act:telephoneNumber><act:number>253-555-4689</act:number></act:telephoneNumber><act:mobile><act:number>253-555-4878</act:number></act:mobile></AdditionalContactInfo>",
                                    "13": "38256645-4b88-4169-b68a-5b0118f18445",
                                    "14": "2005-05-16 16:33:33.123"
                                },
                                {
                                    "0": "10",
                                    "1": "0",
                                    "2": "Mr.",
                                    "3": "Ronald",
                                    "4": "L.",
                                    "5": "Adina",
                                    "6": "NULL",
                                    "7": "ronald0@adventure-works.com",
                                    "8": "0",
                                    "9": "453-555-0165",
                                    "10": "YmeWmxJE2oDSQKdiBOxrlEB76ejPI+UjMfientepsO0=",
                                    "11": "AFWNDMw=",
                                    "12": "<AdditionalContactInfo xmlns=\"http://schemas.microsoft.com/sqlserver/2004/07/adventure-works/ContactInfo\" xmlns:crm=\"http://schemas.microsoft.com/sqlserver/2004/07/adventure-works/ContactRecord\" xmlns:act=\"http://schemas.microsoft.com/sqlserver/2004/07/adventure-works/ContactTypes\"><crm:ContactRecord date=\"2002-09-02Z\">Marketing called this customer. Customer provided this phone number for follow-up questions.<act:telephoneNumber><act:number>305-555-8888</act:number><act:SpecialInstructions>If no answer, try this pager number.<act:pager><act:number>308-555-3678</act:number></act:pager></act:SpecialInstructions></act:telephoneNumber> and this mobile number<act:mobile><act:number>308-555-4888</act:number></act:mobile></crm:ContactRecord></AdditionalContactInfo>",
                                    "13": "dbb05a55-2256-42b1-901e-824d28158911",
                                    "14": "2005-05-16 16:33:33.123"
                                }
                            ]
                        },
                        "text/html": [
                            "<table>",
                            "<tr><th>ContactID</th><th>NameStyle</th><th>Title</th><th>FirstName</th><th>MiddleName</th><th>LastName</th><th>Suffix</th><th>EmailAddress</th><th>EmailPromotion</th><th>Phone</th><th>PasswordHash</th><th>PasswordSalt</th><th>AdditionalContactInfo</th><th>rowguid</th><th>ModifiedDate</th></tr>",
                            "<tr><td>1</td><td>0</td><td>Mr.</td><td>Gustavo</td><td>NULL</td><td>Achong</td><td>NULL</td><td>gustavo0@adventure-works.com</td><td>2</td><td>398-555-0132</td><td>GylyRwiKnyNPKbC1r4FSqA5YN9shIgsNik5ADyqStZc=</td><td>TVGHbhY=</td><td>&lt;AdditionalContactInfo xmlns=&quot;http://schemas.microsoft.com/sqlserver/2004/07/adventure-works/ContactInfo&quot; xmlns:crm=&quot;http://schemas.microsoft.com/sqlserver/2004/07/adventure-works/ContactRecord&quot; xmlns:act=&quot;http://schemas.microsoft.com/sqlserver/2004/07/adventure-works/ContactTypes&quot;&gt;&lt;act:telephoneNumber&gt;&lt;act:number&gt;425-555-1112&lt;/act:number&gt;&lt;act:SpecialInstructions&gt;Call only after 5:00 p.m.&lt;/act:SpecialInstructions&gt;&lt;/act:telephoneNumber&gt;Note that the customer has a secondary home address.&lt;act:homePostalAddress&gt;&lt;act:Street&gt;123 Oak&lt;/act:Street&gt;&lt;act:City&gt;Seattle&lt;/act:City&gt;&lt;act:StateProvince&gt;WA&lt;/act:StateProvince&gt;&lt;act:PostalCode&gt;98001&lt;/act:PostalCode&gt;&lt;act:CountryRegion&gt;USA&lt;/act:CountryRegion&gt;&lt;act:SpecialInstructions&gt;If correspondence to the primary address fails, try this one.&lt;/act:SpecialInstructions&gt;&lt;/act:homePostalAddress&gt;Customer provided additional email address.&lt;act:eMail&gt;&lt;act:eMailAddress&gt;customer1@sample.com&lt;/act:eMailAddress&gt;&lt;act:SpecialInstructions&gt;For urgent issues, do not send e-mail. Instead use this emergency contact phone&lt;act:telephoneNumber&gt;&lt;act:number&gt;425-555-1111&lt;/act:number&gt;&lt;/act:telephoneNumber&gt;.&lt;/act:SpecialInstructions&gt;&lt;/act:eMail&gt;&lt;crm:ContactRecord date=&quot;2001-06-02Z&quot;&gt;This customer is interested in purchasing high-end bicycles for his family. The customer contacted Michael in sales.&lt;/crm:ContactRecord&gt;&lt;/AdditionalContactInfo&gt;</td><td>d4c132d3-fcb5-4231-9dd5-888a54bec693</td><td>2005-05-16 16:33:33.060</td></tr>",
                            "<tr><td>2</td><td>0</td><td>Ms.</td><td>Catherine</td><td>R.</td><td>Abel</td><td>NULL</td><td>catherine0@adventure-works.com</td><td>1</td><td>747-555-0171</td><td>zh3goJUbYsPv92k4bVZuJtlLHwuvpQtu6uNcjkKSdF8=</td><td>rpyd5Tw=</td><td>&lt;AdditionalContactInfo xmlns=&quot;http://schemas.microsoft.com/sqlserver/2004/07/adventure-works/ContactInfo&quot; xmlns:crm=&quot;http://schemas.microsoft.com/sqlserver/2004/07/adventure-works/ContactRecord&quot; xmlns:act=&quot;http://schemas.microsoft.com/sqlserver/2004/07/adventure-works/ContactTypes&quot;&gt;These are additional phone and pager numbers for the customer.&lt;act:telephoneNumber&gt;&lt;act:number&gt;206-555-2222&lt;/act:number&gt;&lt;act:SpecialInstructions&gt;On weekends, contact the manager at this number.&lt;/act:SpecialInstructions&gt;&lt;/act:telephoneNumber&gt;&lt;act:telephoneNumber&gt;&lt;act:number&gt;206-555-1234&lt;/act:number&gt;&lt;/act:telephoneNumber&gt;&lt;act:pager&gt;&lt;act:number&gt;206-555-1244&lt;/act:number&gt;&lt;act:SpecialInstructions&gt;Do not page between 9:00 a.m. and 5:00 p.m.&lt;/act:SpecialInstructions&gt;&lt;/act:pager&gt;Customer provided this additional home address.&lt;act:homePostalAddress&gt;&lt;act:Street&gt;P.O Box 5&lt;/act:Street&gt;&lt;act:City&gt;Edmonds&lt;/act:City&gt;&lt;act:StateProvince&gt;WA&lt;/act:StateProvince&gt;&lt;act:PostalCode&gt;98431&lt;/act:PostalCode&gt;&lt;act:CountryRegion&gt;USA&lt;/act:CountryRegion&gt;&lt;act:SpecialInstructions&gt;This is an alternative address for billing only.&lt;/act:SpecialInstructions&gt;&lt;/act:homePostalAddress&gt;&lt;act:eMail&gt;&lt;act:eMailAddress&gt;Joe@sample.com&lt;/act:eMailAddress&gt;&lt;act:SpecialInstructions&gt;Do not send e-mail for urgent issues. Use telephone instead.&lt;/act:SpecialInstructions&gt;&lt;/act:eMail&gt;&lt;crm:ContactRecord date=&quot;2001-07-02Z&quot;&gt;Sales contacted this customer to explain new pricing.&lt;/crm:ContactRecord&gt;&lt;/AdditionalContactInfo&gt;</td><td>d54e0552-c226-4c22-af3b-762ca854cdd3</td><td>2005-05-16 16:33:33.077</td></tr>",
                            "<tr><td>3</td><td>0</td><td>Ms.</td><td>Kim</td><td>NULL</td><td>Abercrombie</td><td>NULL</td><td>kim2@adventure-works.com</td><td>0</td><td>334-555-0137</td><td>4I8349R6c33cK+j1ef3dZt0JHOQ9MV7OvEXpCbwhQrQ=</td><td>rrgbG/U=</td><td>&lt;AdditionalContactInfo xmlns=&quot;http://schemas.microsoft.com/sqlserver/2004/07/adventure-works/ContactInfo&quot; xmlns:crm=&quot;http://schemas.microsoft.com/sqlserver/2004/07/adventure-works/ContactRecord&quot; xmlns:act=&quot;http://schemas.microsoft.com/sqlserver/2004/07/adventure-works/ContactTypes&quot;&gt;Customer provided this telephone number for weekend access.&lt;act:telephoneNumber&gt;&lt;act:number&gt;605-555-9877&lt;/act:number&gt;&lt;/act:telephoneNumber&gt;secondary phone number.&lt;act:pager&gt;&lt;act:number&gt;310-555-5432&lt;/act:number&gt;&lt;act:SpecialInstructions&gt;Page only if other contact attempts fail.&lt;/act:SpecialInstructions&gt;&lt;/act:pager&gt;Additional home address.&lt;act:homePostalAddress&gt;&lt;act:Street&gt;990 5th Avenue&lt;/act:Street&gt;&lt;act:City&gt;Redmond&lt;/act:City&gt;&lt;act:StateProvince&gt;WA&lt;/act:StateProvince&gt;&lt;act:PostalCode&gt;98052&lt;/act:PostalCode&gt;&lt;act:CountryRegion&gt;USA&lt;/act:CountryRegion&gt;&lt;act:SpecialInstructions&gt;Use this address for billing only.&lt;/act:SpecialInstructions&gt;&lt;/act:homePostalAddress&gt;&lt;act:eMail&gt;&lt;act:eMailAddress&gt;Customer3@sample.com&lt;/act:eMailAddress&gt;&lt;act:SpecialInstructions&gt;Do not send e-mails for urgent issues. Use telephone instead.&lt;/act:SpecialInstructions&gt;&lt;/act:eMail&gt;&lt;crm:ContactRecord date=&quot;2002-01-01Z&quot;&gt;Customer first contacted the sales department. This customer is interested in opening a new bicycle store.&lt;/crm:ContactRecord&gt;&lt;crm:ContactRecord date=&quot;2002-01-05Z&quot;&gt;Linda in sales returned the call. Customer provided another telephone number for off-hour coverage.&lt;act:telephoneNumber&gt;&lt;act:number&gt;302-555-7733&lt;/act:number&gt;&lt;/act:telephoneNumber&gt;We are still negotiating possible long-term contract.&lt;/crm:ContactRecord&gt;&lt;/AdditionalContactInfo&gt;</td><td>f7cbdb48-0b44-470e-9f37-7060446fbfb9</td><td>2005-05-16 16:33:33.077</td></tr>",
                            "<tr><td>4</td><td>0</td><td>Sr.</td><td>Humberto</td><td>NULL</td><td>Acevedo</td><td>NULL</td><td>humberto0@adventure-works.com</td><td>2</td><td>599-555-0127</td><td>mvPHEF6EsbxXtC2E/oMjbwHUkLzZ36rOGbhK16lu30g=</td><td>F5qyyxs=</td><td>&lt;AdditionalContactInfo xmlns=&quot;http://schemas.microsoft.com/sqlserver/2004/07/adventure-works/ContactInfo&quot; xmlns:crm=&quot;http://schemas.microsoft.com/sqlserver/2004/07/adventure-works/ContactRecord&quot; xmlns:act=&quot;http://schemas.microsoft.com/sqlserver/2004/07/adventure-works/ContactTypes&quot;&gt;Additional phone numbers.&lt;act:mobile&gt;&lt;act:number&gt;750-555-8888&lt;/act:number&gt;&lt;act:SpecialInstructions&gt;If customer is not at work, call&lt;act:telephoneNumber&gt;&lt;act:number&gt;222-555-4444&lt;/act:number&gt;&lt;/act:telephoneNumber&gt;&lt;/act:SpecialInstructions&gt;&lt;/act:mobile&gt;Customer uses these two additional email addresses.&lt;act:eMail&gt;&lt;act:eMailAddress&gt;Customer4@sample.com&lt;/act:eMailAddress&gt;&lt;/act:eMail&gt;&lt;act:eMail&gt;&lt;act:eMailAddress&gt;Customer4@contoso.com&lt;/act:eMailAddress&gt;&lt;act:SpecialInstructions&gt;This is secondary email address.&lt;/act:SpecialInstructions&gt;&lt;/act:eMail&gt;&lt;crm:ContactRecord date=&quot;2002-01-01Z&quot;&gt;Customer is expanding his sports and recreation business. Sales is negotiating large sales order with this customer. We called Joe at&lt;act:mobile&gt;&lt;act:number&gt;750-555-8888&lt;/act:number&gt;&lt;/act:mobile&gt;We are still working on competitive pricing. Looks promising, but we need additional marketing support to wrap this up.&lt;/crm:ContactRecord&gt;&lt;/AdditionalContactInfo&gt;</td><td>5a41d336-84cf-44d7-b12b-83b64b511f7e</td><td>2005-05-16 16:33:33.090</td></tr>",
                            "<tr><td>5</td><td>0</td><td>Sra.</td><td>Pilar</td><td>NULL</td><td>Ackerman</td><td>NULL</td><td>pilar1@adventure-works.com</td><td>0</td><td>1 (11) 500 555-0132</td><td>cql0lRWe1D/voQgg+XSLgdjSKgHBuM1DonTpX9ru0x8=</td><td>/RPjvXw=</td><td>&lt;AdditionalContactInfo xmlns=&quot;http://schemas.microsoft.com/sqlserver/2004/07/adventure-works/ContactInfo&quot; xmlns:crm=&quot;http://schemas.microsoft.com/sqlserver/2004/07/adventure-works/ContactRecord&quot; xmlns:act=&quot;http://schemas.microsoft.com/sqlserver/2004/07/adventure-works/ContactTypes&quot;&gt;&lt;crm:ContactRecord date=&quot;2002-01-01Z&quot;&gt;Sales contacted this customer for the first time at&lt;act:telephoneNumber&gt;&lt;act:number&gt;432-4444&lt;/act:number&gt;&lt;/act:telephoneNumber&gt;We talked about the Road bike price drop and the new spring models. Customer provided us new mobile number&lt;act:mobile&gt;&lt;act:number&gt;432-555-7809&lt;/act:number&gt;&lt;/act:mobile&gt;&lt;/crm:ContactRecord&gt;&lt;/AdditionalContactInfo&gt;</td><td>df1fb8ab-2323-4330-9ab8-54e13ce6d8f9</td><td>2005-05-16 16:33:33.090</td></tr>",
                            "<tr><td>6</td><td>0</td><td>Ms.</td><td>Frances</td><td>B.</td><td>Adams</td><td>NULL</td><td>frances0@adventure-works.com</td><td>1</td><td>991-555-0183</td><td>bmEI+phqLCE2jKmotM8SBAICQD2IvZEmy8X0LmUpMaw=</td><td>jA7oD80=</td><td>&lt;AdditionalContactInfo xmlns=&quot;http://schemas.microsoft.com/sqlserver/2004/07/adventure-works/ContactInfo&quot; xmlns:crm=&quot;http://schemas.microsoft.com/sqlserver/2004/07/adventure-works/ContactRecord&quot; xmlns:act=&quot;http://schemas.microsoft.com/sqlserver/2004/07/adventure-works/ContactTypes&quot;&gt;Additional email address.&lt;act:eMail&gt;&lt;act:eMailAddress&gt;Customer6@sample.com&lt;/act:eMailAddress&gt;&lt;/act:eMail&gt;&lt;crm:ContactRecord date=&quot;2002-07-01Z&quot;&gt;Customer called us. Interested in the new Touring models.&lt;/crm:ContactRecord&gt;&lt;/AdditionalContactInfo&gt;</td><td>66980082-c186-40ae-972a-74560e78c1af</td><td>2005-05-16 16:33:33.090</td></tr>",
                            "<tr><td>7</td><td>0</td><td>Ms.</td><td>Margaret</td><td>J.</td><td>Smith</td><td>NULL</td><td>margaret0@adventure-works.com</td><td>0</td><td>959-555-0151</td><td>3cd7qJyW8ZTgRdwOO9nLYDZg2EM6lehJe/nqKlKKcPY=</td><td>i2U3DxA=</td><td>&lt;AdditionalContactInfo xmlns=&quot;http://schemas.microsoft.com/sqlserver/2004/07/adventure-works/ContactInfo&quot; xmlns:crm=&quot;http://schemas.microsoft.com/sqlserver/2004/07/adventure-works/ContactRecord&quot; xmlns:act=&quot;http://schemas.microsoft.com/sqlserver/2004/07/adventure-works/ContactTypes&quot;&gt;These are additional phone numbers the customer provided.&lt;act:telephoneNumber&gt;&lt;act:number&gt;206-555-2222&lt;/act:number&gt;&lt;act:SpecialInstructions&gt;Best time to call is Monday-Wednesday mornings.&lt;/act:SpecialInstructions&gt;&lt;/act:telephoneNumber&gt;&lt;act:mobile&gt;&lt;act:number&gt;209-555-2122&lt;/act:number&gt;&lt;/act:mobile&gt;&lt;/AdditionalContactInfo&gt;</td><td>691818e1-fc19-445f-b161-e401867368e3</td><td>2005-05-16 16:33:33.107</td></tr>",
                            "<tr><td>8</td><td>0</td><td>Ms.</td><td>Carla</td><td>J.</td><td>Adams</td><td>NULL</td><td>carla0@adventure-works.com</td><td>0</td><td>107-555-0138</td><td>BGtck5Z0HKYV7itEziPeWv3q5tbXMBxL7FZvbfhvITM=</td><td>Qck1Nwg=</td><td>&lt;AdditionalContactInfo xmlns=&quot;http://schemas.microsoft.com/sqlserver/2004/07/adventure-works/ContactInfo&quot; xmlns:crm=&quot;http://schemas.microsoft.com/sqlserver/2004/07/adventure-works/ContactRecord&quot; xmlns:act=&quot;http://schemas.microsoft.com/sqlserver/2004/07/adventure-works/ContactTypes&quot;&gt;&lt;crm:ContactRecord date=&quot;2002-09-02Z&quot;&gt;The customer is interested in the Road-450 and Mountain-500 series bicycles. Customer called us. We need to follow up. Pager &lt;act:pager&gt;&lt;act:number&gt;206-555-1234&lt;/act:number&gt;&lt;/act:pager&gt; is the best way to reach.&lt;/crm:ContactRecord&gt;&lt;/AdditionalContactInfo&gt;</td><td>5f183b92-1648-4948-8937-47c9c10f0583</td><td>2005-05-16 16:33:33.107</td></tr>",
                            "<tr><td>9</td><td>0</td><td>Mr.</td><td>Jay</td><td>NULL</td><td>Adams</td><td>NULL</td><td>jay1@adventure-works.com</td><td>1</td><td>158-555-0142</td><td>jCFDuqUMHmknfadTRSkMvN0IDObtE/GslvN9q2Wa5xU=</td><td>117fxZM=</td><td>&lt;AdditionalContactInfo xmlns=&quot;http://schemas.microsoft.com/sqlserver/2004/07/adventure-works/ContactInfo&quot; xmlns:crm=&quot;http://schemas.microsoft.com/sqlserver/2004/07/adventure-works/ContactRecord&quot; xmlns:act=&quot;http://schemas.microsoft.com/sqlserver/2004/07/adventure-works/ContactTypes&quot;&gt;Additional home and mobile phone numbers:&lt;act:telephoneNumber&gt;&lt;act:number&gt;253-555-4689&lt;/act:number&gt;&lt;/act:telephoneNumber&gt;&lt;act:mobile&gt;&lt;act:number&gt;253-555-4878&lt;/act:number&gt;&lt;/act:mobile&gt;&lt;/AdditionalContactInfo&gt;</td><td>38256645-4b88-4169-b68a-5b0118f18445</td><td>2005-05-16 16:33:33.123</td></tr>",
                            "<tr><td>10</td><td>0</td><td>Mr.</td><td>Ronald</td><td>L.</td><td>Adina</td><td>NULL</td><td>ronald0@adventure-works.com</td><td>0</td><td>453-555-0165</td><td>YmeWmxJE2oDSQKdiBOxrlEB76ejPI+UjMfientepsO0=</td><td>AFWNDMw=</td><td>&lt;AdditionalContactInfo xmlns=&quot;http://schemas.microsoft.com/sqlserver/2004/07/adventure-works/ContactInfo&quot; xmlns:crm=&quot;http://schemas.microsoft.com/sqlserver/2004/07/adventure-works/ContactRecord&quot; xmlns:act=&quot;http://schemas.microsoft.com/sqlserver/2004/07/adventure-works/ContactTypes&quot;&gt;&lt;crm:ContactRecord date=&quot;2002-09-02Z&quot;&gt;Marketing called this customer. Customer provided this phone number for follow-up questions.&lt;act:telephoneNumber&gt;&lt;act:number&gt;305-555-8888&lt;/act:number&gt;&lt;act:SpecialInstructions&gt;If no answer, try this pager number.&lt;act:pager&gt;&lt;act:number&gt;308-555-3678&lt;/act:number&gt;&lt;/act:pager&gt;&lt;/act:SpecialInstructions&gt;&lt;/act:telephoneNumber&gt; and this mobile number&lt;act:mobile&gt;&lt;act:number&gt;308-555-4888&lt;/act:number&gt;&lt;/act:mobile&gt;&lt;/crm:ContactRecord&gt;&lt;/AdditionalContactInfo&gt;</td><td>dbb05a55-2256-42b1-901e-824d28158911</td><td>2005-05-16 16:33:33.123</td></tr>",
                            "</table>"
                        ]
                    }
                }
            ],
            "execution_count": 6
        },
        {
            "cell_type": "markdown",
            "source": [
                "***\n",
                "**4 - De la tabla [Person]. [Address], muestre los nombres de las ciudades sin repetirlos.**"
            ],
            "metadata": {
                "language": "sql",
                "azdata_cell_guid": "3df1b79d-ec6c-45d5-a886-5be2c7018aab"
            },
            "attachments": {}
        },
        {
            "cell_type": "code",
            "source": [
                "SELECT DISTINCT City \n",
                "FROM Person.Address;"
            ],
            "metadata": {
                "language": "sql",
                "azdata_cell_guid": "3eb3731d-fb3c-4c53-97db-17328cf519d2"
            },
            "outputs": [
                {
                    "output_type": "display_data",
                    "data": {
                        "text/html": "(575 rows affected)"
                    },
                    "metadata": {}
                },
                {
                    "output_type": "display_data",
                    "data": {
                        "text/html": "Displaying Top 10 rows."
                    },
                    "metadata": {}
                },
                {
                    "output_type": "display_data",
                    "data": {
                        "text/html": "Total execution time: 00:00:00.054"
                    },
                    "metadata": {}
                },
                {
                    "output_type": "execute_result",
                    "metadata": {},
                    "execution_count": 7,
                    "data": {
                        "application/vnd.dataresource+json": {
                            "schema": {
                                "fields": [
                                    {
                                        "name": "City"
                                    }
                                ]
                            },
                            "data": [
                                {
                                    "0": "Cheltenham"
                                },
                                {
                                    "0": "Kingsport"
                                },
                                {
                                    "0": "Suresnes"
                                },
                                {
                                    "0": "Baltimore"
                                },
                                {
                                    "0": "Reading"
                                },
                                {
                                    "0": "Fontana"
                                },
                                {
                                    "0": "Braunschweig"
                                },
                                {
                                    "0": "Sooke"
                                },
                                {
                                    "0": "Newark"
                                },
                                {
                                    "0": "Oxnard"
                                }
                            ]
                        },
                        "text/html": [
                            "<table>",
                            "<tr><th>City</th></tr>",
                            "<tr><td>Cheltenham</td></tr>",
                            "<tr><td>Kingsport</td></tr>",
                            "<tr><td>Suresnes</td></tr>",
                            "<tr><td>Baltimore</td></tr>",
                            "<tr><td>Reading</td></tr>",
                            "<tr><td>Fontana</td></tr>",
                            "<tr><td>Braunschweig</td></tr>",
                            "<tr><td>Sooke</td></tr>",
                            "<tr><td>Newark</td></tr>",
                            "<tr><td>Oxnard</td></tr>",
                            "</table>"
                        ]
                    }
                }
            ],
            "execution_count": 7
        },
        {
            "cell_type": "markdown",
            "source": [
                "***\n",
                "**5 - Mostrar la cantidad de ventas que se realizaron con cada tipo de tarjetas de credito (se deben trabajar las tablas SalesOrderHeader y CreditCard).**"
            ],
            "metadata": {
                "language": "sql",
                "azdata_cell_guid": "9e282db5-f8c6-4e8e-b013-473e0d70cd1f"
            },
            "attachments": {}
        },
        {
            "cell_type": "code",
            "source": [
                "SELECT cc.CardType, COUNT(*) AS cantidad_ventas\n",
                "FROM Sales.SalesOrderHeader soh\n",
                "JOIN Sales.CreditCard cc\n",
                "    ON  soh.CreditCardID = cc.CreditCardID\n",
                "GROUP BY cc.CardType;"
            ],
            "metadata": {
                "azdata_cell_guid": "c59daa33-0d50-4066-9c6f-0eaf9319dabb",
                "language": "sql",
                "tags": []
            },
            "outputs": [
                {
                    "output_type": "display_data",
                    "data": {
                        "text/html": "(4 rows affected)"
                    },
                    "metadata": {}
                },
                {
                    "output_type": "display_data",
                    "data": {
                        "text/html": "Total execution time: 00:00:00.104"
                    },
                    "metadata": {}
                },
                {
                    "output_type": "execute_result",
                    "execution_count": 42,
                    "data": {
                        "application/vnd.dataresource+json": {
                            "schema": {
                                "fields": [
                                    {
                                        "name": "CardType"
                                    },
                                    {
                                        "name": "cantidad_ventas"
                                    }
                                ]
                            },
                            "data": [
                                {
                                    "0": "SuperiorCard",
                                    "1": "7634"
                                },
                                {
                                    "0": "Vista",
                                    "1": "7432"
                                },
                                {
                                    "0": "Distinguish",
                                    "1": "7590"
                                },
                                {
                                    "0": "ColonialVoice",
                                    "1": "7678"
                                }
                            ]
                        },
                        "text/html": "<table><tr><th>CardType</th><th>cantidad_ventas</th></tr><tr><td>SuperiorCard</td><td>7634</td></tr><tr><td>Vista</td><td>7432</td></tr><tr><td>Distinguish</td><td>7590</td></tr><tr><td>ColonialVoice</td><td>7678</td></tr></table>"
                    },
                    "metadata": {}
                }
            ],
            "execution_count": 42
        },
        {
            "cell_type": "code",
            "source": [
                "-- Verifico que coincide con el total de ventas con tarjeta y que hay ventas sin tarjeta\n",
                "SELECT COUNT(*) num_vtas_con_tarjeta\n",
                "FROM  Sales.SalesOrderHeader\n",
                "WHERE CreditCardID IS NOT NULL;\n",
                "\n",
                "SELECT COUNT(*) num_vtas_sin_tarjeta\n",
                "FROM  Sales.SalesOrderHeader\n",
                "WHERE CreditCardID IS NULL;\n",
                "\n",
                "SELECT COUNT(*) num_vtas_total\n",
                "FROM  Sales.SalesOrderHeader;"
            ],
            "metadata": {
                "language": "sql",
                "azdata_cell_guid": "fac89ff2-e213-4cd5-90db-c66bbb053867"
            },
            "outputs": [
                {
                    "output_type": "display_data",
                    "data": {
                        "text/html": "(1 row affected)"
                    },
                    "metadata": {}
                },
                {
                    "output_type": "display_data",
                    "data": {
                        "text/html": "(1 row affected)"
                    },
                    "metadata": {}
                },
                {
                    "output_type": "display_data",
                    "data": {
                        "text/html": "(1 row affected)"
                    },
                    "metadata": {}
                },
                {
                    "output_type": "display_data",
                    "data": {
                        "text/html": "Total execution time: 00:00:00.076"
                    },
                    "metadata": {}
                },
                {
                    "output_type": "execute_result",
                    "metadata": {},
                    "execution_count": 40,
                    "data": {
                        "application/vnd.dataresource+json": {
                            "schema": {
                                "fields": [
                                    {
                                        "name": "num_vtas_con_tarjeta"
                                    }
                                ]
                            },
                            "data": [
                                {
                                    "0": "30334"
                                }
                            ]
                        },
                        "text/html": [
                            "<table>",
                            "<tr><th>num_vtas_con_tarjeta</th></tr>",
                            "<tr><td>30334</td></tr>",
                            "</table>"
                        ]
                    }
                },
                {
                    "output_type": "execute_result",
                    "metadata": {},
                    "execution_count": 40,
                    "data": {
                        "application/vnd.dataresource+json": {
                            "schema": {
                                "fields": [
                                    {
                                        "name": "num_vtas_sin_tarjeta"
                                    }
                                ]
                            },
                            "data": [
                                {
                                    "0": "1131"
                                }
                            ]
                        },
                        "text/html": [
                            "<table>",
                            "<tr><th>num_vtas_sin_tarjeta</th></tr>",
                            "<tr><td>1131</td></tr>",
                            "</table>"
                        ]
                    }
                },
                {
                    "output_type": "execute_result",
                    "metadata": {},
                    "execution_count": 40,
                    "data": {
                        "application/vnd.dataresource+json": {
                            "schema": {
                                "fields": [
                                    {
                                        "name": "num_vtas_total"
                                    }
                                ]
                            },
                            "data": [
                                {
                                    "0": "31465"
                                }
                            ]
                        },
                        "text/html": [
                            "<table>",
                            "<tr><th>num_vtas_total</th></tr>",
                            "<tr><td>31465</td></tr>",
                            "</table>"
                        ]
                    }
                }
            ],
            "execution_count": 40
        },
        {
            "cell_type": "markdown",
            "source": [
                "***\n",
                "**6 - De la tabla [Sales]. [CreditCard], muestre todas las tarjetas con un año de vencimiento anterior al 2018.**"
            ],
            "metadata": {
                "azdata_cell_guid": "c6f6fed6-2687-4439-ac37-fd75c5cb2df7"
            },
            "attachments": {}
        },
        {
            "cell_type": "code",
            "source": [
                "-- Reemplazo 2018 por 2006 porque los vencimientos van entre 2005 y 2008\n",
                "SELECT *\n",
                "FROM Sales.CreditCard\n",
                "WHERE ExpYear < '2006';"
            ],
            "metadata": {
                "azdata_cell_guid": "c3a1c497-9a79-4349-9fba-8f9f82913a1c",
                "language": "sql"
            },
            "outputs": [
                {
                    "output_type": "display_data",
                    "data": {
                        "text/html": "(4743 rows affected)"
                    },
                    "metadata": {}
                },
                {
                    "output_type": "display_data",
                    "data": {
                        "text/html": "Displaying Top 10 rows."
                    },
                    "metadata": {}
                },
                {
                    "output_type": "display_data",
                    "data": {
                        "text/html": "Total execution time: 00:00:00.136"
                    },
                    "metadata": {}
                },
                {
                    "output_type": "execute_result",
                    "metadata": {},
                    "execution_count": 22,
                    "data": {
                        "application/vnd.dataresource+json": {
                            "schema": {
                                "fields": [
                                    {
                                        "name": "CreditCardID"
                                    },
                                    {
                                        "name": "CardType"
                                    },
                                    {
                                        "name": "CardNumber"
                                    },
                                    {
                                        "name": "ExpMonth"
                                    },
                                    {
                                        "name": "ExpYear"
                                    },
                                    {
                                        "name": "ModifiedDate"
                                    }
                                ]
                            },
                            "data": [
                                {
                                    "0": "2",
                                    "1": "Distinguish",
                                    "2": "55552127249722",
                                    "3": "8",
                                    "4": "2005",
                                    "5": "2004-01-06 00:00:00.000"
                                },
                                {
                                    "0": "3",
                                    "1": "ColonialVoice",
                                    "2": "77778344838353",
                                    "3": "7",
                                    "4": "2005",
                                    "5": "2004-02-15 00:00:00.000"
                                },
                                {
                                    "0": "5",
                                    "1": "Vista",
                                    "2": "11114404600042",
                                    "3": "4",
                                    "4": "2005",
                                    "5": "2003-03-05 00:00:00.000"
                                },
                                {
                                    "0": "9",
                                    "1": "Distinguish",
                                    "2": "55553465625901",
                                    "3": "2",
                                    "4": "2005",
                                    "5": "2003-10-25 00:00:00.000"
                                },
                                {
                                    "0": "13",
                                    "1": "Vista",
                                    "2": "11119775847802",
                                    "3": "11",
                                    "4": "2005",
                                    "5": "2004-04-01 00:00:00.000"
                                },
                                {
                                    "0": "22",
                                    "1": "ColonialVoice",
                                    "2": "77772030376004",
                                    "3": "3",
                                    "4": "2005",
                                    "5": "2004-01-25 00:00:00.000"
                                },
                                {
                                    "0": "24",
                                    "1": "Vista",
                                    "2": "11111658051128",
                                    "3": "11",
                                    "4": "2005",
                                    "5": "2003-09-22 00:00:00.000"
                                },
                                {
                                    "0": "39",
                                    "1": "Vista",
                                    "2": "11117546738833",
                                    "3": "5",
                                    "4": "2005",
                                    "5": "2003-10-15 00:00:00.000"
                                },
                                {
                                    "0": "42",
                                    "1": "Distinguish",
                                    "2": "55555053963314",
                                    "3": "3",
                                    "4": "2005",
                                    "5": "2003-08-02 00:00:00.000"
                                },
                                {
                                    "0": "46",
                                    "1": "SuperiorCard",
                                    "2": "33331306076760",
                                    "3": "12",
                                    "4": "2005",
                                    "5": "2004-01-08 00:00:00.000"
                                }
                            ]
                        },
                        "text/html": [
                            "<table>",
                            "<tr><th>CreditCardID</th><th>CardType</th><th>CardNumber</th><th>ExpMonth</th><th>ExpYear</th><th>ModifiedDate</th></tr>",
                            "<tr><td>2</td><td>Distinguish</td><td>55552127249722</td><td>8</td><td>2005</td><td>2004-01-06 00:00:00.000</td></tr>",
                            "<tr><td>3</td><td>ColonialVoice</td><td>77778344838353</td><td>7</td><td>2005</td><td>2004-02-15 00:00:00.000</td></tr>",
                            "<tr><td>5</td><td>Vista</td><td>11114404600042</td><td>4</td><td>2005</td><td>2003-03-05 00:00:00.000</td></tr>",
                            "<tr><td>9</td><td>Distinguish</td><td>55553465625901</td><td>2</td><td>2005</td><td>2003-10-25 00:00:00.000</td></tr>",
                            "<tr><td>13</td><td>Vista</td><td>11119775847802</td><td>11</td><td>2005</td><td>2004-04-01 00:00:00.000</td></tr>",
                            "<tr><td>22</td><td>ColonialVoice</td><td>77772030376004</td><td>3</td><td>2005</td><td>2004-01-25 00:00:00.000</td></tr>",
                            "<tr><td>24</td><td>Vista</td><td>11111658051128</td><td>11</td><td>2005</td><td>2003-09-22 00:00:00.000</td></tr>",
                            "<tr><td>39</td><td>Vista</td><td>11117546738833</td><td>5</td><td>2005</td><td>2003-10-15 00:00:00.000</td></tr>",
                            "<tr><td>42</td><td>Distinguish</td><td>55555053963314</td><td>3</td><td>2005</td><td>2003-08-02 00:00:00.000</td></tr>",
                            "<tr><td>46</td><td>SuperiorCard</td><td>33331306076760</td><td>12</td><td>2005</td><td>2004-01-08 00:00:00.000</td></tr>",
                            "</table>"
                        ]
                    }
                }
            ],
            "execution_count": 22
        },
        {
            "cell_type": "markdown",
            "source": [
                "***\n",
                "**7 - Traer de la tabla Person.Contact los datos de contacto de todos los que NO son empleados (HumanResources.Employee)**"
            ],
            "metadata": {
                "azdata_cell_guid": "f8d0afa1-9135-4959-9780-1e8c28d0409d"
            },
            "attachments": {}
        },
        {
            "cell_type": "code",
            "source": [
                "SELECT pc.*\n",
                "FROM Person.Contact pc\n",
                "LEFT JOIN HumanResources.Employee hre\n",
                "    ON pc.ContactID = hre.ContactID\n",
                "WHERE hre.ContactID IS NULL;"
            ],
            "metadata": {
                "azdata_cell_guid": "2d52fab7-0066-4bd8-afed-d579845988a9",
                "language": "sql",
                "tags": []
            },
            "outputs": [
                {
                    "output_type": "display_data",
                    "data": {
                        "text/html": "(19682 rows affected)"
                    },
                    "metadata": {}
                },
                {
                    "output_type": "display_data",
                    "data": {
                        "text/html": "Displaying Top 10 rows."
                    },
                    "metadata": {}
                },
                {
                    "output_type": "display_data",
                    "data": {
                        "text/html": "Total execution time: 00:00:00.780"
                    },
                    "metadata": {}
                },
                {
                    "output_type": "execute_result",
                    "metadata": {},
                    "execution_count": 76,
                    "data": {
                        "application/vnd.dataresource+json": {
                            "schema": {
                                "fields": [
                                    {
                                        "name": "ContactID"
                                    },
                                    {
                                        "name": "NameStyle"
                                    },
                                    {
                                        "name": "Title"
                                    },
                                    {
                                        "name": "FirstName"
                                    },
                                    {
                                        "name": "MiddleName"
                                    },
                                    {
                                        "name": "LastName"
                                    },
                                    {
                                        "name": "Suffix"
                                    },
                                    {
                                        "name": "EmailAddress"
                                    },
                                    {
                                        "name": "EmailPromotion"
                                    },
                                    {
                                        "name": "Phone"
                                    },
                                    {
                                        "name": "PasswordHash"
                                    },
                                    {
                                        "name": "PasswordSalt"
                                    },
                                    {
                                        "name": "AdditionalContactInfo"
                                    },
                                    {
                                        "name": "rowguid"
                                    },
                                    {
                                        "name": "ModifiedDate"
                                    }
                                ]
                            },
                            "data": [
                                {
                                    "0": "1",
                                    "1": "0",
                                    "2": "Mr.",
                                    "3": "Gustavo",
                                    "4": "NULL",
                                    "5": "Achong",
                                    "6": "NULL",
                                    "7": "gustavo0@adventure-works.com",
                                    "8": "2",
                                    "9": "398-555-0132",
                                    "10": "GylyRwiKnyNPKbC1r4FSqA5YN9shIgsNik5ADyqStZc=",
                                    "11": "TVGHbhY=",
                                    "12": "<AdditionalContactInfo xmlns=\"http://schemas.microsoft.com/sqlserver/2004/07/adventure-works/ContactInfo\" xmlns:crm=\"http://schemas.microsoft.com/sqlserver/2004/07/adventure-works/ContactRecord\" xmlns:act=\"http://schemas.microsoft.com/sqlserver/2004/07/adventure-works/ContactTypes\"><act:telephoneNumber><act:number>425-555-1112</act:number><act:SpecialInstructions>Call only after 5:00 p.m.</act:SpecialInstructions></act:telephoneNumber>Note that the customer has a secondary home address.<act:homePostalAddress><act:Street>123 Oak</act:Street><act:City>Seattle</act:City><act:StateProvince>WA</act:StateProvince><act:PostalCode>98001</act:PostalCode><act:CountryRegion>USA</act:CountryRegion><act:SpecialInstructions>If correspondence to the primary address fails, try this one.</act:SpecialInstructions></act:homePostalAddress>Customer provided additional email address.<act:eMail><act:eMailAddress>customer1@sample.com</act:eMailAddress><act:SpecialInstructions>For urgent issues, do not send e-mail. Instead use this emergency contact phone<act:telephoneNumber><act:number>425-555-1111</act:number></act:telephoneNumber>.</act:SpecialInstructions></act:eMail><crm:ContactRecord date=\"2001-06-02Z\">This customer is interested in purchasing high-end bicycles for his family. The customer contacted Michael in sales.</crm:ContactRecord></AdditionalContactInfo>",
                                    "13": "d4c132d3-fcb5-4231-9dd5-888a54bec693",
                                    "14": "2005-05-16 16:33:33.060"
                                },
                                {
                                    "0": "2",
                                    "1": "0",
                                    "2": "Ms.",
                                    "3": "Catherine",
                                    "4": "R.",
                                    "5": "Abel",
                                    "6": "NULL",
                                    "7": "catherine0@adventure-works.com",
                                    "8": "1",
                                    "9": "747-555-0171",
                                    "10": "zh3goJUbYsPv92k4bVZuJtlLHwuvpQtu6uNcjkKSdF8=",
                                    "11": "rpyd5Tw=",
                                    "12": "<AdditionalContactInfo xmlns=\"http://schemas.microsoft.com/sqlserver/2004/07/adventure-works/ContactInfo\" xmlns:crm=\"http://schemas.microsoft.com/sqlserver/2004/07/adventure-works/ContactRecord\" xmlns:act=\"http://schemas.microsoft.com/sqlserver/2004/07/adventure-works/ContactTypes\">These are additional phone and pager numbers for the customer.<act:telephoneNumber><act:number>206-555-2222</act:number><act:SpecialInstructions>On weekends, contact the manager at this number.</act:SpecialInstructions></act:telephoneNumber><act:telephoneNumber><act:number>206-555-1234</act:number></act:telephoneNumber><act:pager><act:number>206-555-1244</act:number><act:SpecialInstructions>Do not page between 9:00 a.m. and 5:00 p.m.</act:SpecialInstructions></act:pager>Customer provided this additional home address.<act:homePostalAddress><act:Street>P.O Box 5</act:Street><act:City>Edmonds</act:City><act:StateProvince>WA</act:StateProvince><act:PostalCode>98431</act:PostalCode><act:CountryRegion>USA</act:CountryRegion><act:SpecialInstructions>This is an alternative address for billing only.</act:SpecialInstructions></act:homePostalAddress><act:eMail><act:eMailAddress>Joe@sample.com</act:eMailAddress><act:SpecialInstructions>Do not send e-mail for urgent issues. Use telephone instead.</act:SpecialInstructions></act:eMail><crm:ContactRecord date=\"2001-07-02Z\">Sales contacted this customer to explain new pricing.</crm:ContactRecord></AdditionalContactInfo>",
                                    "13": "d54e0552-c226-4c22-af3b-762ca854cdd3",
                                    "14": "2005-05-16 16:33:33.077"
                                },
                                {
                                    "0": "3",
                                    "1": "0",
                                    "2": "Ms.",
                                    "3": "Kim",
                                    "4": "NULL",
                                    "5": "Abercrombie",
                                    "6": "NULL",
                                    "7": "kim2@adventure-works.com",
                                    "8": "0",
                                    "9": "334-555-0137",
                                    "10": "4I8349R6c33cK+j1ef3dZt0JHOQ9MV7OvEXpCbwhQrQ=",
                                    "11": "rrgbG/U=",
                                    "12": "<AdditionalContactInfo xmlns=\"http://schemas.microsoft.com/sqlserver/2004/07/adventure-works/ContactInfo\" xmlns:crm=\"http://schemas.microsoft.com/sqlserver/2004/07/adventure-works/ContactRecord\" xmlns:act=\"http://schemas.microsoft.com/sqlserver/2004/07/adventure-works/ContactTypes\">Customer provided this telephone number for weekend access.<act:telephoneNumber><act:number>605-555-9877</act:number></act:telephoneNumber>secondary phone number.<act:pager><act:number>310-555-5432</act:number><act:SpecialInstructions>Page only if other contact attempts fail.</act:SpecialInstructions></act:pager>Additional home address.<act:homePostalAddress><act:Street>990 5th Avenue</act:Street><act:City>Redmond</act:City><act:StateProvince>WA</act:StateProvince><act:PostalCode>98052</act:PostalCode><act:CountryRegion>USA</act:CountryRegion><act:SpecialInstructions>Use this address for billing only.</act:SpecialInstructions></act:homePostalAddress><act:eMail><act:eMailAddress>Customer3@sample.com</act:eMailAddress><act:SpecialInstructions>Do not send e-mails for urgent issues. Use telephone instead.</act:SpecialInstructions></act:eMail><crm:ContactRecord date=\"2002-01-01Z\">Customer first contacted the sales department. This customer is interested in opening a new bicycle store.</crm:ContactRecord><crm:ContactRecord date=\"2002-01-05Z\">Linda in sales returned the call. Customer provided another telephone number for off-hour coverage.<act:telephoneNumber><act:number>302-555-7733</act:number></act:telephoneNumber>We are still negotiating possible long-term contract.</crm:ContactRecord></AdditionalContactInfo>",
                                    "13": "f7cbdb48-0b44-470e-9f37-7060446fbfb9",
                                    "14": "2005-05-16 16:33:33.077"
                                },
                                {
                                    "0": "4",
                                    "1": "0",
                                    "2": "Sr.",
                                    "3": "Humberto",
                                    "4": "NULL",
                                    "5": "Acevedo",
                                    "6": "NULL",
                                    "7": "humberto0@adventure-works.com",
                                    "8": "2",
                                    "9": "599-555-0127",
                                    "10": "mvPHEF6EsbxXtC2E/oMjbwHUkLzZ36rOGbhK16lu30g=",
                                    "11": "F5qyyxs=",
                                    "12": "<AdditionalContactInfo xmlns=\"http://schemas.microsoft.com/sqlserver/2004/07/adventure-works/ContactInfo\" xmlns:crm=\"http://schemas.microsoft.com/sqlserver/2004/07/adventure-works/ContactRecord\" xmlns:act=\"http://schemas.microsoft.com/sqlserver/2004/07/adventure-works/ContactTypes\">Additional phone numbers.<act:mobile><act:number>750-555-8888</act:number><act:SpecialInstructions>If customer is not at work, call<act:telephoneNumber><act:number>222-555-4444</act:number></act:telephoneNumber></act:SpecialInstructions></act:mobile>Customer uses these two additional email addresses.<act:eMail><act:eMailAddress>Customer4@sample.com</act:eMailAddress></act:eMail><act:eMail><act:eMailAddress>Customer4@contoso.com</act:eMailAddress><act:SpecialInstructions>This is secondary email address.</act:SpecialInstructions></act:eMail><crm:ContactRecord date=\"2002-01-01Z\">Customer is expanding his sports and recreation business. Sales is negotiating large sales order with this customer. We called Joe at<act:mobile><act:number>750-555-8888</act:number></act:mobile>We are still working on competitive pricing. Looks promising, but we need additional marketing support to wrap this up.</crm:ContactRecord></AdditionalContactInfo>",
                                    "13": "5a41d336-84cf-44d7-b12b-83b64b511f7e",
                                    "14": "2005-05-16 16:33:33.090"
                                },
                                {
                                    "0": "5",
                                    "1": "0",
                                    "2": "Sra.",
                                    "3": "Pilar",
                                    "4": "NULL",
                                    "5": "Ackerman",
                                    "6": "NULL",
                                    "7": "pilar1@adventure-works.com",
                                    "8": "0",
                                    "9": "1 (11) 500 555-0132",
                                    "10": "cql0lRWe1D/voQgg+XSLgdjSKgHBuM1DonTpX9ru0x8=",
                                    "11": "/RPjvXw=",
                                    "12": "<AdditionalContactInfo xmlns=\"http://schemas.microsoft.com/sqlserver/2004/07/adventure-works/ContactInfo\" xmlns:crm=\"http://schemas.microsoft.com/sqlserver/2004/07/adventure-works/ContactRecord\" xmlns:act=\"http://schemas.microsoft.com/sqlserver/2004/07/adventure-works/ContactTypes\"><crm:ContactRecord date=\"2002-01-01Z\">Sales contacted this customer for the first time at<act:telephoneNumber><act:number>432-4444</act:number></act:telephoneNumber>We talked about the Road bike price drop and the new spring models. Customer provided us new mobile number<act:mobile><act:number>432-555-7809</act:number></act:mobile></crm:ContactRecord></AdditionalContactInfo>",
                                    "13": "df1fb8ab-2323-4330-9ab8-54e13ce6d8f9",
                                    "14": "2005-05-16 16:33:33.090"
                                },
                                {
                                    "0": "6",
                                    "1": "0",
                                    "2": "Ms.",
                                    "3": "Frances",
                                    "4": "B.",
                                    "5": "Adams",
                                    "6": "NULL",
                                    "7": "frances0@adventure-works.com",
                                    "8": "1",
                                    "9": "991-555-0183",
                                    "10": "bmEI+phqLCE2jKmotM8SBAICQD2IvZEmy8X0LmUpMaw=",
                                    "11": "jA7oD80=",
                                    "12": "<AdditionalContactInfo xmlns=\"http://schemas.microsoft.com/sqlserver/2004/07/adventure-works/ContactInfo\" xmlns:crm=\"http://schemas.microsoft.com/sqlserver/2004/07/adventure-works/ContactRecord\" xmlns:act=\"http://schemas.microsoft.com/sqlserver/2004/07/adventure-works/ContactTypes\">Additional email address.<act:eMail><act:eMailAddress>Customer6@sample.com</act:eMailAddress></act:eMail><crm:ContactRecord date=\"2002-07-01Z\">Customer called us. Interested in the new Touring models.</crm:ContactRecord></AdditionalContactInfo>",
                                    "13": "66980082-c186-40ae-972a-74560e78c1af",
                                    "14": "2005-05-16 16:33:33.090"
                                },
                                {
                                    "0": "7",
                                    "1": "0",
                                    "2": "Ms.",
                                    "3": "Margaret",
                                    "4": "J.",
                                    "5": "Smith",
                                    "6": "NULL",
                                    "7": "margaret0@adventure-works.com",
                                    "8": "0",
                                    "9": "959-555-0151",
                                    "10": "3cd7qJyW8ZTgRdwOO9nLYDZg2EM6lehJe/nqKlKKcPY=",
                                    "11": "i2U3DxA=",
                                    "12": "<AdditionalContactInfo xmlns=\"http://schemas.microsoft.com/sqlserver/2004/07/adventure-works/ContactInfo\" xmlns:crm=\"http://schemas.microsoft.com/sqlserver/2004/07/adventure-works/ContactRecord\" xmlns:act=\"http://schemas.microsoft.com/sqlserver/2004/07/adventure-works/ContactTypes\">These are additional phone numbers the customer provided.<act:telephoneNumber><act:number>206-555-2222</act:number><act:SpecialInstructions>Best time to call is Monday-Wednesday mornings.</act:SpecialInstructions></act:telephoneNumber><act:mobile><act:number>209-555-2122</act:number></act:mobile></AdditionalContactInfo>",
                                    "13": "691818e1-fc19-445f-b161-e401867368e3",
                                    "14": "2005-05-16 16:33:33.107"
                                },
                                {
                                    "0": "8",
                                    "1": "0",
                                    "2": "Ms.",
                                    "3": "Carla",
                                    "4": "J.",
                                    "5": "Adams",
                                    "6": "NULL",
                                    "7": "carla0@adventure-works.com",
                                    "8": "0",
                                    "9": "107-555-0138",
                                    "10": "BGtck5Z0HKYV7itEziPeWv3q5tbXMBxL7FZvbfhvITM=",
                                    "11": "Qck1Nwg=",
                                    "12": "<AdditionalContactInfo xmlns=\"http://schemas.microsoft.com/sqlserver/2004/07/adventure-works/ContactInfo\" xmlns:crm=\"http://schemas.microsoft.com/sqlserver/2004/07/adventure-works/ContactRecord\" xmlns:act=\"http://schemas.microsoft.com/sqlserver/2004/07/adventure-works/ContactTypes\"><crm:ContactRecord date=\"2002-09-02Z\">The customer is interested in the Road-450 and Mountain-500 series bicycles. Customer called us. We need to follow up. Pager <act:pager><act:number>206-555-1234</act:number></act:pager> is the best way to reach.</crm:ContactRecord></AdditionalContactInfo>",
                                    "13": "5f183b92-1648-4948-8937-47c9c10f0583",
                                    "14": "2005-05-16 16:33:33.107"
                                },
                                {
                                    "0": "9",
                                    "1": "0",
                                    "2": "Mr.",
                                    "3": "Jay",
                                    "4": "NULL",
                                    "5": "Adams",
                                    "6": "NULL",
                                    "7": "jay1@adventure-works.com",
                                    "8": "1",
                                    "9": "158-555-0142",
                                    "10": "jCFDuqUMHmknfadTRSkMvN0IDObtE/GslvN9q2Wa5xU=",
                                    "11": "117fxZM=",
                                    "12": "<AdditionalContactInfo xmlns=\"http://schemas.microsoft.com/sqlserver/2004/07/adventure-works/ContactInfo\" xmlns:crm=\"http://schemas.microsoft.com/sqlserver/2004/07/adventure-works/ContactRecord\" xmlns:act=\"http://schemas.microsoft.com/sqlserver/2004/07/adventure-works/ContactTypes\">Additional home and mobile phone numbers:<act:telephoneNumber><act:number>253-555-4689</act:number></act:telephoneNumber><act:mobile><act:number>253-555-4878</act:number></act:mobile></AdditionalContactInfo>",
                                    "13": "38256645-4b88-4169-b68a-5b0118f18445",
                                    "14": "2005-05-16 16:33:33.123"
                                },
                                {
                                    "0": "10",
                                    "1": "0",
                                    "2": "Mr.",
                                    "3": "Ronald",
                                    "4": "L.",
                                    "5": "Adina",
                                    "6": "NULL",
                                    "7": "ronald0@adventure-works.com",
                                    "8": "0",
                                    "9": "453-555-0165",
                                    "10": "YmeWmxJE2oDSQKdiBOxrlEB76ejPI+UjMfientepsO0=",
                                    "11": "AFWNDMw=",
                                    "12": "<AdditionalContactInfo xmlns=\"http://schemas.microsoft.com/sqlserver/2004/07/adventure-works/ContactInfo\" xmlns:crm=\"http://schemas.microsoft.com/sqlserver/2004/07/adventure-works/ContactRecord\" xmlns:act=\"http://schemas.microsoft.com/sqlserver/2004/07/adventure-works/ContactTypes\"><crm:ContactRecord date=\"2002-09-02Z\">Marketing called this customer. Customer provided this phone number for follow-up questions.<act:telephoneNumber><act:number>305-555-8888</act:number><act:SpecialInstructions>If no answer, try this pager number.<act:pager><act:number>308-555-3678</act:number></act:pager></act:SpecialInstructions></act:telephoneNumber> and this mobile number<act:mobile><act:number>308-555-4888</act:number></act:mobile></crm:ContactRecord></AdditionalContactInfo>",
                                    "13": "dbb05a55-2256-42b1-901e-824d28158911",
                                    "14": "2005-05-16 16:33:33.123"
                                }
                            ]
                        },
                        "text/html": [
                            "<table>",
                            "<tr><th>ContactID</th><th>NameStyle</th><th>Title</th><th>FirstName</th><th>MiddleName</th><th>LastName</th><th>Suffix</th><th>EmailAddress</th><th>EmailPromotion</th><th>Phone</th><th>PasswordHash</th><th>PasswordSalt</th><th>AdditionalContactInfo</th><th>rowguid</th><th>ModifiedDate</th></tr>",
                            "<tr><td>1</td><td>0</td><td>Mr.</td><td>Gustavo</td><td>NULL</td><td>Achong</td><td>NULL</td><td>gustavo0@adventure-works.com</td><td>2</td><td>398-555-0132</td><td>GylyRwiKnyNPKbC1r4FSqA5YN9shIgsNik5ADyqStZc=</td><td>TVGHbhY=</td><td>&lt;AdditionalContactInfo xmlns=&quot;http://schemas.microsoft.com/sqlserver/2004/07/adventure-works/ContactInfo&quot; xmlns:crm=&quot;http://schemas.microsoft.com/sqlserver/2004/07/adventure-works/ContactRecord&quot; xmlns:act=&quot;http://schemas.microsoft.com/sqlserver/2004/07/adventure-works/ContactTypes&quot;&gt;&lt;act:telephoneNumber&gt;&lt;act:number&gt;425-555-1112&lt;/act:number&gt;&lt;act:SpecialInstructions&gt;Call only after 5:00 p.m.&lt;/act:SpecialInstructions&gt;&lt;/act:telephoneNumber&gt;Note that the customer has a secondary home address.&lt;act:homePostalAddress&gt;&lt;act:Street&gt;123 Oak&lt;/act:Street&gt;&lt;act:City&gt;Seattle&lt;/act:City&gt;&lt;act:StateProvince&gt;WA&lt;/act:StateProvince&gt;&lt;act:PostalCode&gt;98001&lt;/act:PostalCode&gt;&lt;act:CountryRegion&gt;USA&lt;/act:CountryRegion&gt;&lt;act:SpecialInstructions&gt;If correspondence to the primary address fails, try this one.&lt;/act:SpecialInstructions&gt;&lt;/act:homePostalAddress&gt;Customer provided additional email address.&lt;act:eMail&gt;&lt;act:eMailAddress&gt;customer1@sample.com&lt;/act:eMailAddress&gt;&lt;act:SpecialInstructions&gt;For urgent issues, do not send e-mail. Instead use this emergency contact phone&lt;act:telephoneNumber&gt;&lt;act:number&gt;425-555-1111&lt;/act:number&gt;&lt;/act:telephoneNumber&gt;.&lt;/act:SpecialInstructions&gt;&lt;/act:eMail&gt;&lt;crm:ContactRecord date=&quot;2001-06-02Z&quot;&gt;This customer is interested in purchasing high-end bicycles for his family. The customer contacted Michael in sales.&lt;/crm:ContactRecord&gt;&lt;/AdditionalContactInfo&gt;</td><td>d4c132d3-fcb5-4231-9dd5-888a54bec693</td><td>2005-05-16 16:33:33.060</td></tr>",
                            "<tr><td>2</td><td>0</td><td>Ms.</td><td>Catherine</td><td>R.</td><td>Abel</td><td>NULL</td><td>catherine0@adventure-works.com</td><td>1</td><td>747-555-0171</td><td>zh3goJUbYsPv92k4bVZuJtlLHwuvpQtu6uNcjkKSdF8=</td><td>rpyd5Tw=</td><td>&lt;AdditionalContactInfo xmlns=&quot;http://schemas.microsoft.com/sqlserver/2004/07/adventure-works/ContactInfo&quot; xmlns:crm=&quot;http://schemas.microsoft.com/sqlserver/2004/07/adventure-works/ContactRecord&quot; xmlns:act=&quot;http://schemas.microsoft.com/sqlserver/2004/07/adventure-works/ContactTypes&quot;&gt;These are additional phone and pager numbers for the customer.&lt;act:telephoneNumber&gt;&lt;act:number&gt;206-555-2222&lt;/act:number&gt;&lt;act:SpecialInstructions&gt;On weekends, contact the manager at this number.&lt;/act:SpecialInstructions&gt;&lt;/act:telephoneNumber&gt;&lt;act:telephoneNumber&gt;&lt;act:number&gt;206-555-1234&lt;/act:number&gt;&lt;/act:telephoneNumber&gt;&lt;act:pager&gt;&lt;act:number&gt;206-555-1244&lt;/act:number&gt;&lt;act:SpecialInstructions&gt;Do not page between 9:00 a.m. and 5:00 p.m.&lt;/act:SpecialInstructions&gt;&lt;/act:pager&gt;Customer provided this additional home address.&lt;act:homePostalAddress&gt;&lt;act:Street&gt;P.O Box 5&lt;/act:Street&gt;&lt;act:City&gt;Edmonds&lt;/act:City&gt;&lt;act:StateProvince&gt;WA&lt;/act:StateProvince&gt;&lt;act:PostalCode&gt;98431&lt;/act:PostalCode&gt;&lt;act:CountryRegion&gt;USA&lt;/act:CountryRegion&gt;&lt;act:SpecialInstructions&gt;This is an alternative address for billing only.&lt;/act:SpecialInstructions&gt;&lt;/act:homePostalAddress&gt;&lt;act:eMail&gt;&lt;act:eMailAddress&gt;Joe@sample.com&lt;/act:eMailAddress&gt;&lt;act:SpecialInstructions&gt;Do not send e-mail for urgent issues. Use telephone instead.&lt;/act:SpecialInstructions&gt;&lt;/act:eMail&gt;&lt;crm:ContactRecord date=&quot;2001-07-02Z&quot;&gt;Sales contacted this customer to explain new pricing.&lt;/crm:ContactRecord&gt;&lt;/AdditionalContactInfo&gt;</td><td>d54e0552-c226-4c22-af3b-762ca854cdd3</td><td>2005-05-16 16:33:33.077</td></tr>",
                            "<tr><td>3</td><td>0</td><td>Ms.</td><td>Kim</td><td>NULL</td><td>Abercrombie</td><td>NULL</td><td>kim2@adventure-works.com</td><td>0</td><td>334-555-0137</td><td>4I8349R6c33cK+j1ef3dZt0JHOQ9MV7OvEXpCbwhQrQ=</td><td>rrgbG/U=</td><td>&lt;AdditionalContactInfo xmlns=&quot;http://schemas.microsoft.com/sqlserver/2004/07/adventure-works/ContactInfo&quot; xmlns:crm=&quot;http://schemas.microsoft.com/sqlserver/2004/07/adventure-works/ContactRecord&quot; xmlns:act=&quot;http://schemas.microsoft.com/sqlserver/2004/07/adventure-works/ContactTypes&quot;&gt;Customer provided this telephone number for weekend access.&lt;act:telephoneNumber&gt;&lt;act:number&gt;605-555-9877&lt;/act:number&gt;&lt;/act:telephoneNumber&gt;secondary phone number.&lt;act:pager&gt;&lt;act:number&gt;310-555-5432&lt;/act:number&gt;&lt;act:SpecialInstructions&gt;Page only if other contact attempts fail.&lt;/act:SpecialInstructions&gt;&lt;/act:pager&gt;Additional home address.&lt;act:homePostalAddress&gt;&lt;act:Street&gt;990 5th Avenue&lt;/act:Street&gt;&lt;act:City&gt;Redmond&lt;/act:City&gt;&lt;act:StateProvince&gt;WA&lt;/act:StateProvince&gt;&lt;act:PostalCode&gt;98052&lt;/act:PostalCode&gt;&lt;act:CountryRegion&gt;USA&lt;/act:CountryRegion&gt;&lt;act:SpecialInstructions&gt;Use this address for billing only.&lt;/act:SpecialInstructions&gt;&lt;/act:homePostalAddress&gt;&lt;act:eMail&gt;&lt;act:eMailAddress&gt;Customer3@sample.com&lt;/act:eMailAddress&gt;&lt;act:SpecialInstructions&gt;Do not send e-mails for urgent issues. Use telephone instead.&lt;/act:SpecialInstructions&gt;&lt;/act:eMail&gt;&lt;crm:ContactRecord date=&quot;2002-01-01Z&quot;&gt;Customer first contacted the sales department. This customer is interested in opening a new bicycle store.&lt;/crm:ContactRecord&gt;&lt;crm:ContactRecord date=&quot;2002-01-05Z&quot;&gt;Linda in sales returned the call. Customer provided another telephone number for off-hour coverage.&lt;act:telephoneNumber&gt;&lt;act:number&gt;302-555-7733&lt;/act:number&gt;&lt;/act:telephoneNumber&gt;We are still negotiating possible long-term contract.&lt;/crm:ContactRecord&gt;&lt;/AdditionalContactInfo&gt;</td><td>f7cbdb48-0b44-470e-9f37-7060446fbfb9</td><td>2005-05-16 16:33:33.077</td></tr>",
                            "<tr><td>4</td><td>0</td><td>Sr.</td><td>Humberto</td><td>NULL</td><td>Acevedo</td><td>NULL</td><td>humberto0@adventure-works.com</td><td>2</td><td>599-555-0127</td><td>mvPHEF6EsbxXtC2E/oMjbwHUkLzZ36rOGbhK16lu30g=</td><td>F5qyyxs=</td><td>&lt;AdditionalContactInfo xmlns=&quot;http://schemas.microsoft.com/sqlserver/2004/07/adventure-works/ContactInfo&quot; xmlns:crm=&quot;http://schemas.microsoft.com/sqlserver/2004/07/adventure-works/ContactRecord&quot; xmlns:act=&quot;http://schemas.microsoft.com/sqlserver/2004/07/adventure-works/ContactTypes&quot;&gt;Additional phone numbers.&lt;act:mobile&gt;&lt;act:number&gt;750-555-8888&lt;/act:number&gt;&lt;act:SpecialInstructions&gt;If customer is not at work, call&lt;act:telephoneNumber&gt;&lt;act:number&gt;222-555-4444&lt;/act:number&gt;&lt;/act:telephoneNumber&gt;&lt;/act:SpecialInstructions&gt;&lt;/act:mobile&gt;Customer uses these two additional email addresses.&lt;act:eMail&gt;&lt;act:eMailAddress&gt;Customer4@sample.com&lt;/act:eMailAddress&gt;&lt;/act:eMail&gt;&lt;act:eMail&gt;&lt;act:eMailAddress&gt;Customer4@contoso.com&lt;/act:eMailAddress&gt;&lt;act:SpecialInstructions&gt;This is secondary email address.&lt;/act:SpecialInstructions&gt;&lt;/act:eMail&gt;&lt;crm:ContactRecord date=&quot;2002-01-01Z&quot;&gt;Customer is expanding his sports and recreation business. Sales is negotiating large sales order with this customer. We called Joe at&lt;act:mobile&gt;&lt;act:number&gt;750-555-8888&lt;/act:number&gt;&lt;/act:mobile&gt;We are still working on competitive pricing. Looks promising, but we need additional marketing support to wrap this up.&lt;/crm:ContactRecord&gt;&lt;/AdditionalContactInfo&gt;</td><td>5a41d336-84cf-44d7-b12b-83b64b511f7e</td><td>2005-05-16 16:33:33.090</td></tr>",
                            "<tr><td>5</td><td>0</td><td>Sra.</td><td>Pilar</td><td>NULL</td><td>Ackerman</td><td>NULL</td><td>pilar1@adventure-works.com</td><td>0</td><td>1 (11) 500 555-0132</td><td>cql0lRWe1D/voQgg+XSLgdjSKgHBuM1DonTpX9ru0x8=</td><td>/RPjvXw=</td><td>&lt;AdditionalContactInfo xmlns=&quot;http://schemas.microsoft.com/sqlserver/2004/07/adventure-works/ContactInfo&quot; xmlns:crm=&quot;http://schemas.microsoft.com/sqlserver/2004/07/adventure-works/ContactRecord&quot; xmlns:act=&quot;http://schemas.microsoft.com/sqlserver/2004/07/adventure-works/ContactTypes&quot;&gt;&lt;crm:ContactRecord date=&quot;2002-01-01Z&quot;&gt;Sales contacted this customer for the first time at&lt;act:telephoneNumber&gt;&lt;act:number&gt;432-4444&lt;/act:number&gt;&lt;/act:telephoneNumber&gt;We talked about the Road bike price drop and the new spring models. Customer provided us new mobile number&lt;act:mobile&gt;&lt;act:number&gt;432-555-7809&lt;/act:number&gt;&lt;/act:mobile&gt;&lt;/crm:ContactRecord&gt;&lt;/AdditionalContactInfo&gt;</td><td>df1fb8ab-2323-4330-9ab8-54e13ce6d8f9</td><td>2005-05-16 16:33:33.090</td></tr>",
                            "<tr><td>6</td><td>0</td><td>Ms.</td><td>Frances</td><td>B.</td><td>Adams</td><td>NULL</td><td>frances0@adventure-works.com</td><td>1</td><td>991-555-0183</td><td>bmEI+phqLCE2jKmotM8SBAICQD2IvZEmy8X0LmUpMaw=</td><td>jA7oD80=</td><td>&lt;AdditionalContactInfo xmlns=&quot;http://schemas.microsoft.com/sqlserver/2004/07/adventure-works/ContactInfo&quot; xmlns:crm=&quot;http://schemas.microsoft.com/sqlserver/2004/07/adventure-works/ContactRecord&quot; xmlns:act=&quot;http://schemas.microsoft.com/sqlserver/2004/07/adventure-works/ContactTypes&quot;&gt;Additional email address.&lt;act:eMail&gt;&lt;act:eMailAddress&gt;Customer6@sample.com&lt;/act:eMailAddress&gt;&lt;/act:eMail&gt;&lt;crm:ContactRecord date=&quot;2002-07-01Z&quot;&gt;Customer called us. Interested in the new Touring models.&lt;/crm:ContactRecord&gt;&lt;/AdditionalContactInfo&gt;</td><td>66980082-c186-40ae-972a-74560e78c1af</td><td>2005-05-16 16:33:33.090</td></tr>",
                            "<tr><td>7</td><td>0</td><td>Ms.</td><td>Margaret</td><td>J.</td><td>Smith</td><td>NULL</td><td>margaret0@adventure-works.com</td><td>0</td><td>959-555-0151</td><td>3cd7qJyW8ZTgRdwOO9nLYDZg2EM6lehJe/nqKlKKcPY=</td><td>i2U3DxA=</td><td>&lt;AdditionalContactInfo xmlns=&quot;http://schemas.microsoft.com/sqlserver/2004/07/adventure-works/ContactInfo&quot; xmlns:crm=&quot;http://schemas.microsoft.com/sqlserver/2004/07/adventure-works/ContactRecord&quot; xmlns:act=&quot;http://schemas.microsoft.com/sqlserver/2004/07/adventure-works/ContactTypes&quot;&gt;These are additional phone numbers the customer provided.&lt;act:telephoneNumber&gt;&lt;act:number&gt;206-555-2222&lt;/act:number&gt;&lt;act:SpecialInstructions&gt;Best time to call is Monday-Wednesday mornings.&lt;/act:SpecialInstructions&gt;&lt;/act:telephoneNumber&gt;&lt;act:mobile&gt;&lt;act:number&gt;209-555-2122&lt;/act:number&gt;&lt;/act:mobile&gt;&lt;/AdditionalContactInfo&gt;</td><td>691818e1-fc19-445f-b161-e401867368e3</td><td>2005-05-16 16:33:33.107</td></tr>",
                            "<tr><td>8</td><td>0</td><td>Ms.</td><td>Carla</td><td>J.</td><td>Adams</td><td>NULL</td><td>carla0@adventure-works.com</td><td>0</td><td>107-555-0138</td><td>BGtck5Z0HKYV7itEziPeWv3q5tbXMBxL7FZvbfhvITM=</td><td>Qck1Nwg=</td><td>&lt;AdditionalContactInfo xmlns=&quot;http://schemas.microsoft.com/sqlserver/2004/07/adventure-works/ContactInfo&quot; xmlns:crm=&quot;http://schemas.microsoft.com/sqlserver/2004/07/adventure-works/ContactRecord&quot; xmlns:act=&quot;http://schemas.microsoft.com/sqlserver/2004/07/adventure-works/ContactTypes&quot;&gt;&lt;crm:ContactRecord date=&quot;2002-09-02Z&quot;&gt;The customer is interested in the Road-450 and Mountain-500 series bicycles. Customer called us. We need to follow up. Pager &lt;act:pager&gt;&lt;act:number&gt;206-555-1234&lt;/act:number&gt;&lt;/act:pager&gt; is the best way to reach.&lt;/crm:ContactRecord&gt;&lt;/AdditionalContactInfo&gt;</td><td>5f183b92-1648-4948-8937-47c9c10f0583</td><td>2005-05-16 16:33:33.107</td></tr>",
                            "<tr><td>9</td><td>0</td><td>Mr.</td><td>Jay</td><td>NULL</td><td>Adams</td><td>NULL</td><td>jay1@adventure-works.com</td><td>1</td><td>158-555-0142</td><td>jCFDuqUMHmknfadTRSkMvN0IDObtE/GslvN9q2Wa5xU=</td><td>117fxZM=</td><td>&lt;AdditionalContactInfo xmlns=&quot;http://schemas.microsoft.com/sqlserver/2004/07/adventure-works/ContactInfo&quot; xmlns:crm=&quot;http://schemas.microsoft.com/sqlserver/2004/07/adventure-works/ContactRecord&quot; xmlns:act=&quot;http://schemas.microsoft.com/sqlserver/2004/07/adventure-works/ContactTypes&quot;&gt;Additional home and mobile phone numbers:&lt;act:telephoneNumber&gt;&lt;act:number&gt;253-555-4689&lt;/act:number&gt;&lt;/act:telephoneNumber&gt;&lt;act:mobile&gt;&lt;act:number&gt;253-555-4878&lt;/act:number&gt;&lt;/act:mobile&gt;&lt;/AdditionalContactInfo&gt;</td><td>38256645-4b88-4169-b68a-5b0118f18445</td><td>2005-05-16 16:33:33.123</td></tr>",
                            "<tr><td>10</td><td>0</td><td>Mr.</td><td>Ronald</td><td>L.</td><td>Adina</td><td>NULL</td><td>ronald0@adventure-works.com</td><td>0</td><td>453-555-0165</td><td>YmeWmxJE2oDSQKdiBOxrlEB76ejPI+UjMfientepsO0=</td><td>AFWNDMw=</td><td>&lt;AdditionalContactInfo xmlns=&quot;http://schemas.microsoft.com/sqlserver/2004/07/adventure-works/ContactInfo&quot; xmlns:crm=&quot;http://schemas.microsoft.com/sqlserver/2004/07/adventure-works/ContactRecord&quot; xmlns:act=&quot;http://schemas.microsoft.com/sqlserver/2004/07/adventure-works/ContactTypes&quot;&gt;&lt;crm:ContactRecord date=&quot;2002-09-02Z&quot;&gt;Marketing called this customer. Customer provided this phone number for follow-up questions.&lt;act:telephoneNumber&gt;&lt;act:number&gt;305-555-8888&lt;/act:number&gt;&lt;act:SpecialInstructions&gt;If no answer, try this pager number.&lt;act:pager&gt;&lt;act:number&gt;308-555-3678&lt;/act:number&gt;&lt;/act:pager&gt;&lt;/act:SpecialInstructions&gt;&lt;/act:telephoneNumber&gt; and this mobile number&lt;act:mobile&gt;&lt;act:number&gt;308-555-4888&lt;/act:number&gt;&lt;/act:mobile&gt;&lt;/crm:ContactRecord&gt;&lt;/AdditionalContactInfo&gt;</td><td>dbb05a55-2256-42b1-901e-824d28158911</td><td>2005-05-16 16:33:33.123</td></tr>",
                            "</table>"
                        ]
                    }
                }
            ],
            "execution_count": 76
        },
        {
            "cell_type": "markdown",
            "source": [
                "***\n",
                "8 - Crear una tabla [Test].[Tarjetas_vencidas] y cargar en la misma el resultado de la consulta 7"
            ],
            "metadata": {
                "azdata_cell_guid": "f9072234-0057-43f5-b112-d06aa6262729"
            },
            "attachments": {}
        },
        {
            "cell_type": "code",
            "source": [
                "-- Asumo que se refiere a la consulta 6\n",
                "-- Evito notación punto ara no tener que crear una schema.\n",
                "SELECT *\n",
                "INTO Test_Tarjetas_vencidas \n",
                "FROM Sales.CreditCard   \n",
                "WHERE ExpYear < '2006';"
            ],
            "metadata": {
                "azdata_cell_guid": "a4f52fb3-0c23-48b4-9546-a4f88348336b",
                "language": "sql",
                "tags": []
            },
            "outputs": [
                {
                    "output_type": "display_data",
                    "data": {
                        "text/html": "(4743 rows affected)"
                    },
                    "metadata": {}
                },
                {
                    "output_type": "display_data",
                    "data": {
                        "text/html": "Total execution time: 00:00:00.040"
                    },
                    "metadata": {}
                }
            ],
            "execution_count": 56
        },
        {
            "cell_type": "code",
            "source": [
                "--Verifico\n",
                "SELECT TOP(5) *\n",
                "FROM Test_Tarjetas_vencidas;"
            ],
            "metadata": {
                "language": "sql",
                "azdata_cell_guid": "46df9914-dc89-4376-85f5-153689097458"
            },
            "outputs": [
                {
                    "output_type": "display_data",
                    "data": {
                        "text/html": "(5 rows affected)"
                    },
                    "metadata": {}
                },
                {
                    "output_type": "display_data",
                    "data": {
                        "text/html": "Total execution time: 00:00:00.016"
                    },
                    "metadata": {}
                },
                {
                    "output_type": "execute_result",
                    "metadata": {},
                    "execution_count": 46,
                    "data": {
                        "application/vnd.dataresource+json": {
                            "schema": {
                                "fields": [
                                    {
                                        "name": "CreditCardID"
                                    },
                                    {
                                        "name": "CardType"
                                    },
                                    {
                                        "name": "CardNumber"
                                    },
                                    {
                                        "name": "ExpMonth"
                                    },
                                    {
                                        "name": "ExpYear"
                                    },
                                    {
                                        "name": "ModifiedDate"
                                    }
                                ]
                            },
                            "data": [
                                {
                                    "0": "2",
                                    "1": "Distinguish",
                                    "2": "55552127249722",
                                    "3": "8",
                                    "4": "2005",
                                    "5": "2004-01-06 00:00:00.000"
                                },
                                {
                                    "0": "3",
                                    "1": "ColonialVoice",
                                    "2": "77778344838353",
                                    "3": "7",
                                    "4": "2005",
                                    "5": "2004-02-15 00:00:00.000"
                                },
                                {
                                    "0": "5",
                                    "1": "Vista",
                                    "2": "11114404600042",
                                    "3": "4",
                                    "4": "2005",
                                    "5": "2003-03-05 00:00:00.000"
                                },
                                {
                                    "0": "9",
                                    "1": "Distinguish",
                                    "2": "55553465625901",
                                    "3": "2",
                                    "4": "2005",
                                    "5": "2003-10-25 00:00:00.000"
                                },
                                {
                                    "0": "13",
                                    "1": "Vista",
                                    "2": "11119775847802",
                                    "3": "11",
                                    "4": "2005",
                                    "5": "2004-04-01 00:00:00.000"
                                }
                            ]
                        },
                        "text/html": [
                            "<table>",
                            "<tr><th>CreditCardID</th><th>CardType</th><th>CardNumber</th><th>ExpMonth</th><th>ExpYear</th><th>ModifiedDate</th></tr>",
                            "<tr><td>2</td><td>Distinguish</td><td>55552127249722</td><td>8</td><td>2005</td><td>2004-01-06 00:00:00.000</td></tr>",
                            "<tr><td>3</td><td>ColonialVoice</td><td>77778344838353</td><td>7</td><td>2005</td><td>2004-02-15 00:00:00.000</td></tr>",
                            "<tr><td>5</td><td>Vista</td><td>11114404600042</td><td>4</td><td>2005</td><td>2003-03-05 00:00:00.000</td></tr>",
                            "<tr><td>9</td><td>Distinguish</td><td>55553465625901</td><td>2</td><td>2005</td><td>2003-10-25 00:00:00.000</td></tr>",
                            "<tr><td>13</td><td>Vista</td><td>11119775847802</td><td>11</td><td>2005</td><td>2004-04-01 00:00:00.000</td></tr>",
                            "</table>"
                        ]
                    }
                }
            ],
            "execution_count": 46
        },
        {
            "cell_type": "markdown",
            "source": [
                "***\n",
                "9 - En la tabla [Test].[Tarjetas_vencidas] crear una nueva columna \"bandera\" con tipo int"
            ],
            "metadata": {
                "azdata_cell_guid": "16ebc095-98b1-426d-9800-1de5140193b4"
            },
            "attachments": {}
        },
        {
            "cell_type": "code",
            "source": [
                "-- Uso 0 como valor default\n",
                "ALTER TABLE Test_Tarjetas_vencidas ADD bandera INT NOT NULL DEFAULT(0);"
            ],
            "metadata": {
                "azdata_cell_guid": "27efe684-57ee-464a-865a-9d5c7109c027",
                "language": "sql"
            },
            "outputs": [
                {
                    "output_type": "display_data",
                    "data": {
                        "text/html": "Commands completed successfully."
                    },
                    "metadata": {}
                },
                {
                    "output_type": "display_data",
                    "data": {
                        "text/html": "Total execution time: 00:00:00.040"
                    },
                    "metadata": {}
                }
            ],
            "execution_count": 57
        },
        {
            "cell_type": "code",
            "source": [
                "--Verifico\n",
                "SELECT TOP(5) *\n",
                "FROM Test_Tarjetas_vencidas;"
            ],
            "metadata": {
                "language": "sql",
                "azdata_cell_guid": "f3570147-18bb-4608-ad3c-a5be48a15e9b"
            },
            "outputs": [
                {
                    "output_type": "display_data",
                    "data": {
                        "text/html": "(5 rows affected)"
                    },
                    "metadata": {}
                },
                {
                    "output_type": "display_data",
                    "data": {
                        "text/html": "Total execution time: 00:00:00.098"
                    },
                    "metadata": {}
                },
                {
                    "output_type": "execute_result",
                    "metadata": {},
                    "execution_count": 58,
                    "data": {
                        "application/vnd.dataresource+json": {
                            "schema": {
                                "fields": [
                                    {
                                        "name": "CreditCardID"
                                    },
                                    {
                                        "name": "CardType"
                                    },
                                    {
                                        "name": "CardNumber"
                                    },
                                    {
                                        "name": "ExpMonth"
                                    },
                                    {
                                        "name": "ExpYear"
                                    },
                                    {
                                        "name": "ModifiedDate"
                                    },
                                    {
                                        "name": "bandera"
                                    }
                                ]
                            },
                            "data": [
                                {
                                    "0": "10079",
                                    "1": "Distinguish",
                                    "2": "55551552070407",
                                    "3": "7",
                                    "4": "2005",
                                    "5": "2004-06-29 00:00:00.000",
                                    "6": "0"
                                },
                                {
                                    "0": "10082",
                                    "1": "ColonialVoice",
                                    "2": "77773275653296",
                                    "3": "7",
                                    "4": "2005",
                                    "5": "2003-09-04 00:00:00.000",
                                    "6": "0"
                                },
                                {
                                    "0": "10084",
                                    "1": "Distinguish",
                                    "2": "55553734775324",
                                    "3": "12",
                                    "4": "2005",
                                    "5": "2003-11-20 00:00:00.000",
                                    "6": "0"
                                },
                                {
                                    "0": "10090",
                                    "1": "ColonialVoice",
                                    "2": "77779811715774",
                                    "3": "9",
                                    "4": "2005",
                                    "5": "2004-04-03 00:00:00.000",
                                    "6": "0"
                                },
                                {
                                    "0": "10093",
                                    "1": "SuperiorCard",
                                    "2": "33335858015470",
                                    "3": "7",
                                    "4": "2005",
                                    "5": "2001-08-06 00:00:00.000",
                                    "6": "0"
                                }
                            ]
                        },
                        "text/html": [
                            "<table>",
                            "<tr><th>CreditCardID</th><th>CardType</th><th>CardNumber</th><th>ExpMonth</th><th>ExpYear</th><th>ModifiedDate</th><th>bandera</th></tr>",
                            "<tr><td>10079</td><td>Distinguish</td><td>55551552070407</td><td>7</td><td>2005</td><td>2004-06-29 00:00:00.000</td><td>0</td></tr>",
                            "<tr><td>10082</td><td>ColonialVoice</td><td>77773275653296</td><td>7</td><td>2005</td><td>2003-09-04 00:00:00.000</td><td>0</td></tr>",
                            "<tr><td>10084</td><td>Distinguish</td><td>55553734775324</td><td>12</td><td>2005</td><td>2003-11-20 00:00:00.000</td><td>0</td></tr>",
                            "<tr><td>10090</td><td>ColonialVoice</td><td>77779811715774</td><td>9</td><td>2005</td><td>2004-04-03 00:00:00.000</td><td>0</td></tr>",
                            "<tr><td>10093</td><td>SuperiorCard</td><td>33335858015470</td><td>7</td><td>2005</td><td>2001-08-06 00:00:00.000</td><td>0</td></tr>",
                            "</table>"
                        ]
                    }
                }
            ],
            "execution_count": 58
        },
        {
            "cell_type": "markdown",
            "source": [
                "***\n",
                "10 - Actualizar la tabla Test.Tarjetas_vencidas y dar valor 1 a la columna \"bandera\" cuando el vencimiento anterior del año 2015"
            ],
            "metadata": {
                "azdata_cell_guid": "330d079e-7ddf-4f57-90d2-fa2e36be7eef"
            },
            "attachments": {}
        },
        {
            "cell_type": "code",
            "source": [
                "--Elijo 2006 en lugar de 2015 porque los vencimientos van entre 2005 y 2008\n",
                "UPDATE Test_Tarjetas_vencidas\n",
                "SET bandera = 1\n",
                "WHERE ExpYear < '2006';"
            ],
            "metadata": {
                "language": "sql",
                "azdata_cell_guid": "718acc09-604d-4292-a250-b92067570076",
                "tags": []
            },
            "outputs": [
                {
                    "output_type": "display_data",
                    "data": {
                        "text/html": "(4743 rows affected)"
                    },
                    "metadata": {}
                },
                {
                    "output_type": "display_data",
                    "data": {
                        "text/html": "Total execution time: 00:00:00.385"
                    },
                    "metadata": {}
                }
            ],
            "execution_count": 59
        },
        {
            "cell_type": "code",
            "source": [
                "--Verifico\n",
                "SELECT TOP(5) *\n",
                "FROM Test_Tarjetas_vencidas\n",
                "ORDER BY bandera DESC;"
            ],
            "metadata": {
                "language": "sql",
                "azdata_cell_guid": "e2dff41f-9599-4f1c-bc81-565626ac53af"
            },
            "outputs": [
                {
                    "output_type": "display_data",
                    "data": {
                        "text/html": "(5 rows affected)"
                    },
                    "metadata": {}
                },
                {
                    "output_type": "display_data",
                    "data": {
                        "text/html": "Total execution time: 00:00:00.015"
                    },
                    "metadata": {}
                },
                {
                    "output_type": "execute_result",
                    "metadata": {},
                    "execution_count": 61,
                    "data": {
                        "application/vnd.dataresource+json": {
                            "schema": {
                                "fields": [
                                    {
                                        "name": "CreditCardID"
                                    },
                                    {
                                        "name": "CardType"
                                    },
                                    {
                                        "name": "CardNumber"
                                    },
                                    {
                                        "name": "ExpMonth"
                                    },
                                    {
                                        "name": "ExpYear"
                                    },
                                    {
                                        "name": "ModifiedDate"
                                    },
                                    {
                                        "name": "bandera"
                                    }
                                ]
                            },
                            "data": [
                                {
                                    "0": "10097",
                                    "1": "Vista",
                                    "2": "11118641082223",
                                    "3": "9",
                                    "4": "2005",
                                    "5": "2004-05-12 00:00:00.000",
                                    "6": "1"
                                },
                                {
                                    "0": "10093",
                                    "1": "SuperiorCard",
                                    "2": "33335858015470",
                                    "3": "7",
                                    "4": "2005",
                                    "5": "2001-08-06 00:00:00.000",
                                    "6": "1"
                                },
                                {
                                    "0": "10090",
                                    "1": "ColonialVoice",
                                    "2": "77779811715774",
                                    "3": "9",
                                    "4": "2005",
                                    "5": "2004-04-03 00:00:00.000",
                                    "6": "1"
                                },
                                {
                                    "0": "10084",
                                    "1": "Distinguish",
                                    "2": "55553734775324",
                                    "3": "12",
                                    "4": "2005",
                                    "5": "2003-11-20 00:00:00.000",
                                    "6": "1"
                                },
                                {
                                    "0": "10082",
                                    "1": "ColonialVoice",
                                    "2": "77773275653296",
                                    "3": "7",
                                    "4": "2005",
                                    "5": "2003-09-04 00:00:00.000",
                                    "6": "1"
                                }
                            ]
                        },
                        "text/html": [
                            "<table>",
                            "<tr><th>CreditCardID</th><th>CardType</th><th>CardNumber</th><th>ExpMonth</th><th>ExpYear</th><th>ModifiedDate</th><th>bandera</th></tr>",
                            "<tr><td>10097</td><td>Vista</td><td>11118641082223</td><td>9</td><td>2005</td><td>2004-05-12 00:00:00.000</td><td>1</td></tr>",
                            "<tr><td>10093</td><td>SuperiorCard</td><td>33335858015470</td><td>7</td><td>2005</td><td>2001-08-06 00:00:00.000</td><td>1</td></tr>",
                            "<tr><td>10090</td><td>ColonialVoice</td><td>77779811715774</td><td>9</td><td>2005</td><td>2004-04-03 00:00:00.000</td><td>1</td></tr>",
                            "<tr><td>10084</td><td>Distinguish</td><td>55553734775324</td><td>12</td><td>2005</td><td>2003-11-20 00:00:00.000</td><td>1</td></tr>",
                            "<tr><td>10082</td><td>ColonialVoice</td><td>77773275653296</td><td>7</td><td>2005</td><td>2003-09-04 00:00:00.000</td><td>1</td></tr>",
                            "</table>"
                        ]
                    }
                }
            ],
            "execution_count": 61
        },
        {
            "cell_type": "code",
            "source": [
                "--Para eliminarla\n",
                "DROP TABLE Test_Tarjetas_vencidas;"
            ],
            "metadata": {
                "language": "sql",
                "azdata_cell_guid": "376a15e9-2916-4a4e-9037-1453fb2459b3"
            },
            "outputs": [],
            "execution_count": null
        },
        {
            "cell_type": "markdown",
            "source": [
                "***\n",
                "**11 - crear una vista donde se muestre lo desarrollado en el punto 2.**"
            ],
            "metadata": {
                "language": "sql",
                "azdata_cell_guid": "7aefd305-9c48-4719-8e82-456e9ac161c5"
            },
            "attachments": {}
        },
        {
            "cell_type": "code",
            "source": [
                "CREATE VIEW test_view\n",
                "AS SELECT pc.FirstName\n",
                "FROM person.Contact AS pc\n",
                "WHERE pc.FirstName LIKE 'D%' or pc.FirstName LIKE 'A%';"
            ],
            "metadata": {
                "language": "sql",
                "azdata_cell_guid": "6c81717c-5721-441e-9646-2bd24b553f0e",
                "tags": []
            },
            "outputs": [
                {
                    "output_type": "display_data",
                    "data": {
                        "text/html": "Commands completed successfully."
                    },
                    "metadata": {}
                },
                {
                    "output_type": "display_data",
                    "data": {
                        "text/html": "Total execution time: 00:00:00.010"
                    },
                    "metadata": {}
                }
            ],
            "execution_count": 63
        },
        {
            "cell_type": "code",
            "source": [
                "--Chequeo que está\n",
                "SELECT TOP(5) *\n",
                "FROM test_view;"
            ],
            "metadata": {
                "language": "sql",
                "azdata_cell_guid": "e5829846-61e7-4435-ac15-97e75f29660d"
            },
            "outputs": [
                {
                    "output_type": "display_data",
                    "data": {
                        "text/html": "(5 rows affected)"
                    },
                    "metadata": {}
                },
                {
                    "output_type": "display_data",
                    "data": {
                        "text/html": "Total execution time: 00:00:00.022"
                    },
                    "metadata": {}
                },
                {
                    "output_type": "execute_result",
                    "metadata": {},
                    "execution_count": 64,
                    "data": {
                        "application/vnd.dataresource+json": {
                            "schema": {
                                "fields": [
                                    {
                                        "name": "FirstName"
                                    }
                                ]
                            },
                            "data": [
                                {
                                    "0": "Amy"
                                },
                                {
                                    "0": "Anna"
                                },
                                {
                                    "0": "Daniel"
                                },
                                {
                                    "0": "Douglas"
                                },
                                {
                                    "0": "Alberto"
                                }
                            ]
                        },
                        "text/html": [
                            "<table>",
                            "<tr><th>FirstName</th></tr>",
                            "<tr><td>Amy</td></tr>",
                            "<tr><td>Anna</td></tr>",
                            "<tr><td>Daniel</td></tr>",
                            "<tr><td>Douglas</td></tr>",
                            "<tr><td>Alberto</td></tr>",
                            "</table>"
                        ]
                    }
                }
            ],
            "execution_count": 64
        },
        {
            "cell_type": "code",
            "source": [
                "--Para eliminarla\n",
                "DROP VIEW IF EXISTS test_view;"
            ],
            "metadata": {
                "language": "sql",
                "azdata_cell_guid": "7c2339ff-c583-4473-9334-c119b31811c4"
            },
            "outputs": [
                {
                    "output_type": "display_data",
                    "data": {
                        "text/html": "Commands completed successfully."
                    },
                    "metadata": {}
                },
                {
                    "output_type": "display_data",
                    "data": {
                        "text/html": "Total execution time: 00:00:00.010"
                    },
                    "metadata": {}
                }
            ],
            "execution_count": 65
        },
        {
            "cell_type": "markdown",
            "source": [
                "**12 - Crear una vista donde se muestren los datos de los empleados cuyo cumpleaños sea el dia de \"hoy\", Mostrando la fecha de nacimiento con el formato análogo a “15/11/2021”.**"
            ],
            "metadata": {
                "language": "sql",
                "azdata_cell_guid": "5ffc28ce-4a2d-46e6-a4db-bfa83cbdb9b3"
            },
            "attachments": {}
        },
        {
            "cell_type": "code",
            "source": [
                "CREATE VIEW birthday_view AS\n",
                "SELECT FORMAT(hre.BirthDate, 'dd/MM/yyyy') AS BirthDay, pc.*\n",
                "FROM HumanResources.Employee hre\n",
                "JOIN Person.Contact pc\n",
                "      ON pc.ContactID = hre.ContactID\n",
                "WHERE (MONTH(hre.BirthDate) = MONTH(GETDATE()) AND DAY(hre.BirthDate) = DAY(GETDATE())) OR\n",
                "      (FORMAT(hre.BirthDate, 'dd/MM') = '29/02' AND FORMAT(GETDATE(), 'dd/MM') = '01/03');"
            ],
            "metadata": {
                "language": "sql",
                "azdata_cell_guid": "530e2daa-3b89-4705-a4e1-14bb6a16c303",
                "tags": []
            },
            "outputs": [
                {
                    "output_type": "display_data",
                    "data": {
                        "text/html": "Commands completed successfully."
                    },
                    "metadata": {}
                },
                {
                    "output_type": "display_data",
                    "data": {
                        "text/html": "Total execution time: 00:00:00.011"
                    },
                    "metadata": {}
                }
            ],
            "execution_count": 96
        },
        {
            "cell_type": "code",
            "source": [
                "--Chequeo que está\n",
                "SELECT *\n",
                "FROM birthday_view;"
            ],
            "metadata": {
                "language": "sql",
                "azdata_cell_guid": "f43a56ae-5ed4-4dc2-9476-e28ecbd9d910",
                "tags": []
            },
            "outputs": [
                {
                    "output_type": "display_data",
                    "data": {
                        "text/html": "(2 rows affected)"
                    },
                    "metadata": {}
                },
                {
                    "output_type": "display_data",
                    "data": {
                        "text/html": "Total execution time: 00:00:00.116"
                    },
                    "metadata": {}
                },
                {
                    "output_type": "execute_result",
                    "metadata": {},
                    "execution_count": 97,
                    "data": {
                        "application/vnd.dataresource+json": {
                            "schema": {
                                "fields": [
                                    {
                                        "name": "BirthDay"
                                    },
                                    {
                                        "name": "ContactID"
                                    },
                                    {
                                        "name": "NameStyle"
                                    },
                                    {
                                        "name": "Title"
                                    },
                                    {
                                        "name": "FirstName"
                                    },
                                    {
                                        "name": "MiddleName"
                                    },
                                    {
                                        "name": "LastName"
                                    },
                                    {
                                        "name": "Suffix"
                                    },
                                    {
                                        "name": "EmailAddress"
                                    },
                                    {
                                        "name": "EmailPromotion"
                                    },
                                    {
                                        "name": "Phone"
                                    },
                                    {
                                        "name": "PasswordHash"
                                    },
                                    {
                                        "name": "PasswordSalt"
                                    },
                                    {
                                        "name": "AdditionalContactInfo"
                                    },
                                    {
                                        "name": "rowguid"
                                    },
                                    {
                                        "name": "ModifiedDate"
                                    }
                                ]
                            },
                            "data": [
                                {
                                    "0": "01/06/1974",
                                    "1": "1286",
                                    "2": "0",
                                    "3": "NULL",
                                    "4": "Kim",
                                    "5": "T",
                                    "6": "Ralls",
                                    "7": "NULL",
                                    "8": "kim0@adventure-works.com",
                                    "9": "2",
                                    "10": "309-555-0129",
                                    "11": "+VjdxFESErROmRQkb/z7zfADRHKgyWA1ZBmGI89+Gpo=",
                                    "12": "rJYW3u4=",
                                    "13": "NULL",
                                    "14": "7ab39816-ff5a-4f3d-a3dc-88d906ec054f",
                                    "15": "1999-01-20 00:00:00.000"
                                },
                                {
                                    "0": "01/06/1943",
                                    "1": "1093",
                                    "2": "0",
                                    "3": "NULL",
                                    "4": "Prasanna",
                                    "5": "E",
                                    "6": "Samarawickrama",
                                    "7": "NULL",
                                    "8": "prasanna0@adventure-works.com",
                                    "9": "1",
                                    "10": "129-555-0199",
                                    "11": "2u5E5B9OVe0NyB6SRbL4mcEXMpH28+5jvZzEc439Un4=",
                                    "12": "1EleEGU=",
                                    "13": "NULL",
                                    "14": "e8673e92-31f6-42f4-a65c-a595d3f899f6",
                                    "15": "2000-02-16 00:00:00.000"
                                }
                            ]
                        },
                        "text/html": [
                            "<table>",
                            "<tr><th>BirthDay</th><th>ContactID</th><th>NameStyle</th><th>Title</th><th>FirstName</th><th>MiddleName</th><th>LastName</th><th>Suffix</th><th>EmailAddress</th><th>EmailPromotion</th><th>Phone</th><th>PasswordHash</th><th>PasswordSalt</th><th>AdditionalContactInfo</th><th>rowguid</th><th>ModifiedDate</th></tr>",
                            "<tr><td>01/06/1974</td><td>1286</td><td>0</td><td>NULL</td><td>Kim</td><td>T</td><td>Ralls</td><td>NULL</td><td>kim0@adventure-works.com</td><td>2</td><td>309-555-0129</td><td>+VjdxFESErROmRQkb/z7zfADRHKgyWA1ZBmGI89+Gpo=</td><td>rJYW3u4=</td><td>NULL</td><td>7ab39816-ff5a-4f3d-a3dc-88d906ec054f</td><td>1999-01-20 00:00:00.000</td></tr>",
                            "<tr><td>01/06/1943</td><td>1093</td><td>0</td><td>NULL</td><td>Prasanna</td><td>E</td><td>Samarawickrama</td><td>NULL</td><td>prasanna0@adventure-works.com</td><td>1</td><td>129-555-0199</td><td>2u5E5B9OVe0NyB6SRbL4mcEXMpH28+5jvZzEc439Un4=</td><td>1EleEGU=</td><td>NULL</td><td>e8673e92-31f6-42f4-a65c-a595d3f899f6</td><td>2000-02-16 00:00:00.000</td></tr>",
                            "</table>"
                        ]
                    }
                }
            ],
            "execution_count": 97
        },
        {
            "cell_type": "code",
            "source": [
                "--P Borrar\n",
                "DROP VIEW IF EXISTS birthday_view;"
            ],
            "metadata": {
                "language": "sql",
                "azdata_cell_guid": "3091207e-d8bf-4654-9b37-7ac41f3666a7"
            },
            "outputs": [
                {
                    "output_type": "display_data",
                    "data": {
                        "text/html": "Commands completed successfully."
                    },
                    "metadata": {}
                },
                {
                    "output_type": "display_data",
                    "data": {
                        "text/html": "Total execution time: 00:00:00.010"
                    },
                    "metadata": {}
                }
            ],
            "execution_count": 95
        },
        {
            "cell_type": "markdown",
            "source": [
                "***\n",
                "**12bis - A partir de la tabla SalesOrderHeader, Crear un Stored Procedure donde se muestren el dinero recaudado entre 2 fechas que se ingresaran por parametro.**\n",
                ""
            ],
            "metadata": {
                "language": "sql",
                "azdata_cell_guid": "59cb5e47-9c3b-4a14-a62d-3a6ca57cf45d"
            },
            "attachments": {}
        },
        {
            "cell_type": "code",
            "source": [
                ""
            ],
            "metadata": {
                "language": "sql",
                "azdata_cell_guid": "0193aa2d-6d52-49c7-92ae-f2af6f28e643"
            },
            "outputs": [],
            "execution_count": null
        },
        {
            "cell_type": "markdown",
            "source": [
                "***\n",
                "**13 - Traer el nombre de las tablas pertenecientes al esquema Production.**"
            ],
            "metadata": {
                "language": "sql",
                "azdata_cell_guid": "bd0f28ff-3854-4c60-aad5-da14181ba802"
            },
            "attachments": {}
        },
        {
            "cell_type": "markdown",
            "source": [
                "***\n",
                "**14 - Traer por codigo la query utilizada para crear la vista correspondiente al punto 11.**"
            ],
            "metadata": {
                "language": "sql",
                "azdata_cell_guid": "382da65f-ef32-4e92-8450-b9bbf48eefea"
            },
            "attachments": {}
        },
        {
            "cell_type": "markdown",
            "source": [
                "**15 - Traer por interfaz la query utilizada para crear la tabla Person.Contact.**"
            ],
            "metadata": {
                "language": "sql",
                "azdata_cell_guid": "78e272aa-3ddb-488a-a83f-5fccefef3406"
            },
            "attachments": {}
        },
        {
            "cell_type": "markdown",
            "source": [
                "***\n",
                "**16 - Traer por Codigo la query utilizada para crear la tabla Person.Contact.**"
            ],
            "metadata": {
                "language": "sql",
                "azdata_cell_guid": "d4d836ef-701f-4932-9185-22fbb4167d3c"
            },
            "attachments": {}
        }
    ]
}