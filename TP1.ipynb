{
 "cells": [
  {
   "cell_type": "markdown",
   "metadata": {
    "azdata_cell_guid": "1d741d45-f443-4a2a-aef3-7ba80df67d26"
   },
   "source": [
    "# TP1 - SQL"
   ]
  },
  {
   "cell_type": "markdown",
   "metadata": {
    "azdata_cell_guid": "2619b433-ed6c-42b3-944c-5f5ec7a6f33d"
   },
   "source": [
    "***\n",
    "**1. De la tabla [Person].[Contact], mostrar todos los datos de la tabla, ordenando por Apellido ascendente y nombre descendente.**"
   ]
  },
  {
   "cell_type": "code",
   "execution_count": null,
   "metadata": {
    "azdata_cell_guid": "99cb64a3-07cb-4f43-a257-9076a59b0ecb",
    "language": "sql",
    "tags": []
   },
   "outputs": [],
   "source": [
    "SELECT *\n",
    "FROM Person.Contact\n",
    "ORDER BY LastName, FirstName DESC;"
   ]
  },
  {
   "cell_type": "markdown",
   "metadata": {
    "azdata_cell_guid": "46c791f0-575d-4449-8269-627b029d63da",
    "language": "sql"
   },
   "source": [
    "***\n",
    "**2. De la tabla [Person].[Contact], muestre los nombres de las personas que comienzan con 'D' o que comienzan con \"A\", ordenado alfabéticamente.**"
   ]
  },
  {
   "cell_type": "code",
   "execution_count": null,
   "metadata": {
    "azdata_cell_guid": "86f18309-5eb7-4239-9239-fe1f4497a2b5",
    "language": "sql",
    "tags": []
   },
   "outputs": [],
   "source": [
    "SELECT pc.FirstName\n",
    "FROM Person.Contact AS pc\n",
    "WHERE pc.FirstName LIKE 'D%' OR pc.FirstName LIKE 'A%'\n",
    "ORDER BY 1;"
   ]
  },
  {
   "cell_type": "markdown",
   "metadata": {
    "azdata_cell_guid": "6806505c-366e-4fdf-879f-cb5d66683287",
    "language": "sql"
   },
   "source": [
    "***\n",
    "**3 - De la tabla [Person].[Contact],muestra todos los registros que se modificaron después del 1/1/2013.**"
   ]
  },
  {
   "cell_type": "code",
   "execution_count": null,
   "metadata": {
    "azdata_cell_guid": "c8989d28-1f38-4036-9656-d76d3985bb50",
    "language": "sql",
    "tags": []
   },
   "outputs": [],
   "source": [
    "--Modifico año a 2003 porque las modificacines van entre 1997 y 2005\n",
    "SELECT *\n",
    "FROM Person.Contact \n",
    "WHERE ModifiedDate > '01-01-2003';"
   ]
  },
  {
   "cell_type": "markdown",
   "metadata": {
    "azdata_cell_guid": "3df1b79d-ec6c-45d5-a886-5be2c7018aab",
    "language": "sql"
   },
   "source": [
    "***\n",
    "**4 - De la tabla [Person]. [Address], muestre los nombres de las ciudades sin repetirlos.**"
   ]
  },
  {
   "cell_type": "code",
   "execution_count": null,
   "metadata": {
    "azdata_cell_guid": "3eb3731d-fb3c-4c53-97db-17328cf519d2",
    "language": "sql"
   },
   "outputs": [],
   "source": [
    "SELECT DISTINCT City \n",
    "FROM Person.Address;"
   ]
  },
  {
   "cell_type": "markdown",
   "metadata": {
    "azdata_cell_guid": "9e282db5-f8c6-4e8e-b013-473e0d70cd1f",
    "language": "sql"
   },
   "source": [
    "***\n",
    "**5 - Mostrar la cantidad de ventas que se realizaron con cada tipo de tarjetas de credito (se deben trabajar las tablas SalesOrderHeader y CreditCard).**"
   ]
  },
  {
   "cell_type": "code",
   "execution_count": null,
   "metadata": {
    "azdata_cell_guid": "c59daa33-0d50-4066-9c6f-0eaf9319dabb",
    "language": "sql",
    "tags": []
   },
   "outputs": [],
   "source": [
    "SELECT cc.CardType, COUNT(*) AS cantidad_ventas\n",
    "FROM Sales.SalesOrderHeader soh\n",
    "JOIN Sales.CreditCard cc\n",
    "    ON  soh.CreditCardID = cc.CreditCardID\n",
    "GROUP BY cc.CardType;"
   ]
  },
  {
   "cell_type": "code",
   "execution_count": null,
   "metadata": {
    "azdata_cell_guid": "fac89ff2-e213-4cd5-90db-c66bbb053867",
    "language": "sql"
   },
   "outputs": [],
   "source": [
    "-- Verifico que coincide con el total de ventas con tarjeta y que hay ventas sin tarjeta\n",
    "SELECT COUNT(*) num_vtas_con_tarjeta\n",
    "FROM  Sales.SalesOrderHeader\n",
    "WHERE CreditCardID IS NOT NULL;\n",
    "\n",
    "SELECT COUNT(*) num_vtas_sin_tarjeta\n",
    "FROM  Sales.SalesOrderHeader\n",
    "WHERE CreditCardID IS NULL;\n",
    "\n",
    "SELECT COUNT(*) num_vtas_total\n",
    "FROM  Sales.SalesOrderHeader;"
   ]
  },
  {
   "cell_type": "markdown",
   "metadata": {
    "azdata_cell_guid": "c6f6fed6-2687-4439-ac37-fd75c5cb2df7"
   },
   "source": [
    "***\n",
    "**6 - De la tabla [Sales]. [CreditCard], muestre todas las tarjetas con un año de vencimiento anterior al 2018.**"
   ]
  },
  {
   "cell_type": "code",
   "execution_count": null,
   "metadata": {
    "azdata_cell_guid": "c3a1c497-9a79-4349-9fba-8f9f82913a1c",
    "language": "sql"
   },
   "outputs": [],
   "source": [
    "-- Reemplazo 2018 por 2006 porque los vencimientos van entre 2005 y 2008\n",
    "SELECT *\n",
    "FROM Sales.CreditCard\n",
    "WHERE ExpYear < '2006';"
   ]
  },
  {
   "cell_type": "markdown",
   "metadata": {
    "azdata_cell_guid": "f8d0afa1-9135-4959-9780-1e8c28d0409d"
   },
   "source": [
    "***\n",
    "**7 - Traer de la tabla Person.Contact los datos de contacto de todos los que NO son empleados (HumanResources.Employee)**"
   ]
  },
  {
   "cell_type": "code",
   "execution_count": null,
   "metadata": {
    "azdata_cell_guid": "2d52fab7-0066-4bd8-afed-d579845988a9",
    "language": "sql",
    "tags": []
   },
   "outputs": [],
   "source": [
    "SELECT pc.*\n",
    "FROM Person.Contact pc\n",
    "LEFT JOIN HumanResources.Employee hre\n",
    "    ON pc.ContactID = hre.ContactID\n",
    "WHERE hre.ContactID IS NULL;"
   ]
  },
  {
   "cell_type": "markdown",
   "metadata": {
    "azdata_cell_guid": "f9072234-0057-43f5-b112-d06aa6262729"
   },
   "source": [
    "***\n",
    "8 - Crear una tabla [Test].[Tarjetas_vencidas] y cargar en la misma el resultado de la consulta 7"
   ]
  },
  {
   "cell_type": "code",
   "execution_count": null,
   "metadata": {
    "azdata_cell_guid": "a4f52fb3-0c23-48b4-9546-a4f88348336b",
    "language": "sql",
    "tags": []
   },
   "outputs": [],
   "source": [
    "-- Asumo que se refiere a la consulta 6\n",
    "-- Evito notación punto ara no tener que crear una schema.\n",
    "SELECT *\n",
    "INTO Test_Tarjetas_vencidas \n",
    "FROM Sales.CreditCard   \n",
    "WHERE ExpYear < '2006';"
   ]
  },
  {
   "cell_type": "code",
   "execution_count": null,
   "metadata": {
    "azdata_cell_guid": "46df9914-dc89-4376-85f5-153689097458",
    "language": "sql"
   },
   "outputs": [],
   "source": [
    "--Verifico\n",
    "SELECT TOP(5) *\n",
    "FROM Test_Tarjetas_vencidas;"
   ]
  },
  {
   "cell_type": "markdown",
   "metadata": {
    "azdata_cell_guid": "16ebc095-98b1-426d-9800-1de5140193b4"
   },
   "source": [
    "***\n",
    "9 - En la tabla [Test].[Tarjetas_vencidas] crear una nueva columna \"bandera\" con tipo int"
   ]
  },
  {
   "cell_type": "code",
   "execution_count": null,
   "metadata": {
    "azdata_cell_guid": "27efe684-57ee-464a-865a-9d5c7109c027",
    "language": "sql"
   },
   "outputs": [],
   "source": [
    "-- Uso 0 como valor default\n",
    "ALTER TABLE Test_Tarjetas_vencidas ADD bandera INT NOT NULL DEFAULT(0);"
   ]
  },
  {
   "cell_type": "code",
   "execution_count": null,
   "metadata": {
    "azdata_cell_guid": "f3570147-18bb-4608-ad3c-a5be48a15e9b",
    "language": "sql"
   },
   "outputs": [],
   "source": [
    "--Verifico\n",
    "SELECT TOP(5) *\n",
    "FROM Test_Tarjetas_vencidas;"
   ]
  },
  {
   "cell_type": "markdown",
   "metadata": {
    "azdata_cell_guid": "330d079e-7ddf-4f57-90d2-fa2e36be7eef"
   },
   "source": [
    "***\n",
    "10 - Actualizar la tabla Test.Tarjetas_vencidas y dar valor 1 a la columna \"bandera\" cuando el vencimiento anterior del año 2015"
   ]
  },
  {
   "cell_type": "code",
   "execution_count": null,
   "metadata": {
    "azdata_cell_guid": "718acc09-604d-4292-a250-b92067570076",
    "language": "sql",
    "tags": []
   },
   "outputs": [],
   "source": [
    "--Elijo 2006 en lugar de 2015 porque los vencimientos van entre 2005 y 2008\n",
    "UPDATE Test_Tarjetas_vencidas\n",
    "SET bandera = 1\n",
    "WHERE ExpYear < '2006';"
   ]
  },
  {
   "cell_type": "code",
   "execution_count": null,
   "metadata": {
    "azdata_cell_guid": "e2dff41f-9599-4f1c-bc81-565626ac53af",
    "language": "sql"
   },
   "outputs": [],
   "source": [
    "--Verifico\n",
    "SELECT TOP(5) *\n",
    "FROM Test_Tarjetas_vencidas\n",
    "ORDER BY bandera DESC;"
   ]
  },
  {
   "cell_type": "code",
   "execution_count": null,
   "metadata": {
    "azdata_cell_guid": "376a15e9-2916-4a4e-9037-1453fb2459b3",
    "language": "sql"
   },
   "outputs": [],
   "source": [
    "--Para eliminarla\n",
    "DROP TABLE Test_Tarjetas_vencidas;"
   ]
  },
  {
   "cell_type": "markdown",
   "metadata": {
    "azdata_cell_guid": "7aefd305-9c48-4719-8e82-456e9ac161c5",
    "language": "sql"
   },
   "source": [
    "***\n",
    "**11 - crear una vista donde se muestre lo desarrollado en el punto 2.**"
   ]
  },
  {
   "cell_type": "code",
   "execution_count": null,
   "metadata": {
    "azdata_cell_guid": "6c81717c-5721-441e-9646-2bd24b553f0e",
    "language": "sql",
    "tags": []
   },
   "outputs": [],
   "source": [
    "CREATE VIEW test_view\n",
    "AS SELECT pc.FirstName\n",
    "FROM person.Contact AS pc\n",
    "WHERE pc.FirstName LIKE 'D%' or pc.FirstName LIKE 'A%';"
   ]
  },
  {
   "cell_type": "code",
   "execution_count": null,
   "metadata": {
    "azdata_cell_guid": "e5829846-61e7-4435-ac15-97e75f29660d",
    "language": "sql"
   },
   "outputs": [],
   "source": [
    "--Chequeo que está\n",
    "SELECT TOP(5) *\n",
    "FROM test_view;"
   ]
  },
  {
   "cell_type": "code",
   "execution_count": null,
   "metadata": {
    "azdata_cell_guid": "7c2339ff-c583-4473-9334-c119b31811c4",
    "language": "sql"
   },
   "outputs": [],
   "source": [
    "--Para eliminarla\n",
    "DROP VIEW IF EXISTS test_view;"
   ]
  },
  {
   "cell_type": "markdown",
   "metadata": {
    "azdata_cell_guid": "5ffc28ce-4a2d-46e6-a4db-bfa83cbdb9b3",
    "language": "sql"
   },
   "source": [
    "**12 - Crear una vista donde se muestren los datos de los empleados cuyo cumpleaños sea el dia de \"hoy\", Mostrando la fecha de nacimiento con el formato análogo a “15/11/2021”.**"
   ]
  },
  {
   "cell_type": "code",
   "execution_count": null,
   "metadata": {
    "azdata_cell_guid": "530e2daa-3b89-4705-a4e1-14bb6a16c303",
    "language": "sql",
    "tags": []
   },
   "outputs": [],
   "source": [
    "CREATE VIEW birthday_view AS\n",
    "SELECT FORMAT(hre.BirthDate, 'dd/MM/yyyy') AS BirthDay, pc.*\n",
    "FROM HumanResources.Employee hre\n",
    "JOIN Person.Contact pc\n",
    "      ON pc.ContactID = hre.ContactID\n",
    "WHERE (MONTH(hre.BirthDate) = MONTH(GETDATE()) AND DAY(hre.BirthDate) = DAY(GETDATE())) OR\n",
    "      (FORMAT(hre.BirthDate, 'dd/MM') = '29/02' AND FORMAT(GETDATE(), 'dd/MM') = '01/03');"
   ]
  },
  {
   "cell_type": "code",
   "execution_count": null,
   "metadata": {
    "azdata_cell_guid": "f43a56ae-5ed4-4dc2-9476-e28ecbd9d910",
    "language": "sql",
    "tags": []
   },
   "outputs": [],
   "source": [
    "--Chequeo que está\n",
    "SELECT *\n",
    "FROM birthday_view;"
   ]
  },
  {
   "cell_type": "code",
   "execution_count": null,
   "metadata": {
    "azdata_cell_guid": "3091207e-d8bf-4654-9b37-7ac41f3666a7",
    "language": "sql"
   },
   "outputs": [],
   "source": [
    "--P Borrar\n",
    "DROP VIEW IF EXISTS birthday_view;"
   ]
  },
  {
   "cell_type": "markdown",
   "metadata": {
    "azdata_cell_guid": "59cb5e47-9c3b-4a14-a62d-3a6ca57cf45d",
    "language": "sql"
   },
   "source": [
    "***\n",
    "**12bis - A partir de la tabla SalesOrderHeader, Crear un Stored Procedure donde se muestren el dinero recaudado entre 2 fechas que se ingresaran por parametro.**\n"
   ]
  },
  {
   "cell_type": "code",
   "execution_count": null,
   "metadata": {
    "azdata_cell_guid": "0193aa2d-6d52-49c7-92ae-f2af6f28e643",
    "language": "sql"
   },
   "outputs": [],
   "source": []
  },
  {
   "cell_type": "markdown",
   "metadata": {
    "azdata_cell_guid": "bd0f28ff-3854-4c60-aad5-da14181ba802",
    "language": "sql"
   },
   "source": [
    "***\n",
    "**13 - Traer el nombre de las tablas pertenecientes al esquema Production.**"
   ]
  },
  {
   "cell_type": "markdown",
   "metadata": {
    "azdata_cell_guid": "382da65f-ef32-4e92-8450-b9bbf48eefea",
    "language": "sql"
   },
   "source": [
    "***\n",
    "**14 - Traer por codigo la query utilizada para crear la vista correspondiente al punto 11.**"
   ]
  },
  {
   "cell_type": "markdown",
   "metadata": {
    "azdata_cell_guid": "78e272aa-3ddb-488a-a83f-5fccefef3406",
    "language": "sql"
   },
   "source": [
    "**15 - Traer por interfaz la query utilizada para crear la tabla Person.Contact.**"
   ]
  },
  {
   "cell_type": "markdown",
   "metadata": {
    "azdata_cell_guid": "d4d836ef-701f-4932-9185-22fbb4167d3c",
    "language": "sql"
   },
   "source": [
    "***\n",
    "**16 - Traer por Codigo la query utilizada para crear la tabla Person.Contact.**"
   ]
  }
 ],
 "metadata": {
  "kernelspec": {
   "display_name": "Python 3 (ipykernel)",
   "language": "python",
   "name": "python3"
  },
  "language_info": {
   "codemirror_mode": {
    "name": "ipython",
    "version": 3
   },
   "file_extension": ".py",
   "mimetype": "text/x-python",
   "name": "python",
   "nbconvert_exporter": "python",
   "pygments_lexer": "ipython3",
   "version": "3.9.7"
  }
 },
 "nbformat": 4,
 "nbformat_minor": 4
}
